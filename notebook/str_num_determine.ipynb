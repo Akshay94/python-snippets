{
 "cells": [
  {
   "cell_type": "code",
   "execution_count": 1,
   "metadata": {},
   "outputs": [
    {
     "name": "stdout",
     "output_type": "stream",
     "text": [
      "s = 1234567890\n",
      "isdecimal: True\n",
      "isdigit: True\n",
      "isnumeric: True\n"
     ]
    }
   ],
   "source": [
    "s = '1234567890'\n",
    "print('s =', s)\n",
    "print('isdecimal:', s.isdecimal())\n",
    "print('isdigit:', s.isdigit())\n",
    "print('isnumeric:', s.isnumeric())"
   ]
  },
  {
   "cell_type": "code",
   "execution_count": 2,
   "metadata": {},
   "outputs": [
    {
     "name": "stdout",
     "output_type": "stream",
     "text": [
      "s = １２３４５６７８９０\n",
      "isdecimal: True\n",
      "isdigit: True\n",
      "isnumeric: True\n"
     ]
    }
   ],
   "source": [
    "s = '１２３４５６７８９０'\n",
    "print('s =', s)\n",
    "print('isdecimal:', s.isdecimal())\n",
    "print('isdigit:', s.isdigit())\n",
    "print('isnumeric:', s.isnumeric())"
   ]
  },
  {
   "cell_type": "code",
   "execution_count": 3,
   "metadata": {},
   "outputs": [
    {
     "name": "stdout",
     "output_type": "stream",
     "text": [
      "s = ²\n",
      "isdecimal: False\n",
      "isdigit: True\n",
      "isnumeric: True\n"
     ]
    }
   ],
   "source": [
    "s = '\\u00B2'\n",
    "print('s =', s)\n",
    "print('isdecimal:', s.isdecimal())\n",
    "print('isdigit:', s.isdigit())\n",
    "print('isnumeric:', s.isnumeric())"
   ]
  },
  {
   "cell_type": "code",
   "execution_count": 4,
   "metadata": {},
   "outputs": [
    {
     "name": "stdout",
     "output_type": "stream",
     "text": [
      "s = 一二三四五六七八九〇\n",
      "isdecimal: False\n",
      "isdigit: False\n",
      "isnumeric: True\n"
     ]
    }
   ],
   "source": [
    "s = '一二三四五六七八九〇'\n",
    "print('s =', s)\n",
    "print('isdecimal:', s.isdecimal())\n",
    "print('isdigit:', s.isdigit())\n",
    "print('isnumeric:', s.isnumeric())"
   ]
  },
  {
   "cell_type": "code",
   "execution_count": 5,
   "metadata": {},
   "outputs": [
    {
     "name": "stdout",
     "output_type": "stream",
     "text": [
      "s = 壱億参阡萬\n",
      "isdecimal: False\n",
      "isdigit: False\n",
      "isnumeric: True\n"
     ]
    }
   ],
   "source": [
    "s = '壱億参阡萬'\n",
    "print('s =', s)\n",
    "print('isdecimal:', s.isdecimal())\n",
    "print('isdigit:', s.isdigit())\n",
    "print('isnumeric:', s.isnumeric())"
   ]
  },
  {
   "cell_type": "code",
   "execution_count": 6,
   "metadata": {},
   "outputs": [
    {
     "name": "stdout",
     "output_type": "stream",
     "text": [
      "s = abc\n",
      "isalpha: True\n"
     ]
    }
   ],
   "source": [
    "s = 'abc'\n",
    "print('s =', s)\n",
    "print('isalpha:', s.isalpha())"
   ]
  },
  {
   "cell_type": "code",
   "execution_count": 7,
   "metadata": {},
   "outputs": [
    {
     "name": "stdout",
     "output_type": "stream",
     "text": [
      "s = あいうえお\n",
      "isalpha: True\n"
     ]
    }
   ],
   "source": [
    "s = 'あいうえお'\n",
    "print('s =', s)\n",
    "print('isalpha:', s.isalpha())"
   ]
  },
  {
   "cell_type": "code",
   "execution_count": 8,
   "metadata": {},
   "outputs": [
    {
     "name": "stdout",
     "output_type": "stream",
     "text": [
      "s = アイウエオ\n",
      "isalpha: True\n"
     ]
    }
   ],
   "source": [
    "s = 'アイウエオ'\n",
    "print('s =', s)\n",
    "print('isalpha:', s.isalpha())"
   ]
  },
  {
   "cell_type": "code",
   "execution_count": 9,
   "metadata": {},
   "outputs": [
    {
     "name": "stdout",
     "output_type": "stream",
     "text": [
      "s = 漢字\n",
      "isalpha: True\n"
     ]
    }
   ],
   "source": [
    "s = '漢字'\n",
    "print('s =', s)\n",
    "print('isalpha:', s.isalpha())"
   ]
  },
  {
   "cell_type": "code",
   "execution_count": 10,
   "metadata": {},
   "outputs": [
    {
     "name": "stdout",
     "output_type": "stream",
     "text": [
      "s = 1234567890\n",
      "isalpha: False\n"
     ]
    }
   ],
   "source": [
    "s = '1234567890'\n",
    "print('s =', s)\n",
    "print('isalpha:', s.isalpha())"
   ]
  },
  {
   "cell_type": "code",
   "execution_count": 11,
   "metadata": {},
   "outputs": [
    {
     "name": "stdout",
     "output_type": "stream",
     "text": [
      "s = １２３４５６７８９０\n",
      "isalpha: False\n"
     ]
    }
   ],
   "source": [
    "s = '１２３４５６７８９０'\n",
    "print('s =', s)\n",
    "print('isalpha:', s.isalpha())"
   ]
  },
  {
   "cell_type": "code",
   "execution_count": 12,
   "metadata": {},
   "outputs": [
    {
     "name": "stdout",
     "output_type": "stream",
     "text": [
      "s = 一二三四五六七八九\n",
      "isalpha: True\n"
     ]
    }
   ],
   "source": [
    "s = '一二三四五六七八九'\n",
    "print('s =', s)\n",
    "print('isalpha:', s.isalpha())"
   ]
  },
  {
   "cell_type": "code",
   "execution_count": 13,
   "metadata": {},
   "outputs": [
    {
     "name": "stdout",
     "output_type": "stream",
     "text": [
      "s = 壱億参阡萬\n",
      "isalpha: True\n"
     ]
    }
   ],
   "source": [
    "s = '壱億参阡萬'\n",
    "print('s =', s)\n",
    "print('isalpha:', s.isalpha())"
   ]
  },
  {
   "cell_type": "code",
   "execution_count": 14,
   "metadata": {},
   "outputs": [
    {
     "name": "stdout",
     "output_type": "stream",
     "text": [
      "s = 〇\n",
      "isalpha: False\n"
     ]
    }
   ],
   "source": [
    "s = '〇'\n",
    "print('s =', s)\n",
    "print('isalpha:', s.isalpha())"
   ]
  },
  {
   "cell_type": "code",
   "execution_count": 15,
   "metadata": {},
   "outputs": [
    {
     "name": "stdout",
     "output_type": "stream",
     "text": [
      "s = abc100\n",
      "isalnum: True\n",
      "isalpha: False\n",
      "isdecimal: False\n",
      "isdigit: False\n",
      "isnumeric: False\n"
     ]
    }
   ],
   "source": [
    "s = 'abc100'\n",
    "print('s =', s)\n",
    "print('isalnum:', s.isalnum())\n",
    "print('isalpha:', s.isalpha())\n",
    "print('isdecimal:', s.isdecimal())\n",
    "print('isdigit:', s.isdigit())\n",
    "print('isnumeric:', s.isnumeric())"
   ]
  },
  {
   "cell_type": "code",
   "execution_count": 16,
   "metadata": {},
   "outputs": [
    {
     "name": "stdout",
     "output_type": "stream",
     "text": [
      "s = \n",
      "isalnum: False\n",
      "isalpha: False\n",
      "isdecimal: False\n",
      "isdigit: False\n",
      "isnumeric: False\n"
     ]
    }
   ],
   "source": [
    "s = ''\n",
    "print('s =', s)\n",
    "print('isalnum:', s.isalnum())\n",
    "print('isalpha:', s.isalpha())\n",
    "print('isdecimal:', s.isdecimal())\n",
    "print('isdigit:', s.isdigit())\n",
    "print('isnumeric:', s.isnumeric())"
   ]
  },
  {
   "cell_type": "code",
   "execution_count": 17,
   "metadata": {},
   "outputs": [
    {
     "name": "stdout",
     "output_type": "stream",
     "text": [
      "s = 10,000,000\n",
      "isalnum: False\n",
      "isalpha: False\n",
      "isdigit: False\n",
      "isdecimal: False\n",
      "isnumeric: False\n"
     ]
    }
   ],
   "source": [
    "s = '10,000,000'\n",
    "print('s =', s)\n",
    "print('isalnum:', s.isalnum())\n",
    "print('isalpha:', s.isalpha())\n",
    "print('isdigit:', s.isdigit())\n",
    "print('isdecimal:', s.isdecimal())\n",
    "print('isnumeric:', s.isnumeric())"
   ]
  },
  {
   "cell_type": "code",
   "execution_count": 18,
   "metadata": {},
   "outputs": [
    {
     "name": "stdout",
     "output_type": "stream",
     "text": [
      "s = 1.23\n",
      "isalnum: False\n",
      "isalpha: False\n",
      "isdigit: False\n",
      "isdecimal: False\n",
      "isnumeric: False\n"
     ]
    }
   ],
   "source": [
    "s = '1.23'\n",
    "print('s =', s)\n",
    "print('isalnum:', s.isalnum())\n",
    "print('isalpha:', s.isalpha())\n",
    "print('isdigit:', s.isdigit())\n",
    "print('isdecimal:', s.isdecimal())\n",
    "print('isnumeric:', s.isnumeric())"
   ]
  },
  {
   "cell_type": "code",
   "execution_count": 19,
   "metadata": {},
   "outputs": [
    {
     "name": "stdout",
     "output_type": "stream",
     "text": [
      "s = -100\n",
      "isalnum: False\n",
      "isalpha: False\n",
      "isdigit: False\n",
      "isdecimal: False\n",
      "isnumeric: False\n"
     ]
    }
   ],
   "source": [
    "s = '-100'\n",
    "print('s =', s)\n",
    "print('isalnum:', s.isalnum())\n",
    "print('isalpha:', s.isalpha())\n",
    "print('isdigit:', s.isdigit())\n",
    "print('isdecimal:', s.isdecimal())\n",
    "print('isnumeric:', s.isnumeric())"
   ]
  },
  {
   "cell_type": "code",
   "execution_count": 20,
   "metadata": {
    "collapsed": true
   },
   "outputs": [],
   "source": [
    "def is_num(s):\n",
    "    return s.replace(',', '').replace('.', '').replace('-', '').isnumeric()"
   ]
  },
  {
   "cell_type": "code",
   "execution_count": 21,
   "metadata": {},
   "outputs": [
    {
     "name": "stdout",
     "output_type": "stream",
     "text": [
      "True\n"
     ]
    }
   ],
   "source": [
    "print(is_num('-1.23'))"
   ]
  },
  {
   "cell_type": "code",
   "execution_count": 22,
   "metadata": {},
   "outputs": [
    {
     "name": "stdout",
     "output_type": "stream",
     "text": [
      "True\n"
     ]
    }
   ],
   "source": [
    "print(is_num('10,000,000'))"
   ]
  },
  {
   "cell_type": "code",
   "execution_count": 23,
   "metadata": {},
   "outputs": [
    {
     "name": "stdout",
     "output_type": "stream",
     "text": [
      "True\n"
     ]
    }
   ],
   "source": [
    "print(is_num('128.0.0.0'))"
   ]
  },
  {
   "cell_type": "code",
   "execution_count": 24,
   "metadata": {
    "collapsed": true
   },
   "outputs": [],
   "source": [
    "def is_num2(s):\n",
    "    try:\n",
    "        float(s)\n",
    "    except ValueError:\n",
    "        return False\n",
    "    else:\n",
    "        return True"
   ]
  },
  {
   "cell_type": "code",
   "execution_count": 25,
   "metadata": {},
   "outputs": [
    {
     "name": "stdout",
     "output_type": "stream",
     "text": [
      "True\n"
     ]
    }
   ],
   "source": [
    "print(is_num2('-1.23'))"
   ]
  },
  {
   "cell_type": "code",
   "execution_count": 26,
   "metadata": {},
   "outputs": [
    {
     "name": "stdout",
     "output_type": "stream",
     "text": [
      "False\n"
     ]
    }
   ],
   "source": [
    "print(is_num2('128.0.0.0'))"
   ]
  },
  {
   "cell_type": "code",
   "execution_count": 27,
   "metadata": {},
   "outputs": [
    {
     "name": "stdout",
     "output_type": "stream",
     "text": [
      "False\n"
     ]
    }
   ],
   "source": [
    "print(is_num2('10,000,000'))"
   ]
  },
  {
   "cell_type": "code",
   "execution_count": 28,
   "metadata": {},
   "outputs": [
    {
     "name": "stdout",
     "output_type": "stream",
     "text": [
      "True\n"
     ]
    }
   ],
   "source": [
    "print(is_num2('1.23e10'))"
   ]
  }
 ],
 "metadata": {
  "kernelspec": {
   "display_name": "Python 3",
   "language": "python",
   "name": "python3"
  },
  "language_info": {
   "codemirror_mode": {
    "name": "ipython",
    "version": 3
   },
   "file_extension": ".py",
   "mimetype": "text/x-python",
   "name": "python",
   "nbconvert_exporter": "python",
   "pygments_lexer": "ipython3",
   "version": "3.6.4"
  }
 },
 "nbformat": 4,
 "nbformat_minor": 2
}
