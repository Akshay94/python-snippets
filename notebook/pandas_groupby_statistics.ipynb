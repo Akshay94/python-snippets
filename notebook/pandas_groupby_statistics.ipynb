{
 "cells": [
  {
   "cell_type": "code",
   "execution_count": 1,
   "metadata": {
    "collapsed": true
   },
   "outputs": [],
   "source": [
    "import pandas as pd\n",
    "import seaborn as sns"
   ]
  },
  {
   "cell_type": "code",
   "execution_count": 2,
   "metadata": {},
   "outputs": [
    {
     "name": "stdout",
     "output_type": "stream",
     "text": [
      "(150, 5)\n",
      "   sepal_length  sepal_width  petal_length  petal_width species\n",
      "0           5.1          3.5           1.4          0.2  setosa\n",
      "1           4.9          3.0           1.4          0.2  setosa\n",
      "2           4.7          3.2           1.3          0.2  setosa\n",
      "3           4.6          3.1           1.5          0.2  setosa\n",
      "4           5.0          3.6           1.4          0.2  setosa\n"
     ]
    }
   ],
   "source": [
    "df = sns.load_dataset(\"iris\")\n",
    "print(df.shape)\n",
    "print(df.head(5))"
   ]
  },
  {
   "cell_type": "code",
   "execution_count": 3,
   "metadata": {},
   "outputs": [
    {
     "name": "stdout",
     "output_type": "stream",
     "text": [
      "    sl   sw   pl   pw species\n",
      "0  5.1  3.5  1.4  0.2  setosa\n",
      "1  4.9  3.0  1.4  0.2  setosa\n",
      "2  4.7  3.2  1.3  0.2  setosa\n",
      "3  4.6  3.1  1.5  0.2  setosa\n",
      "4  5.0  3.6  1.4  0.2  setosa\n"
     ]
    }
   ],
   "source": [
    "df.columns = ['sl', 'sw', 'pl', 'pw', 'species']\n",
    "print(df.head(5))"
   ]
  },
  {
   "cell_type": "code",
   "execution_count": 4,
   "metadata": {},
   "outputs": [
    {
     "name": "stdout",
     "output_type": "stream",
     "text": [
      "<pandas.core.groupby.DataFrameGroupBy object at 0x111b209e8>\n",
      "<class 'pandas.core.groupby.DataFrameGroupBy'>\n"
     ]
    }
   ],
   "source": [
    "grouped = df.groupby('species')\n",
    "print(grouped)\n",
    "print(type(grouped))"
   ]
  },
  {
   "cell_type": "code",
   "execution_count": 5,
   "metadata": {},
   "outputs": [
    {
     "name": "stdout",
     "output_type": "stream",
     "text": [
      "species\n",
      "setosa        50\n",
      "versicolor    50\n",
      "virginica     50\n",
      "dtype: int64\n"
     ]
    }
   ],
   "source": [
    "print(grouped.size()) "
   ]
  },
  {
   "cell_type": "code",
   "execution_count": 6,
   "metadata": {},
   "outputs": [
    {
     "name": "stdout",
     "output_type": "stream",
     "text": [
      "               sl     sw     pl     pw\n",
      "species                               \n",
      "setosa      5.006  3.428  1.462  0.246\n",
      "versicolor  5.936  2.770  4.260  1.326\n",
      "virginica   6.588  2.974  5.552  2.026\n"
     ]
    }
   ],
   "source": [
    "print(grouped.mean()) "
   ]
  },
  {
   "cell_type": "code",
   "execution_count": 7,
   "metadata": {},
   "outputs": [
    {
     "name": "stdout",
     "output_type": "stream",
     "text": [
      "             sl   sw   pl   pw\n",
      "species                       \n",
      "setosa      4.3  2.3  1.0  0.1\n",
      "versicolor  4.9  2.0  3.0  1.0\n",
      "virginica   4.9  2.2  4.5  1.4\n"
     ]
    }
   ],
   "source": [
    "print(grouped.min()) "
   ]
  },
  {
   "cell_type": "code",
   "execution_count": 8,
   "metadata": {},
   "outputs": [
    {
     "name": "stdout",
     "output_type": "stream",
     "text": [
      "             sl   sw   pl   pw\n",
      "species                       \n",
      "setosa      5.8  4.4  1.9  0.6\n",
      "versicolor  7.0  3.4  5.1  1.8\n",
      "virginica   7.9  3.8  6.9  2.5\n"
     ]
    }
   ],
   "source": [
    "print(grouped.max()) "
   ]
  },
  {
   "cell_type": "code",
   "execution_count": 9,
   "metadata": {
    "scrolled": true
   },
   "outputs": [
    {
     "name": "stdout",
     "output_type": "stream",
     "text": [
      "               sl     sw     pl     pw\n",
      "species                               \n",
      "setosa      250.3  171.4   73.1   12.3\n",
      "versicolor  296.8  138.5  213.0   66.3\n",
      "virginica   329.4  148.7  277.6  101.3\n"
     ]
    }
   ],
   "source": [
    "print(grouped.sum()) "
   ]
  },
  {
   "cell_type": "code",
   "execution_count": 10,
   "metadata": {
    "scrolled": false
   },
   "outputs": [
    {
     "name": "stdout",
     "output_type": "stream",
     "text": [
      "             sl        sw        pl        pw     \n",
      "            min  max  min  max  min  max  min  max\n",
      "species                                           \n",
      "setosa      4.3  5.8  2.3  4.4  1.0  1.9  0.1  0.6\n",
      "versicolor  4.9  7.0  2.0  3.4  3.0  5.1  1.0  1.8\n",
      "virginica   4.9  7.9  2.2  3.8  4.5  6.9  1.4  2.5\n"
     ]
    }
   ],
   "source": [
    "print(grouped.agg(['min', 'max'])) "
   ]
  },
  {
   "cell_type": "code",
   "execution_count": 11,
   "metadata": {},
   "outputs": [
    {
     "name": "stdout",
     "output_type": "stream",
     "text": [
      "              pl                                                 pw         \\\n",
      "           count   mean       std  min  25%   50%    75%  max count   mean   \n",
      "species                                                                      \n",
      "setosa      50.0  1.462  0.173664  1.0  1.4  1.50  1.575  1.9  50.0  0.246   \n",
      "versicolor  50.0  4.260  0.469911  3.0  4.0  4.35  4.600  5.1  50.0  1.326   \n",
      "virginica   50.0  5.552  0.551895  4.5  5.1  5.55  5.875  6.9  50.0  2.026   \n",
      "\n",
      "           ...    sl         sw                                                \n",
      "           ...   75%  max count   mean       std  min    25%  50%    75%  max  \n",
      "species    ...                                                                 \n",
      "setosa     ...   5.2  5.8  50.0  3.428  0.379064  2.3  3.200  3.4  3.675  4.4  \n",
      "versicolor ...   6.3  7.0  50.0  2.770  0.313798  2.0  2.525  2.8  3.000  3.4  \n",
      "virginica  ...   6.9  7.9  50.0  2.974  0.322497  2.2  2.800  3.0  3.175  3.8  \n",
      "\n",
      "[3 rows x 32 columns]\n"
     ]
    }
   ],
   "source": [
    "print(grouped.describe()) "
   ]
  },
  {
   "cell_type": "code",
   "execution_count": 12,
   "metadata": {},
   "outputs": [
    {
     "name": "stdout",
     "output_type": "stream",
     "text": [
      "<class 'pandas.core.frame.DataFrame'>\n"
     ]
    }
   ],
   "source": [
    "print(type(grouped.max()))"
   ]
  },
  {
   "cell_type": "code",
   "execution_count": 13,
   "metadata": {
    "collapsed": true
   },
   "outputs": [],
   "source": [
    "ax = grouped.max().plot.bar(rot=0)\n",
    "fig = ax.get_figure()\n",
    "fig.savefig('data/dst/iris_pandas_groupby_max.jpg')"
   ]
  }
 ],
 "metadata": {
  "kernelspec": {
   "display_name": "Python 3",
   "language": "python",
   "name": "python3"
  },
  "language_info": {
   "codemirror_mode": {
    "name": "ipython",
    "version": 3
   },
   "file_extension": ".py",
   "mimetype": "text/x-python",
   "name": "python",
   "nbconvert_exporter": "python",
   "pygments_lexer": "ipython3",
   "version": "3.6.3"
  }
 },
 "nbformat": 4,
 "nbformat_minor": 2
}
