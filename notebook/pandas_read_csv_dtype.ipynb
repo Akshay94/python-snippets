{
 "cells": [
  {
   "cell_type": "code",
   "execution_count": 1,
   "metadata": {
    "collapsed": true
   },
   "outputs": [],
   "source": [
    "import pandas as pd"
   ]
  },
  {
   "cell_type": "code",
   "execution_count": 2,
   "metadata": {},
   "outputs": [
    {
     "name": "stdout",
     "output_type": "stream",
     "text": [
      "         age state  point\n",
      "name                     \n",
      "Alice     24    NY     64\n",
      "Bob       42    CA     92\n",
      "Charlie   18    CA     70\n",
      "Dave      68    TX     70\n",
      "Ellen     24    CA     88\n",
      "Frank     30    NY     57\n"
     ]
    }
   ],
   "source": [
    "df = pd.read_csv('data/src/sample_pandas_normal.csv', index_col=0)\n",
    "print(df)"
   ]
  },
  {
   "cell_type": "code",
   "execution_count": 3,
   "metadata": {},
   "outputs": [
    {
     "name": "stdout",
     "output_type": "stream",
     "text": [
      "age       int64\n",
      "state    object\n",
      "point     int64\n",
      "dtype: object\n"
     ]
    }
   ],
   "source": [
    "print(df.dtypes)"
   ]
  },
  {
   "cell_type": "code",
   "execution_count": 4,
   "metadata": {},
   "outputs": [
    {
     "name": "stdout",
     "output_type": "stream",
     "text": [
      "age      object\n",
      "state    object\n",
      "point    object\n",
      "dtype: object\n",
      "<class 'str'>\n",
      "<class 'str'>\n",
      "<class 'str'>\n"
     ]
    }
   ],
   "source": [
    "df_str = pd.read_csv('data/src/sample_pandas_normal.csv', index_col=0, dtype=str)\n",
    "print(df_str.dtypes)\n",
    "print(type(df_str['age'][0]))\n",
    "print(type(df_str['state'][0]))\n",
    "print(type(df_str['point'][0]))"
   ]
  },
  {
   "cell_type": "code",
   "execution_count": 5,
   "metadata": {},
   "outputs": [
    {
     "name": "stdout",
     "output_type": "stream",
     "text": [
      "age      object\n",
      "state    object\n",
      "point    object\n",
      "dtype: object\n",
      "<class 'str'>\n",
      "<class 'str'>\n",
      "<class 'str'>\n"
     ]
    }
   ],
   "source": [
    "df_object = pd.read_csv('data/src/sample_pandas_normal.csv', index_col=0, dtype=object)\n",
    "print(df_object.dtypes)\n",
    "print(type(df_object['age'][0]))\n",
    "print(type(df_object['state'][0]))\n",
    "print(type(df_object['point'][0]))"
   ]
  },
  {
   "cell_type": "code",
   "execution_count": 6,
   "metadata": {},
   "outputs": [
    {
     "name": "stdout",
     "output_type": "stream",
     "text": [
      "age      float64\n",
      "state     object\n",
      "point    float32\n",
      "dtype: object\n"
     ]
    }
   ],
   "source": [
    "df_col = pd.read_csv('data/src/sample_pandas_normal.csv', index_col=0, dtype={'age': float, 'point': 'float32'})\n",
    "print(df_col.dtypes)"
   ]
  },
  {
   "cell_type": "code",
   "execution_count": 7,
   "metadata": {},
   "outputs": [
    {
     "name": "stdout",
     "output_type": "stream",
     "text": [
      "age      float64\n",
      "state     object\n",
      "point    float32\n",
      "dtype: object\n"
     ]
    }
   ],
   "source": [
    "df_col = pd.read_csv('data/src/sample_pandas_normal.csv', index_col=0, dtype={1: float, 3: 'float32'})\n",
    "print(df_col.dtypes)"
   ]
  }
 ],
 "metadata": {
  "kernelspec": {
   "display_name": "Python 3",
   "language": "python",
   "name": "python3"
  },
  "language_info": {
   "codemirror_mode": {
    "name": "ipython",
    "version": 3
   },
   "file_extension": ".py",
   "mimetype": "text/x-python",
   "name": "python",
   "nbconvert_exporter": "python",
   "pygments_lexer": "ipython3",
   "version": "3.6.4"
  }
 },
 "nbformat": 4,
 "nbformat_minor": 2
}
