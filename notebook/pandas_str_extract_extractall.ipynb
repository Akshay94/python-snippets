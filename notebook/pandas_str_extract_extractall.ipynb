{
 "cells": [
  {
   "cell_type": "code",
   "execution_count": 1,
   "metadata": {
    "collapsed": true
   },
   "outputs": [],
   "source": [
    "import pandas as pd"
   ]
  },
  {
   "cell_type": "code",
   "execution_count": 2,
   "metadata": {},
   "outputs": [
    {
     "name": "stdout",
     "output_type": "stream",
     "text": [
      "A      aaa@xxx.com\n",
      "B      bbb@yyy.net\n",
      "C    ccc@zzz.co.jp\n",
      "dtype: object\n"
     ]
    }
   ],
   "source": [
    "s_org = pd.Series(['aaa@xxx.com', 'bbb@yyy.net', 'ccc@zzz.co.jp'], index=['A', 'B', 'C'])\n",
    "print(s_org)"
   ]
  },
  {
   "cell_type": "code",
   "execution_count": 3,
   "metadata": {},
   "outputs": [
    {
     "name": "stdout",
     "output_type": "stream",
     "text": [
      "     0\n",
      "A  aaa\n",
      "B  bbb\n",
      "C  ccc\n",
      "<class 'pandas.core.frame.DataFrame'>\n"
     ]
    }
   ],
   "source": [
    "df_single = s_org.str.extract('(.+)@', expand=True)\n",
    "print(df_single)\n",
    "print(type(df_single))"
   ]
  },
  {
   "cell_type": "code",
   "execution_count": 4,
   "metadata": {},
   "outputs": [
    {
     "name": "stdout",
     "output_type": "stream",
     "text": [
      "A    aaa\n",
      "B    bbb\n",
      "C    ccc\n",
      "dtype: object\n",
      "<class 'pandas.core.series.Series'>\n"
     ]
    }
   ],
   "source": [
    "s = s_org.str.extract('(.+)@', expand=False)\n",
    "print(s)\n",
    "print(type(s))"
   ]
  },
  {
   "cell_type": "code",
   "execution_count": 5,
   "metadata": {},
   "outputs": [
    {
     "name": "stdout",
     "output_type": "stream",
     "text": [
      "  local\n",
      "A   aaa\n",
      "B   bbb\n",
      "C   ccc\n",
      "<class 'pandas.core.frame.DataFrame'>\n"
     ]
    }
   ],
   "source": [
    "df_name = s_org.str.extract('(?P<local>.+)@', expand=True)\n",
    "print(df_name)\n",
    "print(type(df_name))"
   ]
  },
  {
   "cell_type": "code",
   "execution_count": 6,
   "metadata": {},
   "outputs": [
    {
     "name": "stdout",
     "output_type": "stream",
     "text": [
      "  local     domain\n",
      "A   aaa    xxx.com\n",
      "B   bbb    yyy.net\n",
      "C   ccc  zzz.co.jp\n"
     ]
    }
   ],
   "source": [
    "df_multi = s_org.str.extract('(?P<local>.+)@(?P<domain>.+)', expand=True)\n",
    "print(df_multi)"
   ]
  },
  {
   "cell_type": "code",
   "execution_count": 7,
   "metadata": {},
   "outputs": [
    {
     "name": "stdout",
     "output_type": "stream",
     "text": [
      "     0\n",
      "A  aaa\n",
      "B  NaN\n",
      "C  NaN\n"
     ]
    }
   ],
   "source": [
    "df_nan = s_org.str.extract('(a+)', expand=True)\n",
    "print(df_nan)"
   ]
  },
  {
   "cell_type": "code",
   "execution_count": 8,
   "metadata": {},
   "outputs": [
    {
     "name": "stdout",
     "output_type": "stream",
     "text": [
      "     0\n",
      "A  aaa\n",
      "B  bbb\n",
      "C  ccc\n"
     ]
    }
   ],
   "source": [
    "df_single = s_org.str.extract('(\\w+)', expand=True)\n",
    "print(df_single)"
   ]
  },
  {
   "cell_type": "code",
   "execution_count": 9,
   "metadata": {},
   "outputs": [
    {
     "name": "stdout",
     "output_type": "stream",
     "text": [
      "           0\n",
      "  match     \n",
      "A 0      aaa\n",
      "  1      xxx\n",
      "  2      com\n",
      "B 0      bbb\n",
      "  1      yyy\n",
      "  2      net\n",
      "C 0      ccc\n",
      "  1      zzz\n",
      "  2       co\n",
      "  3       jp\n"
     ]
    }
   ],
   "source": [
    "df_all = s_org.str.extractall('(\\w+)')\n",
    "print(df_all)"
   ]
  },
  {
   "cell_type": "code",
   "execution_count": 10,
   "metadata": {},
   "outputs": [
    {
     "name": "stdout",
     "output_type": "stream",
     "text": [
      "MultiIndex(levels=[['A', 'B', 'C'], [0, 1, 2, 3]],\n",
      "           labels=[[0, 0, 0, 1, 1, 1, 2, 2, 2, 2], [0, 1, 2, 0, 1, 2, 0, 1, 2, 3]],\n",
      "           names=[None, 'match'])\n"
     ]
    }
   ],
   "source": [
    "print(df_all.index)"
   ]
  }
 ],
 "metadata": {
  "kernelspec": {
   "display_name": "Python 3",
   "language": "python",
   "name": "python3"
  },
  "language_info": {
   "codemirror_mode": {
    "name": "ipython",
    "version": 3
   },
   "file_extension": ".py",
   "mimetype": "text/x-python",
   "name": "python",
   "nbconvert_exporter": "python",
   "pygments_lexer": "ipython3",
   "version": "3.6.5"
  }
 },
 "nbformat": 4,
 "nbformat_minor": 2
}
