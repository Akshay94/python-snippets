{
 "cells": [
  {
   "cell_type": "code",
   "execution_count": 1,
   "metadata": {
    "collapsed": true
   },
   "outputs": [],
   "source": [
    "import pprint"
   ]
  },
  {
   "cell_type": "code",
   "execution_count": 2,
   "metadata": {},
   "outputs": [
    {
     "name": "stdout",
     "output_type": "stream",
     "text": [
      "[{'Age': 40, 'Name': 'Alice', 'Point': 80},\n",
      " {'Age': 20, 'Name': 'Bob'},\n",
      " {'Age': 30, 'Name': 'Charlie', 'Point': 70}]\n"
     ]
    }
   ],
   "source": [
    "l = [{'Name': 'Alice', 'Age': 40, 'Point': 80}, \n",
    "     {'Name': 'Bob', 'Age': 20},\n",
    "     {'Name': 'Charlie', 'Age': 30, 'Point': 70}]\n",
    "\n",
    "pprint.pprint(l)"
   ]
  },
  {
   "cell_type": "code",
   "execution_count": 3,
   "metadata": {
    "collapsed": true
   },
   "outputs": [],
   "source": [
    "# l.sort()\n",
    "# TypeError: '<' not supported between instances of 'dict' and 'dict'"
   ]
  },
  {
   "cell_type": "code",
   "execution_count": 4,
   "metadata": {},
   "outputs": [
    {
     "name": "stdout",
     "output_type": "stream",
     "text": [
      "[{'Age': 20, 'Name': 'Bob'},\n",
      " {'Age': 30, 'Name': 'Charlie', 'Point': 70},\n",
      " {'Age': 40, 'Name': 'Alice', 'Point': 80}]\n"
     ]
    }
   ],
   "source": [
    "l.sort(key=lambda x: x['Age'])\n",
    "\n",
    "pprint.pprint(l)"
   ]
  },
  {
   "cell_type": "code",
   "execution_count": 5,
   "metadata": {},
   "outputs": [
    {
     "name": "stdout",
     "output_type": "stream",
     "text": [
      "[{'Age': 40, 'Name': 'Alice', 'Point': 80},\n",
      " {'Age': 20, 'Name': 'Bob'},\n",
      " {'Age': 30, 'Name': 'Charlie', 'Point': 70}]\n"
     ]
    }
   ],
   "source": [
    "l.sort(key=lambda x: x['Name'])\n",
    "\n",
    "pprint.pprint(l)"
   ]
  },
  {
   "cell_type": "code",
   "execution_count": 6,
   "metadata": {
    "collapsed": true
   },
   "outputs": [],
   "source": [
    "# l.sort(key=lambda x: x['Point'])\n",
    "# KeyError: 'Point'"
   ]
  },
  {
   "cell_type": "code",
   "execution_count": 7,
   "metadata": {
    "collapsed": true
   },
   "outputs": [],
   "source": [
    "# l.sort(key=lambda x: x.get('Point'))\n",
    "# TypeError: '<' not supported between instances of 'int' and 'NoneType'"
   ]
  },
  {
   "cell_type": "code",
   "execution_count": 8,
   "metadata": {},
   "outputs": [
    {
     "name": "stdout",
     "output_type": "stream",
     "text": [
      "[{'Age': 20, 'Name': 'Bob'},\n",
      " {'Age': 30, 'Name': 'Charlie', 'Point': 70},\n",
      " {'Age': 40, 'Name': 'Alice', 'Point': 80}]\n"
     ]
    }
   ],
   "source": [
    "l.sort(key=lambda x: x.get('Point', 0))\n",
    "\n",
    "pprint.pprint(l)"
   ]
  },
  {
   "cell_type": "code",
   "execution_count": 9,
   "metadata": {},
   "outputs": [
    {
     "name": "stdout",
     "output_type": "stream",
     "text": [
      "[{'Age': 30, 'Name': 'Charlie', 'Point': 70},\n",
      " {'Age': 40, 'Name': 'Alice', 'Point': 80},\n",
      " {'Age': 20, 'Name': 'Bob'}]\n"
     ]
    }
   ],
   "source": [
    "l.sort(key=lambda x: x.get('Point', 100))\n",
    "\n",
    "pprint.pprint(l)"
   ]
  },
  {
   "cell_type": "code",
   "execution_count": 10,
   "metadata": {},
   "outputs": [
    {
     "name": "stdout",
     "output_type": "stream",
     "text": [
      "[{'Age': 30, 'Name': 'Charlie', 'Point': 70},\n",
      " {'Age': 20, 'Name': 'Bob'},\n",
      " {'Age': 40, 'Name': 'Alice', 'Point': 80}]\n"
     ]
    }
   ],
   "source": [
    "l.sort(key=lambda x: x['Name'], reverse=True)\n",
    "\n",
    "pprint.pprint(l)"
   ]
  },
  {
   "cell_type": "code",
   "execution_count": 11,
   "metadata": {},
   "outputs": [
    {
     "name": "stdout",
     "output_type": "stream",
     "text": [
      "[{'Age': 40, 'Name': 'Alice', 'Point': 80},\n",
      " {'Age': 30, 'Name': 'Charlie', 'Point': 70},\n",
      " {'Age': 20, 'Name': 'Bob'}]\n"
     ]
    }
   ],
   "source": [
    "l_sorted = sorted(l, key=lambda x: x['Age'], reverse=True)\n",
    "\n",
    "pprint.pprint(l_sorted)"
   ]
  }
 ],
 "metadata": {
  "kernelspec": {
   "display_name": "Python 3",
   "language": "python",
   "name": "python3"
  },
  "language_info": {
   "codemirror_mode": {
    "name": "ipython",
    "version": 3
   },
   "file_extension": ".py",
   "mimetype": "text/x-python",
   "name": "python",
   "nbconvert_exporter": "python",
   "pygments_lexer": "ipython3",
   "version": "3.6.5"
  }
 },
 "nbformat": 4,
 "nbformat_minor": 2
}
