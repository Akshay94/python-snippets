{
 "cells": [
  {
   "cell_type": "code",
   "execution_count": 1,
   "metadata": {
    "collapsed": true
   },
   "outputs": [],
   "source": [
    "import numpy as np"
   ]
  },
  {
   "cell_type": "code",
   "execution_count": 2,
   "metadata": {},
   "outputs": [
    {
     "name": "stdout",
     "output_type": "stream",
     "text": [
      "[[ 11.  12.  nan  14.]\n",
      " [ 21.  nan  nan  24.]\n",
      " [ 31.  32.  33.  34.]]\n"
     ]
    }
   ],
   "source": [
    "arr = np.genfromtxt('data/src/sample_nan.csv', delimiter=',')\n",
    "print(arr)"
   ]
  },
  {
   "cell_type": "code",
   "execution_count": 3,
   "metadata": {},
   "outputs": [
    {
     "name": "stdout",
     "output_type": "stream",
     "text": [
      "[[ 11.  12.   0.  14.]\n",
      " [ 21.   0.   0.  24.]\n",
      " [ 31.  32.  33.  34.]]\n"
     ]
    }
   ],
   "source": [
    "arr_fill = np.genfromtxt('data/src/sample_nan.csv', delimiter=',', filling_values=0)\n",
    "print(arr_fill)"
   ]
  },
  {
   "cell_type": "code",
   "execution_count": 4,
   "metadata": {},
   "outputs": [
    {
     "name": "stdout",
     "output_type": "stream",
     "text": [
      "[[False False  True False]\n",
      " [False  True  True False]\n",
      " [False False False False]]\n"
     ]
    }
   ],
   "source": [
    "print(np.isnan(arr))"
   ]
  },
  {
   "cell_type": "code",
   "execution_count": 5,
   "metadata": {},
   "outputs": [
    {
     "name": "stdout",
     "output_type": "stream",
     "text": [
      "[[ 11.  12.   0.  14.]\n",
      " [ 21.   0.   0.  24.]\n",
      " [ 31.  32.  33.  34.]]\n"
     ]
    }
   ],
   "source": [
    "arr[np.isnan(arr)] = 0\n",
    "print(arr)"
   ]
  },
  {
   "cell_type": "code",
   "execution_count": 6,
   "metadata": {},
   "outputs": [
    {
     "name": "stdout",
     "output_type": "stream",
     "text": [
      "[[ 11.          12.          23.55555556  14.        ]\n",
      " [ 21.          23.55555556  23.55555556  24.        ]\n",
      " [ 31.          32.          33.          34.        ]]\n"
     ]
    }
   ],
   "source": [
    "arr = np.genfromtxt('data/src/sample_nan.csv', delimiter=',')\n",
    "arr[np.isnan(arr)] = np.nanmean(arr)\n",
    "print(arr)"
   ]
  }
 ],
 "metadata": {
  "kernelspec": {
   "display_name": "Python 3",
   "language": "python",
   "name": "python3"
  },
  "language_info": {
   "codemirror_mode": {
    "name": "ipython",
    "version": 3
   },
   "file_extension": ".py",
   "mimetype": "text/x-python",
   "name": "python",
   "nbconvert_exporter": "python",
   "pygments_lexer": "ipython3",
   "version": "3.6.4"
  }
 },
 "nbformat": 4,
 "nbformat_minor": 2
}
