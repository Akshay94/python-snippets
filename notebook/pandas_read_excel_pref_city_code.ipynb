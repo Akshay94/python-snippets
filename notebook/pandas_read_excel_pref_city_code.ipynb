{
 "cells": [
  {
   "cell_type": "code",
   "execution_count": 1,
   "metadata": {
    "collapsed": true
   },
   "outputs": [],
   "source": [
    "import pandas as pd"
   ]
  },
  {
   "cell_type": "code",
   "execution_count": 2,
   "metadata": {
    "collapsed": true
   },
   "outputs": [],
   "source": [
    "df = pd.read_excel('http://www.soumu.go.jp/main_content/000442937.xls', dtype=object)"
   ]
  },
  {
   "cell_type": "code",
   "execution_count": 3,
   "metadata": {},
   "outputs": [
    {
     "name": "stdout",
     "output_type": "stream",
     "text": [
      "    団体コード 都道府県名\\n（漢字） 市区町村名\\n（漢字） 都道府県名\\n（カナ） 市区町村名\\n（カナ）\n",
      "0  010006         北海道         NaN     ﾎｯｶｲﾄﾞｳ         NaN\n",
      "1  011002         北海道         札幌市     ﾎｯｶｲﾄﾞｳ      ｻｯﾎﾟﾛｼ\n",
      "2  012025         北海道         函館市     ﾎｯｶｲﾄﾞｳ      ﾊｺﾀﾞﾃｼ\n",
      "3  012033         北海道         小樽市     ﾎｯｶｲﾄﾞｳ        ｵﾀﾙｼ\n",
      "4  012041         北海道         旭川市     ﾎｯｶｲﾄﾞｳ      ｱｻﾋｶﾜｼ\n"
     ]
    }
   ],
   "source": [
    "print(df.head())"
   ]
  },
  {
   "cell_type": "code",
   "execution_count": 4,
   "metadata": {},
   "outputs": [
    {
     "name": "stdout",
     "output_type": "stream",
     "text": [
      "(1788, 5)\n"
     ]
    }
   ],
   "source": [
    "print(df.shape)"
   ]
  },
  {
   "cell_type": "code",
   "execution_count": 5,
   "metadata": {},
   "outputs": [],
   "source": [
    "df.columns = [v.replace('\\n', '') for v in df.columns.values]"
   ]
  },
  {
   "cell_type": "code",
   "execution_count": 6,
   "metadata": {},
   "outputs": [
    {
     "name": "stdout",
     "output_type": "stream",
     "text": [
      "    団体コード 都道府県名（漢字） 市区町村名（漢字） 都道府県名（カナ） 市区町村名（カナ）\n",
      "0  010006       北海道       NaN   ﾎｯｶｲﾄﾞｳ       NaN\n",
      "1  011002       北海道       札幌市   ﾎｯｶｲﾄﾞｳ    ｻｯﾎﾟﾛｼ\n",
      "2  012025       北海道       函館市   ﾎｯｶｲﾄﾞｳ    ﾊｺﾀﾞﾃｼ\n",
      "3  012033       北海道       小樽市   ﾎｯｶｲﾄﾞｳ      ｵﾀﾙｼ\n",
      "4  012041       北海道       旭川市   ﾎｯｶｲﾄﾞｳ    ｱｻﾋｶﾜｼ\n"
     ]
    }
   ],
   "source": [
    "print(df.head())"
   ]
  },
  {
   "cell_type": "code",
   "execution_count": 7,
   "metadata": {},
   "outputs": [],
   "source": [
    "df['code_2'] = df['団体コード'].str[:2]\n",
    "df['code_5'] = df['団体コード'].str[:-1]"
   ]
  },
  {
   "cell_type": "code",
   "execution_count": 8,
   "metadata": {},
   "outputs": [
    {
     "name": "stdout",
     "output_type": "stream",
     "text": [
      "    団体コード 都道府県名（漢字） 市区町村名（漢字） 都道府県名（カナ） 市区町村名（カナ） code_2 code_5\n",
      "0  010006       北海道       NaN   ﾎｯｶｲﾄﾞｳ       NaN     01  01000\n",
      "1  011002       北海道       札幌市   ﾎｯｶｲﾄﾞｳ    ｻｯﾎﾟﾛｼ     01  01100\n",
      "2  012025       北海道       函館市   ﾎｯｶｲﾄﾞｳ    ﾊｺﾀﾞﾃｼ     01  01202\n",
      "3  012033       北海道       小樽市   ﾎｯｶｲﾄﾞｳ      ｵﾀﾙｼ     01  01203\n",
      "4  012041       北海道       旭川市   ﾎｯｶｲﾄﾞｳ    ｱｻﾋｶﾜｼ     01  01204\n"
     ]
    }
   ],
   "source": [
    "print(df.head())"
   ]
  },
  {
   "cell_type": "code",
   "execution_count": 9,
   "metadata": {},
   "outputs": [],
   "source": [
    "df_pref = df[df['市区町村名（漢字）'].isnull()]"
   ]
  },
  {
   "cell_type": "code",
   "execution_count": 10,
   "metadata": {},
   "outputs": [
    {
     "name": "stdout",
     "output_type": "stream",
     "text": [
      "      団体コード 都道府県名（漢字） 市区町村名（漢字） 都道府県名（カナ） 市区町村名（カナ） code_2 code_5\n",
      "0    010006       北海道       NaN   ﾎｯｶｲﾄﾞｳ       NaN     01  01000\n",
      "180  020001       青森県       NaN    ｱｵﾓﾘｹﾝ       NaN     02  02000\n",
      "221  030007       岩手県       NaN     ｲﾜﾃｹﾝ       NaN     03  03000\n",
      "255  040002       宮城県       NaN    ﾐﾔｷﾞｹﾝ       NaN     04  04000\n",
      "291  050008       秋田県       NaN     ｱｷﾀｹﾝ       NaN     05  05000\n"
     ]
    }
   ],
   "source": [
    "print(df_pref.head())"
   ]
  },
  {
   "cell_type": "code",
   "execution_count": 11,
   "metadata": {},
   "outputs": [
    {
     "name": "stdout",
     "output_type": "stream",
     "text": [
      "       団体コード 都道府県名（漢字） 市区町村名（漢字） 都道府県名（カナ） 市区町村名（カナ） code_2 code_5\n",
      "1610  430005       熊本県       NaN    ｸﾏﾓﾄｹﾝ       NaN     43  43000\n",
      "1656  440001       大分県       NaN    ｵｵｲﾀｹﾝ       NaN     44  44000\n",
      "1675  450006       宮崎県       NaN   ﾐﾔｻﾞｷｹﾝ       NaN     45  45000\n",
      "1702  460001      鹿児島県       NaN   ｶｺﾞｼﾏｹﾝ       NaN     46  46000\n",
      "1746  470007       沖縄県       NaN    ｵｷﾅﾜｹﾝ       NaN     47  47000\n"
     ]
    }
   ],
   "source": [
    "print(df_pref.tail())"
   ]
  },
  {
   "cell_type": "code",
   "execution_count": 12,
   "metadata": {},
   "outputs": [
    {
     "name": "stdout",
     "output_type": "stream",
     "text": [
      "(47, 7)\n"
     ]
    }
   ],
   "source": [
    "print(df_pref.shape)"
   ]
  },
  {
   "cell_type": "code",
   "execution_count": 13,
   "metadata": {},
   "outputs": [],
   "source": [
    "df_city = df.dropna()"
   ]
  },
  {
   "cell_type": "code",
   "execution_count": 14,
   "metadata": {},
   "outputs": [
    {
     "name": "stdout",
     "output_type": "stream",
     "text": [
      "    団体コード 都道府県名（漢字） 市区町村名（漢字） 都道府県名（カナ） 市区町村名（カナ） code_2 code_5\n",
      "1  011002       北海道       札幌市   ﾎｯｶｲﾄﾞｳ    ｻｯﾎﾟﾛｼ     01  01100\n",
      "2  012025       北海道       函館市   ﾎｯｶｲﾄﾞｳ    ﾊｺﾀﾞﾃｼ     01  01202\n",
      "3  012033       北海道       小樽市   ﾎｯｶｲﾄﾞｳ      ｵﾀﾙｼ     01  01203\n",
      "4  012041       北海道       旭川市   ﾎｯｶｲﾄﾞｳ    ｱｻﾋｶﾜｼ     01  01204\n",
      "5  012050       北海道       室蘭市   ﾎｯｶｲﾄﾞｳ     ﾑﾛﾗﾝｼ     01  01205\n"
     ]
    }
   ],
   "source": [
    "print(df_city.head())"
   ]
  },
  {
   "cell_type": "code",
   "execution_count": 15,
   "metadata": {},
   "outputs": [
    {
     "name": "stdout",
     "output_type": "stream",
     "text": [
      "(1741, 7)\n"
     ]
    }
   ],
   "source": [
    "print(df_city.shape)"
   ]
  },
  {
   "cell_type": "code",
   "execution_count": 16,
   "metadata": {},
   "outputs": [],
   "source": [
    "df_city_designated = pd.read_excel('http://www.soumu.go.jp/main_content/000442937.xls',\n",
    "                                   header=None, sheet_name=1, dtype=object)"
   ]
  },
  {
   "cell_type": "code",
   "execution_count": 17,
   "metadata": {},
   "outputs": [
    {
     "name": "stdout",
     "output_type": "stream",
     "text": [
      "        0       1            2\n",
      "0  011002     札幌市        さっぽろし\n",
      "1  011011  札幌市中央区  さっぽろしちゅうおうく\n",
      "2  011029   札幌市北区     さっぽろしきたく\n",
      "3  011037   札幌市東区    さっぽろしひがしく\n",
      "4  011045  札幌市白石区   さっぽろししろいしく\n"
     ]
    }
   ],
   "source": [
    "print(df_city_designated.head())"
   ]
  },
  {
   "cell_type": "code",
   "execution_count": 18,
   "metadata": {},
   "outputs": [
    {
     "name": "stdout",
     "output_type": "stream",
     "text": [
      "(195, 3)\n"
     ]
    }
   ],
   "source": [
    "print(df_city_designated.shape)"
   ]
  },
  {
   "cell_type": "code",
   "execution_count": 19,
   "metadata": {
    "collapsed": true
   },
   "outputs": [],
   "source": [
    "df_city_designated.columns = ['団体コード', '市区町村名（漢字）', '市区町村名（かな）']"
   ]
  },
  {
   "cell_type": "code",
   "execution_count": 20,
   "metadata": {},
   "outputs": [
    {
     "name": "stdout",
     "output_type": "stream",
     "text": [
      "    団体コード 市区町村名（漢字）    市区町村名（かな）\n",
      "0  011002       札幌市        さっぽろし\n",
      "1  011011    札幌市中央区  さっぽろしちゅうおうく\n",
      "2  011029     札幌市北区     さっぽろしきたく\n",
      "3  011037     札幌市東区    さっぽろしひがしく\n",
      "4  011045    札幌市白石区   さっぽろししろいしく\n"
     ]
    }
   ],
   "source": [
    "print(df_city_designated.head())"
   ]
  },
  {
   "cell_type": "code",
   "execution_count": 21,
   "metadata": {
    "collapsed": true
   },
   "outputs": [],
   "source": [
    "s_city_code = df_city.set_index('code_5')['市区町村名（漢字）']"
   ]
  },
  {
   "cell_type": "code",
   "execution_count": 22,
   "metadata": {},
   "outputs": [
    {
     "name": "stdout",
     "output_type": "stream",
     "text": [
      "code_5\n",
      "01100    札幌市\n",
      "01202    函館市\n",
      "01203    小樽市\n",
      "01204    旭川市\n",
      "01205    室蘭市\n",
      "Name: 市区町村名（漢字）, dtype: object\n"
     ]
    }
   ],
   "source": [
    "print(s_city_code.head())"
   ]
  },
  {
   "cell_type": "code",
   "execution_count": 23,
   "metadata": {},
   "outputs": [
    {
     "name": "stdout",
     "output_type": "stream",
     "text": [
      "新潟市\n"
     ]
    }
   ],
   "source": [
    "print(s_city_code['15100'])"
   ]
  },
  {
   "cell_type": "code",
   "execution_count": 24,
   "metadata": {},
   "outputs": [],
   "source": [
    "# print(s_city_code['15200'])\n",
    "# KeyError: '15200'"
   ]
  },
  {
   "cell_type": "code",
   "execution_count": 25,
   "metadata": {
    "collapsed": true
   },
   "outputs": [],
   "source": [
    "d_city_code = s_city_code.to_dict()"
   ]
  },
  {
   "cell_type": "code",
   "execution_count": 26,
   "metadata": {},
   "outputs": [
    {
     "name": "stdout",
     "output_type": "stream",
     "text": [
      "<class 'dict'>\n"
     ]
    }
   ],
   "source": [
    "print(type(d_city_code))"
   ]
  },
  {
   "cell_type": "code",
   "execution_count": 27,
   "metadata": {},
   "outputs": [
    {
     "name": "stdout",
     "output_type": "stream",
     "text": [
      "新潟市\n"
     ]
    }
   ],
   "source": [
    "print(d_city_code['15100'])"
   ]
  },
  {
   "cell_type": "code",
   "execution_count": 28,
   "metadata": {},
   "outputs": [],
   "source": [
    "# print(d_city_code['15200'])\n",
    "# KeyError: '15200'"
   ]
  },
  {
   "cell_type": "code",
   "execution_count": 29,
   "metadata": {},
   "outputs": [
    {
     "name": "stdout",
     "output_type": "stream",
     "text": [
      "新潟市\n"
     ]
    }
   ],
   "source": [
    "print(d_city_code.get('15100'))"
   ]
  },
  {
   "cell_type": "code",
   "execution_count": 30,
   "metadata": {},
   "outputs": [
    {
     "name": "stdout",
     "output_type": "stream",
     "text": [
      "None\n"
     ]
    }
   ],
   "source": [
    "print(d_city_code.get('15200'))"
   ]
  },
  {
   "cell_type": "code",
   "execution_count": 31,
   "metadata": {
    "collapsed": true
   },
   "outputs": [],
   "source": [
    "s_city_name = df_city.set_index('市区町村名（漢字）')['code_5']"
   ]
  },
  {
   "cell_type": "code",
   "execution_count": 32,
   "metadata": {},
   "outputs": [
    {
     "name": "stdout",
     "output_type": "stream",
     "text": [
      "15100\n"
     ]
    }
   ],
   "source": [
    "print(s_city_name['新潟市'])"
   ]
  }
 ],
 "metadata": {
  "kernelspec": {
   "display_name": "Python 3",
   "language": "python",
   "name": "python3"
  },
  "language_info": {
   "codemirror_mode": {
    "name": "ipython",
    "version": 3
   },
   "file_extension": ".py",
   "mimetype": "text/x-python",
   "name": "python",
   "nbconvert_exporter": "python",
   "pygments_lexer": "ipython3",
   "version": "3.6.5"
  }
 },
 "nbformat": 4,
 "nbformat_minor": 2
}
