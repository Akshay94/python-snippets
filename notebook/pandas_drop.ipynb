{
 "cells": [
  {
   "cell_type": "code",
   "execution_count": 1,
   "metadata": {
    "collapsed": true
   },
   "outputs": [],
   "source": [
    "import pandas as pd"
   ]
  },
  {
   "cell_type": "code",
   "execution_count": 2,
   "metadata": {},
   "outputs": [
    {
     "name": "stdout",
     "output_type": "stream",
     "text": [
      "      name  age state  point\n",
      "0    Alice   24    NY     64\n",
      "1      Bob   42    CA     92\n",
      "2  Charlie   18    CA     70\n",
      "3     Dave   68    TX     70\n",
      "4    Ellen   24    CA     88\n",
      "5    Frank   30    NY     57\n"
     ]
    }
   ],
   "source": [
    "df = pd.read_csv('data/src/sample_pandas_normal.csv')\n",
    "print(df)"
   ]
  },
  {
   "cell_type": "code",
   "execution_count": 3,
   "metadata": {},
   "outputs": [
    {
     "name": "stdout",
     "output_type": "stream",
     "text": [
      "    name  age state  point\n",
      "0  Alice   24    NY     64\n",
      "1    Bob   42    CA     92\n",
      "3   Dave   68    TX     70\n",
      "4  Ellen   24    CA     88\n",
      "5  Frank   30    NY     57\n"
     ]
    }
   ],
   "source": [
    "df_new = df.drop(2, axis=0)\n",
    "print(df_new)"
   ]
  },
  {
   "cell_type": "code",
   "execution_count": 4,
   "metadata": {},
   "outputs": [
    {
     "name": "stdout",
     "output_type": "stream",
     "text": [
      "    name  age state  point\n",
      "0  Alice   24    NY     64\n",
      "1    Bob   42    CA     92\n",
      "3   Dave   68    TX     70\n",
      "4  Ellen   24    CA     88\n",
      "5  Frank   30    NY     57\n"
     ]
    }
   ],
   "source": [
    "df_new = df.drop(2)\n",
    "print(df_new)"
   ]
  },
  {
   "cell_type": "code",
   "execution_count": 5,
   "metadata": {},
   "outputs": [
    {
     "name": "stdout",
     "output_type": "stream",
     "text": [
      "    name  age state  point\n",
      "0  Alice   24    NY     64\n",
      "1    Bob   42    CA     92\n",
      "3   Dave   68    TX     70\n",
      "4  Ellen   24    CA     88\n",
      "5  Frank   30    NY     57\n"
     ]
    }
   ],
   "source": [
    "df_new = df.drop(index=2)\n",
    "print(df_new)"
   ]
  },
  {
   "cell_type": "code",
   "execution_count": 6,
   "metadata": {},
   "outputs": [
    {
     "name": "stdout",
     "output_type": "stream",
     "text": [
      "    name  age state  point\n",
      "1    Bob   42    CA     92\n",
      "3   Dave   68    TX     70\n",
      "5  Frank   30    NY     57\n"
     ]
    }
   ],
   "source": [
    "df_new = df.drop([0, 2, 4])\n",
    "print(df_new)"
   ]
  },
  {
   "cell_type": "code",
   "execution_count": 7,
   "metadata": {},
   "outputs": [
    {
     "name": "stdout",
     "output_type": "stream",
     "text": [
      "    name  age state  point\n",
      "1    Bob   42    CA     92\n",
      "3   Dave   68    TX     70\n",
      "5  Frank   30    NY     57\n"
     ]
    }
   ],
   "source": [
    "df_new = df.drop(index=[0, 2, 4])\n",
    "print(df_new)"
   ]
  },
  {
   "cell_type": "code",
   "execution_count": 8,
   "metadata": {},
   "outputs": [
    {
     "name": "stdout",
     "output_type": "stream",
     "text": [
      "    name  age state  point\n",
      "1    Bob   42    CA     92\n",
      "3   Dave   68    TX     70\n",
      "5  Frank   30    NY     57\n"
     ]
    }
   ],
   "source": [
    "df_org = df.copy()\n",
    "df_org.drop(index=[0, 2, 4], inplace=True)\n",
    "print(df_org)"
   ]
  },
  {
   "cell_type": "code",
   "execution_count": 9,
   "metadata": {},
   "outputs": [
    {
     "name": "stdout",
     "output_type": "stream",
     "text": [
      "         age state  point\n",
      "name                     \n",
      "Alice     24    NY     64\n",
      "Bob       42    CA     92\n",
      "Charlie   18    CA     70\n",
      "Dave      68    TX     70\n",
      "Ellen     24    CA     88\n",
      "Frank     30    NY     57\n"
     ]
    }
   ],
   "source": [
    "df2 = pd.read_csv('data/src/sample_pandas_normal.csv', index_col=0)\n",
    "print(df2)"
   ]
  },
  {
   "cell_type": "code",
   "execution_count": 10,
   "metadata": {},
   "outputs": [
    {
     "name": "stdout",
     "output_type": "stream",
     "text": [
      "         age state  point\n",
      "name                     \n",
      "Alice     24    NY     64\n",
      "Charlie   18    CA     70\n",
      "Ellen     24    CA     88\n"
     ]
    }
   ],
   "source": [
    "df_new = df2.drop(index=['Bob', 'Dave', 'Frank'])\n",
    "print(df_new)"
   ]
  },
  {
   "cell_type": "code",
   "execution_count": 11,
   "metadata": {},
   "outputs": [
    {
     "name": "stdout",
     "output_type": "stream",
     "text": [
      "      name  age  point\n",
      "0    Alice   24     64\n",
      "1      Bob   42     92\n",
      "2  Charlie   18     70\n",
      "3     Dave   68     70\n",
      "4    Ellen   24     88\n",
      "5    Frank   30     57\n"
     ]
    }
   ],
   "source": [
    "df_new = df.drop('state', axis=1)\n",
    "print(df_new)"
   ]
  },
  {
   "cell_type": "code",
   "execution_count": 12,
   "metadata": {},
   "outputs": [
    {
     "name": "stdout",
     "output_type": "stream",
     "text": [
      "      name  age  point\n",
      "0    Alice   24     64\n",
      "1      Bob   42     92\n",
      "2  Charlie   18     70\n",
      "3     Dave   68     70\n",
      "4    Ellen   24     88\n",
      "5    Frank   30     57\n"
     ]
    }
   ],
   "source": [
    "df_new = df.drop(columns='state')\n",
    "print(df_new)"
   ]
  },
  {
   "cell_type": "code",
   "execution_count": 13,
   "metadata": {},
   "outputs": [
    {
     "name": "stdout",
     "output_type": "stream",
     "text": [
      "      name  age\n",
      "0    Alice   24\n",
      "1      Bob   42\n",
      "2  Charlie   18\n",
      "3     Dave   68\n",
      "4    Ellen   24\n",
      "5    Frank   30\n"
     ]
    }
   ],
   "source": [
    "df_new = df.drop(['state', 'point'], axis=1)\n",
    "print(df_new)"
   ]
  },
  {
   "cell_type": "code",
   "execution_count": 14,
   "metadata": {},
   "outputs": [
    {
     "name": "stdout",
     "output_type": "stream",
     "text": [
      "      name  age\n",
      "0    Alice   24\n",
      "1      Bob   42\n",
      "2  Charlie   18\n",
      "3     Dave   68\n",
      "4    Ellen   24\n",
      "5    Frank   30\n"
     ]
    }
   ],
   "source": [
    "df_new = df.drop(columns=['state', 'point'])\n",
    "print(df_new)"
   ]
  },
  {
   "cell_type": "code",
   "execution_count": 15,
   "metadata": {},
   "outputs": [
    {
     "name": "stdout",
     "output_type": "stream",
     "text": [
      "      name  age\n",
      "0    Alice   24\n",
      "1      Bob   42\n",
      "2  Charlie   18\n",
      "3     Dave   68\n",
      "4    Ellen   24\n",
      "5    Frank   30\n"
     ]
    }
   ],
   "source": [
    "df_org = df.copy()\n",
    "df_org.drop(columns=['state', 'point'], inplace=True)\n",
    "print(df_org)"
   ]
  },
  {
   "cell_type": "code",
   "execution_count": 16,
   "metadata": {},
   "outputs": [
    {
     "name": "stdout",
     "output_type": "stream",
     "text": [
      "    name  age\n",
      "1    Bob   42\n",
      "3   Dave   68\n",
      "5  Frank   30\n"
     ]
    }
   ],
   "source": [
    "df_new = df.drop(index=[0, 2, 4], columns=['state', 'point'])\n",
    "print(df_new)"
   ]
  },
  {
   "cell_type": "code",
   "execution_count": 17,
   "metadata": {},
   "outputs": [
    {
     "name": "stdout",
     "output_type": "stream",
     "text": [
      "    name  age\n",
      "1    Bob   42\n",
      "3   Dave   68\n",
      "5  Frank   30\n"
     ]
    }
   ],
   "source": [
    "df_org = df.copy()\n",
    "df_org.drop(index=[0, 2, 4], columns=['state', 'point'], inplace=True)\n",
    "print(df_org)"
   ]
  }
 ],
 "metadata": {
  "kernelspec": {
   "display_name": "Python 3",
   "language": "python",
   "name": "python3"
  },
  "language_info": {
   "codemirror_mode": {
    "name": "ipython",
    "version": 3
   },
   "file_extension": ".py",
   "mimetype": "text/x-python",
   "name": "python",
   "nbconvert_exporter": "python",
   "pygments_lexer": "ipython3",
   "version": "3.6.3"
  }
 },
 "nbformat": 4,
 "nbformat_minor": 2
}
