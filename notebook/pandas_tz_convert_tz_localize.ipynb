{
 "cells": [
  {
   "cell_type": "code",
   "execution_count": 1,
   "metadata": {},
   "outputs": [],
   "source": [
    "import pandas as pd"
   ]
  },
  {
   "cell_type": "code",
   "execution_count": 2,
   "metadata": {},
   "outputs": [],
   "source": [
    "s = '2018-01-01T12:00+09:00'"
   ]
  },
  {
   "cell_type": "code",
   "execution_count": 3,
   "metadata": {},
   "outputs": [
    {
     "name": "stdout",
     "output_type": "stream",
     "text": [
      "2018-01-01T12:00+09:00\n"
     ]
    }
   ],
   "source": [
    "print(s)"
   ]
  },
  {
   "cell_type": "code",
   "execution_count": 4,
   "metadata": {},
   "outputs": [
    {
     "name": "stdout",
     "output_type": "stream",
     "text": [
      "<class 'str'>\n"
     ]
    }
   ],
   "source": [
    "print(type(s))"
   ]
  },
  {
   "cell_type": "code",
   "execution_count": 5,
   "metadata": {},
   "outputs": [],
   "source": [
    "ts = pd.to_datetime(s)"
   ]
  },
  {
   "cell_type": "code",
   "execution_count": 6,
   "metadata": {},
   "outputs": [
    {
     "name": "stdout",
     "output_type": "stream",
     "text": [
      "2018-01-01 03:00:00\n"
     ]
    }
   ],
   "source": [
    "print(ts)"
   ]
  },
  {
   "cell_type": "code",
   "execution_count": 7,
   "metadata": {},
   "outputs": [
    {
     "name": "stdout",
     "output_type": "stream",
     "text": [
      "<class 'pandas._libs.tslibs.timestamps.Timestamp'>\n"
     ]
    }
   ],
   "source": [
    "print(type(ts))"
   ]
  },
  {
   "cell_type": "code",
   "execution_count": 8,
   "metadata": {},
   "outputs": [
    {
     "name": "stdout",
     "output_type": "stream",
     "text": [
      "None\n"
     ]
    }
   ],
   "source": [
    "print(ts.tz)"
   ]
  },
  {
   "cell_type": "code",
   "execution_count": 9,
   "metadata": {},
   "outputs": [],
   "source": [
    "ts_utc = pd.to_datetime(s, utc=True)"
   ]
  },
  {
   "cell_type": "code",
   "execution_count": 10,
   "metadata": {},
   "outputs": [
    {
     "name": "stdout",
     "output_type": "stream",
     "text": [
      "2018-01-01 03:00:00+00:00\n"
     ]
    }
   ],
   "source": [
    "print(ts_utc)"
   ]
  },
  {
   "cell_type": "code",
   "execution_count": 11,
   "metadata": {},
   "outputs": [
    {
     "name": "stdout",
     "output_type": "stream",
     "text": [
      "UTC\n"
     ]
    }
   ],
   "source": [
    "print(ts_utc.tz)"
   ]
  },
  {
   "cell_type": "code",
   "execution_count": 12,
   "metadata": {},
   "outputs": [],
   "source": [
    "ts_jst = ts_utc.tz_convert('Asia/Tokyo')"
   ]
  },
  {
   "cell_type": "code",
   "execution_count": 13,
   "metadata": {},
   "outputs": [
    {
     "name": "stdout",
     "output_type": "stream",
     "text": [
      "2018-01-01 12:00:00+09:00\n"
     ]
    }
   ],
   "source": [
    "print(ts_jst)"
   ]
  },
  {
   "cell_type": "code",
   "execution_count": 14,
   "metadata": {},
   "outputs": [
    {
     "name": "stdout",
     "output_type": "stream",
     "text": [
      "Asia/Tokyo\n"
     ]
    }
   ],
   "source": [
    "print(ts_jst.tz)"
   ]
  },
  {
   "cell_type": "code",
   "execution_count": 15,
   "metadata": {},
   "outputs": [
    {
     "name": "stdout",
     "output_type": "stream",
     "text": [
      "1514775600000000000\n"
     ]
    }
   ],
   "source": [
    "print(ts_utc.value)"
   ]
  },
  {
   "cell_type": "code",
   "execution_count": 16,
   "metadata": {},
   "outputs": [
    {
     "name": "stdout",
     "output_type": "stream",
     "text": [
      "1514775600000000000\n"
     ]
    }
   ],
   "source": [
    "print(ts_jst.value)"
   ]
  },
  {
   "cell_type": "code",
   "execution_count": 17,
   "metadata": {},
   "outputs": [
    {
     "name": "stdout",
     "output_type": "stream",
     "text": [
      "True\n"
     ]
    }
   ],
   "source": [
    "print(ts_utc == ts_jst)"
   ]
  },
  {
   "cell_type": "code",
   "execution_count": 18,
   "metadata": {},
   "outputs": [],
   "source": [
    "ts_pst = ts_utc.tz_convert('US/Pacific')"
   ]
  },
  {
   "cell_type": "code",
   "execution_count": 19,
   "metadata": {},
   "outputs": [
    {
     "name": "stdout",
     "output_type": "stream",
     "text": [
      "2017-12-31 19:00:00-08:00\n"
     ]
    }
   ],
   "source": [
    "print(ts_pst)"
   ]
  },
  {
   "cell_type": "code",
   "execution_count": 20,
   "metadata": {},
   "outputs": [
    {
     "name": "stdout",
     "output_type": "stream",
     "text": [
      "US/Pacific\n"
     ]
    }
   ],
   "source": [
    "print(ts_pst.tz)"
   ]
  },
  {
   "cell_type": "code",
   "execution_count": 21,
   "metadata": {},
   "outputs": [
    {
     "name": "stdout",
     "output_type": "stream",
     "text": [
      "2017-12-31 19:00:00-08:00\n"
     ]
    }
   ],
   "source": [
    "print(ts_utc.tz_convert('America/Los_Angeles'))"
   ]
  },
  {
   "cell_type": "code",
   "execution_count": 22,
   "metadata": {},
   "outputs": [
    {
     "name": "stdout",
     "output_type": "stream",
     "text": [
      "2018-01-01 03:00:00\n"
     ]
    }
   ],
   "source": [
    "print(ts)"
   ]
  },
  {
   "cell_type": "code",
   "execution_count": 23,
   "metadata": {},
   "outputs": [
    {
     "name": "stdout",
     "output_type": "stream",
     "text": [
      "None\n"
     ]
    }
   ],
   "source": [
    "print(ts.tz)"
   ]
  },
  {
   "cell_type": "code",
   "execution_count": 24,
   "metadata": {},
   "outputs": [],
   "source": [
    "# print(ts.tz_convert('Asia/Tokyo'))\n",
    "# TypeError: Cannot convert tz-naive Timestamp, use tz_localize to localize"
   ]
  },
  {
   "cell_type": "code",
   "execution_count": 25,
   "metadata": {},
   "outputs": [],
   "source": [
    "ts_jst_localize = ts.tz_localize('Asia/Tokyo')"
   ]
  },
  {
   "cell_type": "code",
   "execution_count": 26,
   "metadata": {},
   "outputs": [
    {
     "name": "stdout",
     "output_type": "stream",
     "text": [
      "2018-01-01 03:00:00+09:00\n"
     ]
    }
   ],
   "source": [
    "print(ts_jst_localize)"
   ]
  },
  {
   "cell_type": "code",
   "execution_count": 27,
   "metadata": {},
   "outputs": [
    {
     "name": "stdout",
     "output_type": "stream",
     "text": [
      "Asia/Tokyo\n"
     ]
    }
   ],
   "source": [
    "print(ts_jst_localize.tz)"
   ]
  },
  {
   "cell_type": "code",
   "execution_count": 28,
   "metadata": {},
   "outputs": [
    {
     "name": "stdout",
     "output_type": "stream",
     "text": [
      "2018-01-01 03:00:00-08:00\n"
     ]
    }
   ],
   "source": [
    "print(ts.tz_localize('US/Pacific'))"
   ]
  },
  {
   "cell_type": "code",
   "execution_count": 29,
   "metadata": {},
   "outputs": [
    {
     "name": "stdout",
     "output_type": "stream",
     "text": [
      "False\n"
     ]
    }
   ],
   "source": [
    "print(ts.tz_localize('Asia/Tokyo').value == ts.tz_localize('US/Pacific').value)"
   ]
  },
  {
   "cell_type": "code",
   "execution_count": 30,
   "metadata": {},
   "outputs": [
    {
     "name": "stdout",
     "output_type": "stream",
     "text": [
      "2018-01-01 12:00:00+09:00\n"
     ]
    }
   ],
   "source": [
    "print(ts_jst)"
   ]
  },
  {
   "cell_type": "code",
   "execution_count": 31,
   "metadata": {},
   "outputs": [],
   "source": [
    "# ts_jst.tz_localize('US/Pacific')\n",
    "# TypeError: Cannot localize tz-aware Timestamp, use tz_convert for conversions"
   ]
  },
  {
   "cell_type": "code",
   "execution_count": 32,
   "metadata": {},
   "outputs": [
    {
     "name": "stdout",
     "output_type": "stream",
     "text": [
      "2018-01-01 12:00:00+09:00\n"
     ]
    }
   ],
   "source": [
    "print(ts_jst)"
   ]
  },
  {
   "cell_type": "code",
   "execution_count": 33,
   "metadata": {},
   "outputs": [
    {
     "name": "stdout",
     "output_type": "stream",
     "text": [
      "Asia/Tokyo\n"
     ]
    }
   ],
   "source": [
    "print(ts_jst.tz)"
   ]
  },
  {
   "cell_type": "code",
   "execution_count": 34,
   "metadata": {},
   "outputs": [
    {
     "name": "stdout",
     "output_type": "stream",
     "text": [
      "2018-01-01 03:00:00\n"
     ]
    }
   ],
   "source": [
    "print(ts_jst.tz_convert(None))"
   ]
  },
  {
   "cell_type": "code",
   "execution_count": 35,
   "metadata": {},
   "outputs": [
    {
     "name": "stdout",
     "output_type": "stream",
     "text": [
      "2018-01-01 12:00:00\n"
     ]
    }
   ],
   "source": [
    "print(ts_jst.tz_localize(None))"
   ]
  },
  {
   "cell_type": "code",
   "execution_count": 36,
   "metadata": {},
   "outputs": [],
   "source": [
    "df = pd.DataFrame({'date': ['2018-01-01T12:00+09:00',\n",
    "                            '2018-01-02T00:00+09:00',\n",
    "                            '2018-01-03T10:00-05:00',\n",
    "                            '2018-01-03T19:00-08:00'],\n",
    "                   'value': [0, 1, 2, 3]})"
   ]
  },
  {
   "cell_type": "code",
   "execution_count": 37,
   "metadata": {},
   "outputs": [
    {
     "name": "stdout",
     "output_type": "stream",
     "text": [
      "                     date  value\n",
      "0  2018-01-01T12:00+09:00      0\n",
      "1  2018-01-02T00:00+09:00      1\n",
      "2  2018-01-03T10:00-05:00      2\n",
      "3  2018-01-03T19:00-08:00      3\n"
     ]
    }
   ],
   "source": [
    "print(df)"
   ]
  },
  {
   "cell_type": "code",
   "execution_count": 38,
   "metadata": {},
   "outputs": [
    {
     "name": "stdout",
     "output_type": "stream",
     "text": [
      "0   2018-01-01 03:00:00\n",
      "1   2018-01-01 15:00:00\n",
      "2   2018-01-03 15:00:00\n",
      "3   2018-01-04 03:00:00\n",
      "Name: date, dtype: datetime64[ns]\n"
     ]
    }
   ],
   "source": [
    "print(pd.to_datetime(df['date']))"
   ]
  },
  {
   "cell_type": "code",
   "execution_count": 39,
   "metadata": {},
   "outputs": [
    {
     "name": "stdout",
     "output_type": "stream",
     "text": [
      "0   2018-01-01 03:00:00+00:00\n",
      "1   2018-01-01 15:00:00+00:00\n",
      "2   2018-01-03 15:00:00+00:00\n",
      "3   2018-01-04 03:00:00+00:00\n",
      "Name: date, dtype: datetime64[ns, UTC]\n"
     ]
    }
   ],
   "source": [
    "print(pd.to_datetime(df['date'], utc=True))"
   ]
  },
  {
   "cell_type": "code",
   "execution_count": 40,
   "metadata": {},
   "outputs": [],
   "source": [
    "# print(pd.to_datetime(df['date'], utc=True).tz_convert('Asia/Tokyo'))\n",
    "# TypeError: index is not a valid DatetimeIndex or PeriodIndex"
   ]
  },
  {
   "cell_type": "code",
   "execution_count": 41,
   "metadata": {},
   "outputs": [],
   "source": [
    "df_ts = df.set_index('date')"
   ]
  },
  {
   "cell_type": "code",
   "execution_count": 42,
   "metadata": {},
   "outputs": [
    {
     "name": "stdout",
     "output_type": "stream",
     "text": [
      "                        value\n",
      "date                         \n",
      "2018-01-01T12:00+09:00      0\n",
      "2018-01-02T00:00+09:00      1\n",
      "2018-01-03T10:00-05:00      2\n",
      "2018-01-03T19:00-08:00      3\n"
     ]
    }
   ],
   "source": [
    "print(df_ts)"
   ]
  },
  {
   "cell_type": "code",
   "execution_count": 43,
   "metadata": {},
   "outputs": [
    {
     "name": "stdout",
     "output_type": "stream",
     "text": [
      "Index(['2018-01-01T12:00+09:00', '2018-01-02T00:00+09:00',\n",
      "       '2018-01-03T10:00-05:00', '2018-01-03T19:00-08:00'],\n",
      "      dtype='object', name='date')\n"
     ]
    }
   ],
   "source": [
    "print(df_ts.index)"
   ]
  },
  {
   "cell_type": "code",
   "execution_count": 44,
   "metadata": {},
   "outputs": [
    {
     "name": "stdout",
     "output_type": "stream",
     "text": [
      "DatetimeIndex(['2018-01-01 03:00:00+00:00', '2018-01-01 15:00:00+00:00',\n",
      "               '2018-01-03 15:00:00+00:00', '2018-01-04 03:00:00+00:00'],\n",
      "              dtype='datetime64[ns, UTC]', name='date', freq=None)\n"
     ]
    }
   ],
   "source": [
    "print(pd.to_datetime(df_ts.index, utc=True))"
   ]
  },
  {
   "cell_type": "code",
   "execution_count": 45,
   "metadata": {},
   "outputs": [
    {
     "name": "stdout",
     "output_type": "stream",
     "text": [
      "DatetimeIndex(['2018-01-01 12:00:00+09:00', '2018-01-02 00:00:00+09:00',\n",
      "               '2018-01-04 00:00:00+09:00', '2018-01-04 12:00:00+09:00'],\n",
      "              dtype='datetime64[ns, Asia/Tokyo]', name='date', freq=None)\n"
     ]
    }
   ],
   "source": [
    "print(pd.to_datetime(df_ts.index, utc=True).tz_convert('Asia/Tokyo'))"
   ]
  },
  {
   "cell_type": "code",
   "execution_count": 46,
   "metadata": {},
   "outputs": [
    {
     "name": "stdout",
     "output_type": "stream",
     "text": [
      "DatetimeIndex(['2018-01-01 12:00:00', '2018-01-02 00:00:00',\n",
      "               '2018-01-04 00:00:00', '2018-01-04 12:00:00'],\n",
      "              dtype='datetime64[ns]', name='date', freq=None)\n"
     ]
    }
   ],
   "source": [
    "print(pd.to_datetime(df_ts.index, utc=True).tz_convert('Asia/Tokyo').tz_localize(None))"
   ]
  },
  {
   "cell_type": "code",
   "execution_count": 47,
   "metadata": {},
   "outputs": [],
   "source": [
    "df_ts.index = pd.to_datetime(df_ts.index, utc=True).tz_convert('Asia/Tokyo').tz_localize(None)"
   ]
  },
  {
   "cell_type": "code",
   "execution_count": 48,
   "metadata": {},
   "outputs": [
    {
     "name": "stdout",
     "output_type": "stream",
     "text": [
      "                     value\n",
      "date                      \n",
      "2018-01-01 12:00:00      0\n",
      "2018-01-02 00:00:00      1\n",
      "2018-01-04 00:00:00      2\n",
      "2018-01-04 12:00:00      3\n"
     ]
    }
   ],
   "source": [
    "print(df_ts)"
   ]
  },
  {
   "cell_type": "code",
   "execution_count": 49,
   "metadata": {},
   "outputs": [
    {
     "name": "stdout",
     "output_type": "stream",
     "text": [
      "DatetimeIndex(['2018-01-01 12:00:00', '2018-01-02 00:00:00',\n",
      "               '2018-01-04 00:00:00', '2018-01-04 12:00:00'],\n",
      "              dtype='datetime64[ns]', name='date', freq=None)\n"
     ]
    }
   ],
   "source": [
    "print(df_ts.index)"
   ]
  },
  {
   "cell_type": "code",
   "execution_count": 50,
   "metadata": {},
   "outputs": [
    {
     "name": "stdout",
     "output_type": "stream",
     "text": [
      "                     value\n",
      "date                      \n",
      "2018-01-04 00:00:00      2\n",
      "2018-01-04 12:00:00      3\n"
     ]
    }
   ],
   "source": [
    "print(df_ts['2018-01-04'])"
   ]
  }
 ],
 "metadata": {
  "kernelspec": {
   "display_name": "Python 3",
   "language": "python",
   "name": "python3"
  },
  "language_info": {
   "codemirror_mode": {
    "name": "ipython",
    "version": 3
   },
   "file_extension": ".py",
   "mimetype": "text/x-python",
   "name": "python",
   "nbconvert_exporter": "python",
   "pygments_lexer": "ipython3",
   "version": "3.7.0"
  }
 },
 "nbformat": 4,
 "nbformat_minor": 2
}
