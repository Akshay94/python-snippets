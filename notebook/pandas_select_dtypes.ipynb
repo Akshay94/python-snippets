{
 "cells": [
  {
   "cell_type": "code",
   "execution_count": 1,
   "metadata": {
    "collapsed": true
   },
   "outputs": [],
   "source": [
    "import pandas as pd"
   ]
  },
  {
   "cell_type": "code",
   "execution_count": 2,
   "metadata": {
    "collapsed": true
   },
   "outputs": [],
   "source": [
    "df = pd.DataFrame({'a': [1, 2, 1, 3],\n",
    "                   'b': [0.4, 1.1, 0.1, 0.8],\n",
    "                   'c': ['X', 'Y', 'X', 'Z'],\n",
    "                   'd': [[0, 0], [0, 1], [1, 0], [1, 1]],\n",
    "                   'e': [True, True, False, True]})"
   ]
  },
  {
   "cell_type": "code",
   "execution_count": 3,
   "metadata": {
    "collapsed": true
   },
   "outputs": [],
   "source": [
    "df['f'] = pd.to_datetime(['2018-01-01', '2018-03-15', '2018-02-20', '2018-03-15'])"
   ]
  },
  {
   "cell_type": "code",
   "execution_count": 4,
   "metadata": {},
   "outputs": [
    {
     "name": "stdout",
     "output_type": "stream",
     "text": [
      "   a    b  c       d      e          f\n",
      "0  1  0.4  X  [0, 0]   True 2018-01-01\n",
      "1  2  1.1  Y  [0, 1]   True 2018-03-15\n",
      "2  1  0.1  X  [1, 0]  False 2018-02-20\n",
      "3  3  0.8  Z  [1, 1]   True 2018-03-15\n"
     ]
    }
   ],
   "source": [
    "print(df)"
   ]
  },
  {
   "cell_type": "code",
   "execution_count": 5,
   "metadata": {},
   "outputs": [
    {
     "name": "stdout",
     "output_type": "stream",
     "text": [
      "a             int64\n",
      "b           float64\n",
      "c            object\n",
      "d            object\n",
      "e              bool\n",
      "f    datetime64[ns]\n",
      "dtype: object\n"
     ]
    }
   ],
   "source": [
    "print(df.dtypes)"
   ]
  },
  {
   "cell_type": "code",
   "execution_count": 6,
   "metadata": {},
   "outputs": [
    {
     "name": "stdout",
     "output_type": "stream",
     "text": [
      "   a\n",
      "0  1\n",
      "1  2\n",
      "2  1\n",
      "3  3\n"
     ]
    }
   ],
   "source": [
    "print(df.select_dtypes(include=int))"
   ]
  },
  {
   "cell_type": "code",
   "execution_count": 7,
   "metadata": {},
   "outputs": [
    {
     "name": "stdout",
     "output_type": "stream",
     "text": [
      "   a\n",
      "0  1\n",
      "1  2\n",
      "2  1\n",
      "3  3\n"
     ]
    }
   ],
   "source": [
    "print(df.select_dtypes(include='int'))"
   ]
  },
  {
   "cell_type": "code",
   "execution_count": 8,
   "metadata": {},
   "outputs": [
    {
     "name": "stdout",
     "output_type": "stream",
     "text": [
      "   a\n",
      "0  1\n",
      "1  2\n",
      "2  1\n",
      "3  3\n"
     ]
    }
   ],
   "source": [
    "print(df.select_dtypes(include='int64'))"
   ]
  },
  {
   "cell_type": "code",
   "execution_count": 9,
   "metadata": {},
   "outputs": [
    {
     "name": "stdout",
     "output_type": "stream",
     "text": [
      "Empty DataFrame\n",
      "Columns: []\n",
      "Index: [0, 1, 2, 3]\n"
     ]
    }
   ],
   "source": [
    "print(df.select_dtypes(include='int32'))"
   ]
  },
  {
   "cell_type": "code",
   "execution_count": 10,
   "metadata": {},
   "outputs": [
    {
     "name": "stdout",
     "output_type": "stream",
     "text": [
      "   a    b          f\n",
      "0  1  0.4 2018-01-01\n",
      "1  2  1.1 2018-03-15\n",
      "2  1  0.1 2018-02-20\n",
      "3  3  0.8 2018-03-15\n"
     ]
    }
   ],
   "source": [
    "print(df.select_dtypes(include=[int, float, 'datetime']))"
   ]
  },
  {
   "cell_type": "code",
   "execution_count": 11,
   "metadata": {},
   "outputs": [
    {
     "name": "stdout",
     "output_type": "stream",
     "text": [
      "   a    b\n",
      "0  1  0.4\n",
      "1  2  1.1\n",
      "2  1  0.1\n",
      "3  3  0.8\n"
     ]
    }
   ],
   "source": [
    "print(df.select_dtypes(include='number'))"
   ]
  },
  {
   "cell_type": "code",
   "execution_count": 12,
   "metadata": {},
   "outputs": [
    {
     "name": "stdout",
     "output_type": "stream",
     "text": [
      "   c       d\n",
      "0  X  [0, 0]\n",
      "1  Y  [0, 1]\n",
      "2  X  [1, 0]\n",
      "3  Z  [1, 1]\n"
     ]
    }
   ],
   "source": [
    "print(df.select_dtypes(include=object))"
   ]
  },
  {
   "cell_type": "code",
   "execution_count": 13,
   "metadata": {},
   "outputs": [
    {
     "name": "stdout",
     "output_type": "stream",
     "text": [
      "<class 'str'>\n"
     ]
    }
   ],
   "source": [
    "print(type(df.at[0, 'c']))"
   ]
  },
  {
   "cell_type": "code",
   "execution_count": 14,
   "metadata": {},
   "outputs": [
    {
     "name": "stdout",
     "output_type": "stream",
     "text": [
      "<class 'list'>\n"
     ]
    }
   ],
   "source": [
    "print(type(df.at[0, 'd']))"
   ]
  },
  {
   "cell_type": "code",
   "execution_count": 15,
   "metadata": {},
   "outputs": [
    {
     "name": "stdout",
     "output_type": "stream",
     "text": [
      "   c       d      e          f\n",
      "0  X  [0, 0]   True 2018-01-01\n",
      "1  Y  [0, 1]   True 2018-03-15\n",
      "2  X  [1, 0]  False 2018-02-20\n",
      "3  Z  [1, 1]   True 2018-03-15\n"
     ]
    }
   ],
   "source": [
    "print(df.select_dtypes(exclude='number'))"
   ]
  },
  {
   "cell_type": "code",
   "execution_count": 16,
   "metadata": {},
   "outputs": [
    {
     "name": "stdout",
     "output_type": "stream",
     "text": [
      "   a    b  c       d\n",
      "0  1  0.4  X  [0, 0]\n",
      "1  2  1.1  Y  [0, 1]\n",
      "2  1  0.1  X  [1, 0]\n",
      "3  3  0.8  Z  [1, 1]\n"
     ]
    }
   ],
   "source": [
    "print(df.select_dtypes(exclude=[bool, 'datetime']))"
   ]
  },
  {
   "cell_type": "code",
   "execution_count": 17,
   "metadata": {},
   "outputs": [
    {
     "name": "stdout",
     "output_type": "stream",
     "text": [
      "     b\n",
      "0  0.4\n",
      "1  1.1\n",
      "2  0.1\n",
      "3  0.8\n"
     ]
    }
   ],
   "source": [
    "print(df.select_dtypes(include='number', exclude=int))"
   ]
  },
  {
   "cell_type": "code",
   "execution_count": 18,
   "metadata": {
    "collapsed": true
   },
   "outputs": [],
   "source": [
    "# print(df.select_dtypes(include=[int, bool], exclude=int))\n",
    "# ValueError: include and exclude overlap on frozenset({<class 'numpy.int64'>})"
   ]
  }
 ],
 "metadata": {
  "kernelspec": {
   "display_name": "Python 3",
   "language": "python",
   "name": "python3"
  },
  "language_info": {
   "codemirror_mode": {
    "name": "ipython",
    "version": 3
   },
   "file_extension": ".py",
   "mimetype": "text/x-python",
   "name": "python",
   "nbconvert_exporter": "python",
   "pygments_lexer": "ipython3",
   "version": "3.6.5"
  }
 },
 "nbformat": 4,
 "nbformat_minor": 2
}
