{
 "cells": [
  {
   "cell_type": "code",
   "execution_count": 1,
   "metadata": {
    "collapsed": true
   },
   "outputs": [],
   "source": [
    "from PIL import Image"
   ]
  },
  {
   "cell_type": "code",
   "execution_count": 2,
   "metadata": {
    "collapsed": true
   },
   "outputs": [],
   "source": [
    "im = Image.open('data/src/lena_square.png')"
   ]
  },
  {
   "cell_type": "markdown",
   "metadata": {},
   "source": [
    "![lena_square](data/src/lena_square.png)"
   ]
  },
  {
   "cell_type": "code",
   "execution_count": 3,
   "metadata": {
    "collapsed": true
   },
   "outputs": [],
   "source": [
    "im_crop = im.crop((100, 200, 400, 300))\n",
    "im_crop.save('data/dst/lena_square_pillow_crop.jpg', quality=95)"
   ]
  },
  {
   "cell_type": "code",
   "execution_count": 4,
   "metadata": {
    "collapsed": true
   },
   "outputs": [],
   "source": [
    "im.crop((100, 200, 400, 300)).save('data/dst/lena_square_pillow_crop.jpg', quality=95)"
   ]
  },
  {
   "cell_type": "markdown",
   "metadata": {},
   "source": [
    "![lena_square_pillow_crop](data/dst/lena_square_pillow_crop.jpg)"
   ]
  },
  {
   "cell_type": "code",
   "execution_count": 5,
   "metadata": {
    "collapsed": true
   },
   "outputs": [],
   "source": [
    "im_crop_outside = im.crop((300, 300, 600, 600))\n",
    "im_crop_outside.save('data/dst/lena_square_pillow_crop_outside.jpg', quality=95)"
   ]
  },
  {
   "cell_type": "markdown",
   "metadata": {},
   "source": [
    "![lena_square_pillow_crop_outside](data/dst/lena_square_pillow_crop_outside.jpg)"
   ]
  },
  {
   "cell_type": "code",
   "execution_count": 6,
   "metadata": {
    "collapsed": true
   },
   "outputs": [],
   "source": [
    "def crop_center(pil_img, width, height):\n",
    "    img_width, img_height = pil_img.size\n",
    "    return pil_img.crop(((img_width - width) / 2,\n",
    "                         (img_height - height) / 2,\n",
    "                         (img_width + width) / 2,\n",
    "                         (img_height + height) / 2))"
   ]
  },
  {
   "cell_type": "code",
   "execution_count": 7,
   "metadata": {
    "collapsed": true
   },
   "outputs": [],
   "source": [
    "im_crop_center = crop_center(im, 200, 200)\n",
    "im_crop_center.save('data/dst/lena_square_pillow_crop_center.jpg', quality=95)"
   ]
  },
  {
   "cell_type": "markdown",
   "metadata": {},
   "source": [
    "![lena_square_pillow_crop_center](data/dst/lena_square_pillow_crop_center.jpg)"
   ]
  }
 ],
 "metadata": {
  "kernelspec": {
   "display_name": "Python 3",
   "language": "python",
   "name": "python3"
  },
  "language_info": {
   "codemirror_mode": {
    "name": "ipython",
    "version": 3
   },
   "file_extension": ".py",
   "mimetype": "text/x-python",
   "name": "python",
   "nbconvert_exporter": "python",
   "pygments_lexer": "ipython3",
   "version": "3.6.3"
  }
 },
 "nbformat": 4,
 "nbformat_minor": 2
}
