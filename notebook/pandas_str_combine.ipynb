{
 "cells": [
  {
   "cell_type": "code",
   "execution_count": 1,
   "metadata": {
    "collapsed": true
   },
   "outputs": [],
   "source": [
    "import pandas as pd"
   ]
  },
  {
   "cell_type": "code",
   "execution_count": 2,
   "metadata": {},
   "outputs": [
    {
     "name": "stdout",
     "output_type": "stream",
     "text": [
      "      name  age state  point\n",
      "0    Alice   24    NY     64\n",
      "1      Bob   42    CA     92\n",
      "2  Charlie   18    CA     70\n"
     ]
    }
   ],
   "source": [
    "df = pd.read_csv('data/src/sample_pandas_normal.csv').head(3)\n",
    "print(df)"
   ]
  },
  {
   "cell_type": "code",
   "execution_count": 3,
   "metadata": {},
   "outputs": [
    {
     "name": "stdout",
     "output_type": "stream",
     "text": [
      "      name  age state  point     name-state\n",
      "0    Alice   24    NY     64    Alice in NY\n",
      "1      Bob   42    CA     92      Bob in CA\n",
      "2  Charlie   18    CA     70  Charlie in CA\n"
     ]
    }
   ],
   "source": [
    "df['name-state'] = df['name'].str.cat(df['state'], sep=' in ')\n",
    "print(df)"
   ]
  },
  {
   "cell_type": "code",
   "execution_count": 4,
   "metadata": {},
   "outputs": [
    {
     "name": "stdout",
     "output_type": "stream",
     "text": [
      "      name  age state  point     name-state    name-state2\n",
      "0    Alice   24    NY     64    Alice in NY    Alice in NY\n",
      "1      Bob   42    CA     92      Bob in CA      Bob in CA\n",
      "2  Charlie   18    CA     70  Charlie in CA  Charlie in CA\n"
     ]
    }
   ],
   "source": [
    "df['name-state2'] = df['name'] + ' in ' + df['state']\n",
    "print(df)"
   ]
  },
  {
   "cell_type": "code",
   "execution_count": 5,
   "metadata": {},
   "outputs": [
    {
     "name": "stdout",
     "output_type": "stream",
     "text": [
      "      name  age  point     name-state\n",
      "0    Alice   24     64    Alice in NY\n",
      "1      Bob   42     92      Bob in CA\n",
      "2  Charlie   18     70  Charlie in CA\n"
     ]
    }
   ],
   "source": [
    "df.drop(['name-state2', 'state'], axis=1, inplace=True)\n",
    "print(df)"
   ]
  },
  {
   "cell_type": "code",
   "execution_count": 6,
   "metadata": {},
   "outputs": [
    {
     "name": "stdout",
     "output_type": "stream",
     "text": [
      "      name  age  point     name-state     name-age\n",
      "0    Alice   24     64    Alice in NY    Alice(24)\n",
      "1      Bob   42     92      Bob in CA      Bob(42)\n",
      "2  Charlie   18     70  Charlie in CA  Charlie(18)\n"
     ]
    }
   ],
   "source": [
    "df['name-age'] = df['name'] + '(' + df['age'].astype(str) + ')'\n",
    "print(df)"
   ]
  }
 ],
 "metadata": {
  "kernelspec": {
   "display_name": "Python 3",
   "language": "python",
   "name": "python3"
  },
  "language_info": {
   "codemirror_mode": {
    "name": "ipython",
    "version": 3
   },
   "file_extension": ".py",
   "mimetype": "text/x-python",
   "name": "python",
   "nbconvert_exporter": "python",
   "pygments_lexer": "ipython3",
   "version": "3.6.3"
  }
 },
 "nbformat": 4,
 "nbformat_minor": 2
}
