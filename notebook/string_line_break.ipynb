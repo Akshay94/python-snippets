{
 "cells": [
  {
   "cell_type": "code",
   "execution_count": 1,
   "metadata": {},
   "outputs": [
    {
     "name": "stdout",
     "output_type": "stream",
     "text": [
      "Line1\n",
      "Line2\n",
      "Line3\n"
     ]
    }
   ],
   "source": [
    "s = 'Line1\\nLine2\\nLine3'\n",
    "print(s)"
   ]
  },
  {
   "cell_type": "code",
   "execution_count": 2,
   "metadata": {},
   "outputs": [
    {
     "name": "stdout",
     "output_type": "stream",
     "text": [
      "Line1\n",
      "Line2\n",
      "Line3\n"
     ]
    }
   ],
   "source": [
    "s = '''Line1\n",
    "Line2\n",
    "Line3'''\n",
    "print(s)"
   ]
  },
  {
   "cell_type": "code",
   "execution_count": 3,
   "metadata": {},
   "outputs": [
    {
     "name": "stdout",
     "output_type": "stream",
     "text": [
      "\n",
      "    Line1\n",
      "    Line2\n",
      "    Line3\n",
      "    \n"
     ]
    }
   ],
   "source": [
    "s = '''\n",
    "    Line1\n",
    "    Line2\n",
    "    Line3\n",
    "    '''\n",
    "print(s)"
   ]
  },
  {
   "cell_type": "code",
   "execution_count": 4,
   "metadata": {},
   "outputs": [
    {
     "name": "stdout",
     "output_type": "stream",
     "text": [
      "Line1\n",
      "Line2\n",
      "Line3\n"
     ]
    }
   ],
   "source": [
    "s = 'Line1\\n'\\\n",
    "    'Line2\\n'\\\n",
    "    'Line3'\n",
    "print(s)"
   ]
  },
  {
   "cell_type": "code",
   "execution_count": 5,
   "metadata": {},
   "outputs": [
    {
     "name": "stdout",
     "output_type": "stream",
     "text": [
      "Line1\n",
      "    Line2\n",
      "        Line3\n"
     ]
    }
   ],
   "source": [
    "s = 'Line1\\n'\\\n",
    "    '    Line2\\n'\\\n",
    "    '        Line3'\n",
    "print(s)"
   ]
  },
  {
   "cell_type": "code",
   "execution_count": 6,
   "metadata": {},
   "outputs": [
    {
     "name": "stdout",
     "output_type": "stream",
     "text": [
      "Line1\n",
      "Line2\n",
      "Line3\n"
     ]
    }
   ],
   "source": [
    "s = '''\\\n",
    "Line1\n",
    "Line2\n",
    "Line3'''\n",
    "print(s)"
   ]
  },
  {
   "cell_type": "code",
   "execution_count": 7,
   "metadata": {},
   "outputs": [
    {
     "name": "stdout",
     "output_type": "stream",
     "text": [
      "Line1\n",
      "    Line2\n",
      "        Line3\n"
     ]
    }
   ],
   "source": [
    "s = '''\\\n",
    "Line1\n",
    "    Line2\n",
    "        Line3'''\n",
    "print(s)"
   ]
  },
  {
   "cell_type": "code",
   "execution_count": 8,
   "metadata": {},
   "outputs": [
    {
     "name": "stdout",
     "output_type": "stream",
     "text": [
      "Line1\n",
      "Line2\n",
      "Line3\n"
     ]
    }
   ],
   "source": [
    "l = ['Line1', 'Line2', 'Line3']\n",
    "s = '\\n'.join(l)\n",
    "print(s)"
   ]
  },
  {
   "cell_type": "code",
   "execution_count": 9,
   "metadata": {},
   "outputs": [
    {
     "name": "stdout",
     "output_type": "stream",
     "text": [
      "['Line1', 'Line2', 'Line3']\n"
     ]
    }
   ],
   "source": [
    "s = 'Line1\\nLine2\\nLine3'\n",
    "l = s.splitlines()\n",
    "print(l)"
   ]
  },
  {
   "cell_type": "code",
   "execution_count": 10,
   "metadata": {},
   "outputs": [
    {
     "name": "stdout",
     "output_type": "stream",
     "text": [
      "Line1Line2Line3\n"
     ]
    }
   ],
   "source": [
    "s_new = ''.join(s.splitlines())\n",
    "print(s_new)"
   ]
  },
  {
   "cell_type": "code",
   "execution_count": 11,
   "metadata": {},
   "outputs": [
    {
     "name": "stdout",
     "output_type": "stream",
     "text": [
      "Line1 Line2 Line3\n"
     ]
    }
   ],
   "source": [
    "s_new = ' '.join(s.splitlines())\n",
    "print(s_new)"
   ]
  },
  {
   "cell_type": "code",
   "execution_count": 12,
   "metadata": {},
   "outputs": [
    {
     "name": "stdout",
     "output_type": "stream",
     "text": [
      "Line1,Line2,Line3\n"
     ]
    }
   ],
   "source": [
    "s_new = ','.join(s.splitlines())\n",
    "print(s_new)"
   ]
  },
  {
   "cell_type": "code",
   "execution_count": 13,
   "metadata": {},
   "outputs": [
    {
     "name": "stdout",
     "output_type": "stream",
     "text": [
      "Line1\r\n",
      "Line2\r\n",
      "Line3\n"
     ]
    }
   ],
   "source": [
    "s_new = '\\r\\n'.join(s.splitlines())\n",
    "print(s_new)"
   ]
  },
  {
   "cell_type": "code",
   "execution_count": 14,
   "metadata": {},
   "outputs": [
    {
     "name": "stdout",
     "output_type": "stream",
     "text": [
      "Line1Line2Line3\n"
     ]
    }
   ],
   "source": [
    "s_new = s.replace('\\n', '')\n",
    "print(s_new)"
   ]
  },
  {
   "cell_type": "code",
   "execution_count": 15,
   "metadata": {},
   "outputs": [
    {
     "name": "stdout",
     "output_type": "stream",
     "text": [
      "Line1,Line2,Line3\n"
     ]
    }
   ],
   "source": [
    "s_new = s.replace('\\n', ',')\n",
    "print(s_new)"
   ]
  },
  {
   "cell_type": "code",
   "execution_count": 16,
   "metadata": {},
   "outputs": [
    {
     "name": "stdout",
     "output_type": "stream",
     "text": [
      "Line1Line2Line3\n"
     ]
    }
   ],
   "source": [
    "s_new = s.replace('\\r\\n', '').replace('\\n', '')\n",
    "print(s_new)"
   ]
  },
  {
   "cell_type": "code",
   "execution_count": 17,
   "metadata": {},
   "outputs": [
    {
     "name": "stdout",
     "output_type": "stream",
     "text": [
      "aaa\n",
      "bbb\n"
     ]
    }
   ],
   "source": [
    "s = 'aaa\\n'\n",
    "print(s + 'bbb')"
   ]
  },
  {
   "cell_type": "code",
   "execution_count": 18,
   "metadata": {},
   "outputs": [
    {
     "name": "stdout",
     "output_type": "stream",
     "text": [
      "aaabbb\n"
     ]
    }
   ],
   "source": [
    "s_new = s.rstrip()\n",
    "print(s_new + 'bbb')"
   ]
  }
 ],
 "metadata": {
  "kernelspec": {
   "display_name": "Python 3",
   "language": "python",
   "name": "python3"
  },
  "language_info": {
   "codemirror_mode": {
    "name": "ipython",
    "version": 3
   },
   "file_extension": ".py",
   "mimetype": "text/x-python",
   "name": "python",
   "nbconvert_exporter": "python",
   "pygments_lexer": "ipython3",
   "version": "3.6.4"
  }
 },
 "nbformat": 4,
 "nbformat_minor": 2
}
