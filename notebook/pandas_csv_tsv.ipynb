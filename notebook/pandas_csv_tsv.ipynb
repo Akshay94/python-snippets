{
 "cells": [
  {
   "cell_type": "code",
   "execution_count": 1,
   "metadata": {
    "collapsed": true
   },
   "outputs": [],
   "source": [
    "import pandas as pd"
   ]
  },
  {
   "cell_type": "code",
   "execution_count": 2,
   "metadata": {},
   "outputs": [
    {
     "name": "stdout",
     "output_type": "stream",
     "text": [
      "   11  12  13  14\n",
      "0  21  22  23  24\n",
      "1  31  32  33  34\n"
     ]
    }
   ],
   "source": [
    "df = pd.read_csv('data/src/sample.csv')\n",
    "print(df)"
   ]
  },
  {
   "cell_type": "code",
   "execution_count": 3,
   "metadata": {},
   "outputs": [
    {
     "name": "stdout",
     "output_type": "stream",
     "text": [
      "Index(['11', '12', '13', '14'], dtype='object')\n"
     ]
    }
   ],
   "source": [
    "print(df.columns)"
   ]
  },
  {
   "cell_type": "code",
   "execution_count": 4,
   "metadata": {},
   "outputs": [
    {
     "name": "stdout",
     "output_type": "stream",
     "text": [
      "    0   1   2   3\n",
      "0  11  12  13  14\n",
      "1  21  22  23  24\n",
      "2  31  32  33  34\n"
     ]
    }
   ],
   "source": [
    "df_none = pd.read_csv('data/src/sample.csv', header=None)\n",
    "print(df_none)"
   ]
  },
  {
   "cell_type": "code",
   "execution_count": 5,
   "metadata": {},
   "outputs": [
    {
     "name": "stdout",
     "output_type": "stream",
     "text": [
      "    A   B   C   D\n",
      "0  11  12  13  14\n",
      "1  21  22  23  24\n",
      "2  31  32  33  34\n"
     ]
    }
   ],
   "source": [
    "df_names = pd.read_csv('data/src/sample.csv', names=('A', 'B', 'C', 'D'))\n",
    "print(df_names)"
   ]
  },
  {
   "cell_type": "code",
   "execution_count": 6,
   "metadata": {},
   "outputs": [
    {
     "name": "stdout",
     "output_type": "stream",
     "text": [
      "    a   b   c   d\n",
      "0  11  12  13  14\n",
      "1  21  22  23  24\n",
      "2  31  32  33  34\n"
     ]
    }
   ],
   "source": [
    "df_header = pd.read_csv('data/src/sample_header.csv')\n",
    "print(df_header)"
   ]
  },
  {
   "cell_type": "code",
   "execution_count": 7,
   "metadata": {},
   "outputs": [
    {
     "name": "stdout",
     "output_type": "stream",
     "text": [
      "    a   b   c   d\n",
      "0  11  12  13  14\n",
      "1  21  22  23  24\n",
      "2  31  32  33  34\n"
     ]
    }
   ],
   "source": [
    "df_header_0 = pd.read_csv('data/src/sample_header.csv', header=0)\n",
    "print(df_header_0)"
   ]
  },
  {
   "cell_type": "code",
   "execution_count": 8,
   "metadata": {},
   "outputs": [
    {
     "name": "stdout",
     "output_type": "stream",
     "text": [
      "  Unnamed: 0   a   b   c   d\n",
      "0        ONE  11  12  13  14\n",
      "1        TWO  21  22  23  24\n",
      "2      THREE  31  32  33  34\n"
     ]
    }
   ],
   "source": [
    "df_header_index = pd.read_csv('data/src/sample_header_index.csv')\n",
    "print(df_header_index)"
   ]
  },
  {
   "cell_type": "code",
   "execution_count": 9,
   "metadata": {},
   "outputs": [
    {
     "name": "stdout",
     "output_type": "stream",
     "text": [
      "Index(['Unnamed: 0', 'a', 'b', 'c', 'd'], dtype='object')\n"
     ]
    }
   ],
   "source": [
    "print(df_header_index.columns)"
   ]
  },
  {
   "cell_type": "code",
   "execution_count": 10,
   "metadata": {},
   "outputs": [
    {
     "name": "stdout",
     "output_type": "stream",
     "text": [
      "        a   b   c   d\n",
      "ONE    11  12  13  14\n",
      "TWO    21  22  23  24\n",
      "THREE  31  32  33  34\n"
     ]
    }
   ],
   "source": [
    "df_header_index_col = pd.read_csv('data/src/sample_header_index.csv', index_col=0)\n",
    "print(df_header_index_col)"
   ]
  },
  {
   "cell_type": "code",
   "execution_count": 11,
   "metadata": {},
   "outputs": [
    {
     "name": "stdout",
     "output_type": "stream",
     "text": [
      "        a   b   c   d\n",
      "ONE    11  12  13  14\n",
      "TWO    21  22  23  24\n",
      "THREE  31  32  33  34\n"
     ]
    }
   ],
   "source": [
    "df_tsv = pd.read_table('data/src/sample_header_index.tsv', index_col=0)\n",
    "print(df_tsv)"
   ]
  },
  {
   "cell_type": "code",
   "execution_count": 12,
   "metadata": {},
   "outputs": [
    {
     "name": "stdout",
     "output_type": "stream",
     "text": [
      "        a   b   c   d\n",
      "ONE    11  12  13  14\n",
      "TWO    21  22  23  24\n",
      "THREE  31  32  33  34\n"
     ]
    }
   ],
   "source": [
    "df_tsv_sep = pd.read_csv('data/src/sample_header_index.tsv', index_col=0, sep='\\t')\n",
    "print(df_tsv_sep)"
   ]
  }
 ],
 "metadata": {
  "kernelspec": {
   "display_name": "Python 3",
   "language": "python",
   "name": "python3"
  },
  "language_info": {
   "codemirror_mode": {
    "name": "ipython",
    "version": 3
   },
   "file_extension": ".py",
   "mimetype": "text/x-python",
   "name": "python",
   "nbconvert_exporter": "python",
   "pygments_lexer": "ipython3",
   "version": "3.6.2"
  }
 },
 "nbformat": 4,
 "nbformat_minor": 2
}
