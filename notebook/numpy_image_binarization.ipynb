{
 "cells": [
  {
   "cell_type": "code",
   "execution_count": 1,
   "metadata": {
    "collapsed": true
   },
   "outputs": [],
   "source": [
    "import numpy as np\n",
    "from PIL import Image"
   ]
  },
  {
   "cell_type": "code",
   "execution_count": 2,
   "metadata": {},
   "outputs": [
    {
     "name": "stdout",
     "output_type": "stream",
     "text": [
      "<class 'numpy.ndarray'>\n"
     ]
    }
   ],
   "source": [
    "im = np.array(Image.open('data/src/lena_square.png').convert('L').resize((256, 256)))\n",
    "print(type(im))"
   ]
  },
  {
   "cell_type": "code",
   "execution_count": 3,
   "metadata": {},
   "outputs": [
    {
     "name": "stdout",
     "output_type": "stream",
     "text": [
      "[[ True  True  True ...,  True  True False]\n",
      " [ True  True  True ...,  True  True False]\n",
      " [ True  True  True ...,  True False False]\n",
      " ..., \n",
      " [False False False ..., False False False]\n",
      " [False False False ..., False False False]\n",
      " [False False False ..., False False False]]\n"
     ]
    }
   ],
   "source": [
    "th = 128\n",
    "im_bool = im > th\n",
    "print(im_bool)"
   ]
  },
  {
   "cell_type": "code",
   "execution_count": 4,
   "metadata": {},
   "outputs": [
    {
     "name": "stdout",
     "output_type": "stream",
     "text": [
      "[[255 255 255 ..., 255 255   0]\n",
      " [255 255 255 ..., 255 255   0]\n",
      " [255 255 255 ..., 255   0   0]\n",
      " ..., \n",
      " [  0   0   0 ...,   0   0   0]\n",
      " [  0   0   0 ...,   0   0   0]\n",
      " [  0   0   0 ...,   0   0   0]]\n"
     ]
    }
   ],
   "source": [
    "im_bin_128 = (im > th) * 255\n",
    "print(im_bin_128)"
   ]
  },
  {
   "cell_type": "code",
   "execution_count": 5,
   "metadata": {
    "collapsed": true
   },
   "outputs": [],
   "source": [
    "im_bin_64 = (im > 64) * 255\n",
    "im_bin_192 = (im > 192) * 255"
   ]
  },
  {
   "cell_type": "code",
   "execution_count": 6,
   "metadata": {
    "collapsed": true
   },
   "outputs": [],
   "source": [
    "im_bin = np.concatenate((im_bin_64, im_bin_128, im_bin_192), axis=1)\n",
    "Image.fromarray(np.uint8(im_bin)).save('data/dst/lena_numpy_binarization.png')"
   ]
  },
  {
   "cell_type": "code",
   "execution_count": 7,
   "metadata": {},
   "outputs": [],
   "source": [
    "im_bool = im > 128\n",
    "h, w = im.shape\n",
    "\n",
    "im_dst = np.empty((h, w, 3))\n",
    "\n",
    "r, g, b = 255, 128, 32\n",
    "\n",
    "im_dst[:, :, 0] = im_bool * r\n",
    "im_dst[:, :, 1] = im_bool * g\n",
    "im_dst[:, :, 2] = im_bool * b"
   ]
  },
  {
   "cell_type": "code",
   "execution_count": 8,
   "metadata": {},
   "outputs": [],
   "source": [
    "Image.fromarray(np.uint8(im_dst)).save('data/dst/lena_numpy_binarization_color.png')"
   ]
  },
  {
   "cell_type": "code",
   "execution_count": 9,
   "metadata": {
    "collapsed": true
   },
   "outputs": [],
   "source": [
    "r, g, b = 128, 160, 192\n",
    "\n",
    "im_dst[:, :, 0] = im_bool * r\n",
    "im_dst[:, :, 1] = ~im_bool * g\n",
    "im_dst[:, :, 2] = im_bool * b"
   ]
  },
  {
   "cell_type": "code",
   "execution_count": 10,
   "metadata": {
    "collapsed": true
   },
   "outputs": [],
   "source": [
    "Image.fromarray(np.uint8(im_dst)).save('data/dst/lena_numpy_binarization_color2.png')"
   ]
  }
 ],
 "metadata": {
  "kernelspec": {
   "display_name": "Python 3",
   "language": "python",
   "name": "python3"
  },
  "language_info": {
   "codemirror_mode": {
    "name": "ipython",
    "version": 3
   },
   "file_extension": ".py",
   "mimetype": "text/x-python",
   "name": "python",
   "nbconvert_exporter": "python",
   "pygments_lexer": "ipython3",
   "version": "3.6.4"
  }
 },
 "nbformat": 4,
 "nbformat_minor": 2
}
