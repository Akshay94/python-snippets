{
 "cells": [
  {
   "cell_type": "code",
   "execution_count": 1,
   "metadata": {
    "collapsed": true
   },
   "outputs": [],
   "source": [
    "import pandas as pd"
   ]
  },
  {
   "cell_type": "code",
   "execution_count": 2,
   "metadata": {},
   "outputs": [
    {
     "name": "stdout",
     "output_type": "stream",
     "text": [
      "          date  val_1  val_2\n",
      "0   2017-11-01     65     76\n",
      "1   2017-11-07     26     66\n",
      "2   2017-11-18     47     47\n",
      "3   2017-11-27     20     38\n",
      "4   2017-12-05     65     85\n",
      "5   2017-12-12      4     29\n",
      "6   2017-12-22     31     54\n",
      "7   2017-12-29     21      8\n",
      "8   2018-01-03     98     76\n",
      "9   2018-01-08     48     64\n",
      "10  2018-01-19     18     48\n",
      "11  2018-01-23     86     70\n"
     ]
    }
   ],
   "source": [
    "df = pd.read_csv('data/src/sample_date.csv')\n",
    "print(df)"
   ]
  },
  {
   "cell_type": "code",
   "execution_count": 3,
   "metadata": {},
   "outputs": [
    {
     "name": "stdout",
     "output_type": "stream",
     "text": [
      "<class 'pandas.core.indexes.range.RangeIndex'>\n"
     ]
    }
   ],
   "source": [
    "print(type(df.index))"
   ]
  },
  {
   "cell_type": "code",
   "execution_count": 4,
   "metadata": {},
   "outputs": [
    {
     "name": "stdout",
     "output_type": "stream",
     "text": [
      "object\n"
     ]
    }
   ],
   "source": [
    "print(df['date'].dtype)"
   ]
  },
  {
   "cell_type": "code",
   "execution_count": 5,
   "metadata": {},
   "outputs": [
    {
     "name": "stdout",
     "output_type": "stream",
     "text": [
      "datetime64[ns]\n"
     ]
    }
   ],
   "source": [
    "df['date'] = pd.to_datetime(df['date'])\n",
    "print(df['date'].dtype)"
   ]
  },
  {
   "cell_type": "code",
   "execution_count": 6,
   "metadata": {},
   "outputs": [
    {
     "name": "stdout",
     "output_type": "stream",
     "text": [
      "            val_1  val_2\n",
      "date                    \n",
      "2017-11-01     65     76\n",
      "2017-11-07     26     66\n",
      "2017-11-18     47     47\n",
      "2017-11-27     20     38\n",
      "2017-12-05     65     85\n",
      "2017-12-12      4     29\n",
      "2017-12-22     31     54\n",
      "2017-12-29     21      8\n",
      "2018-01-03     98     76\n",
      "2018-01-08     48     64\n",
      "2018-01-19     18     48\n",
      "2018-01-23     86     70\n"
     ]
    }
   ],
   "source": [
    "df.set_index('date', inplace=True)\n",
    "print(df)"
   ]
  },
  {
   "cell_type": "code",
   "execution_count": 7,
   "metadata": {},
   "outputs": [
    {
     "name": "stdout",
     "output_type": "stream",
     "text": [
      "<class 'pandas.core.indexes.datetimes.DatetimeIndex'>\n"
     ]
    }
   ],
   "source": [
    "print(type(df.index))"
   ]
  },
  {
   "cell_type": "code",
   "execution_count": 8,
   "metadata": {},
   "outputs": [
    {
     "name": "stdout",
     "output_type": "stream",
     "text": [
      "2017-11-01 00:00:00\n",
      "<class 'pandas._libs.tslib.Timestamp'>\n"
     ]
    }
   ],
   "source": [
    "print(df.index[0])\n",
    "print(type(df.index[0]))"
   ]
  },
  {
   "cell_type": "code",
   "execution_count": 9,
   "metadata": {},
   "outputs": [
    {
     "name": "stdout",
     "output_type": "stream",
     "text": [
      "            val_1  val_2\n",
      "date                    \n",
      "2018-01-03     98     76\n",
      "2018-01-08     48     64\n",
      "2018-01-19     18     48\n",
      "2018-01-23     86     70\n"
     ]
    }
   ],
   "source": [
    "print(df['2018'])"
   ]
  },
  {
   "cell_type": "code",
   "execution_count": 10,
   "metadata": {},
   "outputs": [
    {
     "name": "stdout",
     "output_type": "stream",
     "text": [
      "            val_1  val_2\n",
      "date                    \n",
      "2017-11-01     65     76\n",
      "2017-11-07     26     66\n",
      "2017-11-18     47     47\n",
      "2017-11-27     20     38\n"
     ]
    }
   ],
   "source": [
    "print(df['2017-11'])"
   ]
  },
  {
   "cell_type": "code",
   "execution_count": 11,
   "metadata": {},
   "outputs": [
    {
     "name": "stdout",
     "output_type": "stream",
     "text": [
      "            val_1  val_2\n",
      "date                    \n",
      "2017-12-22     31     54\n",
      "2017-12-29     21      8\n",
      "2018-01-03     98     76\n",
      "2018-01-08     48     64\n"
     ]
    }
   ],
   "source": [
    "print(df['2017-12-15':'2018-01-15'])"
   ]
  },
  {
   "cell_type": "code",
   "execution_count": 12,
   "metadata": {},
   "outputs": [
    {
     "name": "stdout",
     "output_type": "stream",
     "text": [
      "18\n"
     ]
    }
   ],
   "source": [
    "print(df.loc['01/19/2018', 'val_1'])"
   ]
  },
  {
   "cell_type": "code",
   "execution_count": 13,
   "metadata": {},
   "outputs": [
    {
     "name": "stdout",
     "output_type": "stream",
     "text": [
      "76\n"
     ]
    }
   ],
   "source": [
    "print(df.loc['20180103', 'val_2'])"
   ]
  },
  {
   "cell_type": "code",
   "execution_count": 14,
   "metadata": {},
   "outputs": [
    {
     "name": "stdout",
     "output_type": "stream",
     "text": [
      "           date  val_1  val_2\n",
      "0    2017年11月1日     65     76\n",
      "1    2017年11月7日     26     66\n",
      "2   2017年11月18日     47     47\n",
      "3   2017年11月27日     20     38\n",
      "4    2017年12月5日     65     85\n",
      "5   2017年12月12日      4     29\n",
      "6   2017年12月22日     31     54\n",
      "7   2017年12月29日     21      8\n",
      "8     2018年1月3日     98     76\n",
      "9     2018年1月8日     48     64\n",
      "10   2018年1月19日     18     48\n",
      "11   2018年1月23日     86     70\n"
     ]
    }
   ],
   "source": [
    "df_jp = pd.read_csv('data/src/sample_date_jp.csv')\n",
    "print(df_jp)"
   ]
  },
  {
   "cell_type": "code",
   "execution_count": 15,
   "metadata": {},
   "outputs": [
    {
     "name": "stdout",
     "output_type": "stream",
     "text": [
      "            val_1  val_2\n",
      "date                    \n",
      "2017-11-01     65     76\n",
      "2017-11-07     26     66\n",
      "2017-11-18     47     47\n",
      "2017-11-27     20     38\n",
      "2017-12-05     65     85\n",
      "2017-12-12      4     29\n",
      "2017-12-22     31     54\n",
      "2017-12-29     21      8\n",
      "2018-01-03     98     76\n",
      "2018-01-08     48     64\n",
      "2018-01-19     18     48\n",
      "2018-01-23     86     70\n"
     ]
    }
   ],
   "source": [
    "df_jp['date'] = pd.to_datetime(df_jp['date'], format='%Y年%m月%d日')\n",
    "df_jp.set_index('date', inplace=True)\n",
    "print(df_jp)"
   ]
  },
  {
   "cell_type": "code",
   "execution_count": 16,
   "metadata": {},
   "outputs": [
    {
     "name": "stdout",
     "output_type": "stream",
     "text": [
      "<class 'pandas.core.indexes.datetimes.DatetimeIndex'>\n"
     ]
    }
   ],
   "source": [
    "print(type(df_jp.index))"
   ]
  },
  {
   "cell_type": "code",
   "execution_count": 17,
   "metadata": {},
   "outputs": [
    {
     "name": "stdout",
     "output_type": "stream",
     "text": [
      "            val_1  val_2\n",
      "date                    \n",
      "2017-11-01     65     76\n",
      "2017-11-07     26     66\n",
      "2017-11-18     47     47\n",
      "2017-11-27     20     38\n",
      "2017-12-05     65     85\n",
      "2017-12-12      4     29\n",
      "2017-12-22     31     54\n",
      "2017-12-29     21      8\n",
      "2018-01-03     98     76\n",
      "2018-01-08     48     64\n",
      "2018-01-19     18     48\n",
      "2018-01-23     86     70\n"
     ]
    }
   ],
   "source": [
    "df = pd.read_csv('data/src/sample_date.csv', index_col='date', parse_dates=True)\n",
    "print(df)"
   ]
  },
  {
   "cell_type": "code",
   "execution_count": 18,
   "metadata": {},
   "outputs": [
    {
     "name": "stdout",
     "output_type": "stream",
     "text": [
      "<class 'pandas.core.indexes.datetimes.DatetimeIndex'>\n"
     ]
    }
   ],
   "source": [
    "print(type(df.index))"
   ]
  },
  {
   "cell_type": "code",
   "execution_count": 19,
   "metadata": {
    "collapsed": true
   },
   "outputs": [],
   "source": [
    "parser = lambda date: pd.to_datetime(date, format='%Y年%m月%d日')"
   ]
  },
  {
   "cell_type": "code",
   "execution_count": 20,
   "metadata": {},
   "outputs": [
    {
     "name": "stdout",
     "output_type": "stream",
     "text": [
      "            val_1  val_2\n",
      "date                    \n",
      "2017-11-01     65     76\n",
      "2017-11-07     26     66\n",
      "2017-11-18     47     47\n",
      "2017-11-27     20     38\n",
      "2017-12-05     65     85\n",
      "2017-12-12      4     29\n",
      "2017-12-22     31     54\n",
      "2017-12-29     21      8\n",
      "2018-01-03     98     76\n",
      "2018-01-08     48     64\n",
      "2018-01-19     18     48\n",
      "2018-01-23     86     70\n"
     ]
    }
   ],
   "source": [
    "df_jp = pd.read_csv('data/src/sample_date_jp.csv', index_col='date', parse_dates=True, date_parser=parser)\n",
    "print(df_jp)"
   ]
  },
  {
   "cell_type": "code",
   "execution_count": 21,
   "metadata": {},
   "outputs": [
    {
     "name": "stdout",
     "output_type": "stream",
     "text": [
      "<class 'pandas.core.indexes.datetimes.DatetimeIndex'>\n"
     ]
    }
   ],
   "source": [
    "print(type(df_jp.index))"
   ]
  },
  {
   "cell_type": "code",
   "execution_count": 22,
   "metadata": {},
   "outputs": [
    {
     "name": "stdout",
     "output_type": "stream",
     "text": [
      "date\n",
      "2017-11-01    65\n",
      "2017-11-07    26\n",
      "2017-11-18    47\n",
      "2017-11-27    20\n",
      "2017-12-05    65\n",
      "2017-12-12     4\n",
      "2017-12-22    31\n",
      "2017-12-29    21\n",
      "2018-01-03    98\n",
      "2018-01-08    48\n",
      "2018-01-19    18\n",
      "2018-01-23    86\n",
      "Name: val_1, dtype: int64\n"
     ]
    }
   ],
   "source": [
    "s = pd.read_csv('data/src/sample_date.csv', index_col=0, usecols=[0, 1], squeeze=True)\n",
    "print(s)"
   ]
  },
  {
   "cell_type": "code",
   "execution_count": 23,
   "metadata": {},
   "outputs": [
    {
     "name": "stdout",
     "output_type": "stream",
     "text": [
      "<class 'pandas.core.series.Series'>\n",
      "<class 'pandas.core.indexes.base.Index'>\n"
     ]
    }
   ],
   "source": [
    "print(type(s))\n",
    "print(type(s.index))"
   ]
  },
  {
   "cell_type": "code",
   "execution_count": 24,
   "metadata": {},
   "outputs": [
    {
     "name": "stdout",
     "output_type": "stream",
     "text": [
      "date\n",
      "2017-11-01    65\n",
      "2017-11-07    26\n",
      "2017-11-18    47\n",
      "2017-11-27    20\n",
      "2017-12-05    65\n",
      "2017-12-12     4\n",
      "2017-12-22    31\n",
      "2017-12-29    21\n",
      "2018-01-03    98\n",
      "2018-01-08    48\n",
      "2018-01-19    18\n",
      "2018-01-23    86\n",
      "Name: val_1, dtype: int64\n"
     ]
    }
   ],
   "source": [
    "s.index = pd.to_datetime(s.index)\n",
    "print(s)"
   ]
  },
  {
   "cell_type": "code",
   "execution_count": 25,
   "metadata": {},
   "outputs": [
    {
     "name": "stdout",
     "output_type": "stream",
     "text": [
      "<class 'pandas.core.series.Series'>\n",
      "<class 'pandas.core.indexes.datetimes.DatetimeIndex'>\n"
     ]
    }
   ],
   "source": [
    "print(type(s))\n",
    "print(type(s.index))"
   ]
  },
  {
   "cell_type": "code",
   "execution_count": 26,
   "metadata": {},
   "outputs": [
    {
     "name": "stdout",
     "output_type": "stream",
     "text": [
      "date\n",
      "2017-12-22    31\n",
      "2017-12-29    21\n",
      "2018-01-03    98\n",
      "2018-01-08    48\n",
      "Name: val_1, dtype: int64\n"
     ]
    }
   ],
   "source": [
    "print(s['2017-12-15':'2018-01-15'])"
   ]
  }
 ],
 "metadata": {
  "kernelspec": {
   "display_name": "Python 3",
   "language": "python",
   "name": "python3"
  },
  "language_info": {
   "codemirror_mode": {
    "name": "ipython",
    "version": 3
   },
   "file_extension": ".py",
   "mimetype": "text/x-python",
   "name": "python",
   "nbconvert_exporter": "python",
   "pygments_lexer": "ipython3",
   "version": "3.6.4"
  }
 },
 "nbformat": 4,
 "nbformat_minor": 2
}
