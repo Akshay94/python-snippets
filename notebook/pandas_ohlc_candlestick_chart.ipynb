{
 "cells": [
  {
   "cell_type": "code",
   "execution_count": 1,
   "metadata": {},
   "outputs": [],
   "source": [
    "import pandas as pd\n",
    "import pandas_datareader.data as web\n",
    "import matplotlib.pyplot as plt\n",
    "import matplotlib.dates as mdates\n",
    "import mpl_finance"
   ]
  },
  {
   "cell_type": "code",
   "execution_count": 2,
   "metadata": {},
   "outputs": [],
   "source": [
    "df = web.DataReader('AAPL', 'iex', '2017-01-01', '2017-12-31')"
   ]
  },
  {
   "cell_type": "code",
   "execution_count": 3,
   "metadata": {},
   "outputs": [],
   "source": [
    "df.index = pd.to_datetime(df.index)"
   ]
  },
  {
   "cell_type": "code",
   "execution_count": 4,
   "metadata": {},
   "outputs": [
    {
     "name": "stdout",
     "output_type": "stream",
     "text": [
      "(251, 5)\n"
     ]
    }
   ],
   "source": [
    "print(df.shape)"
   ]
  },
  {
   "cell_type": "code",
   "execution_count": 5,
   "metadata": {},
   "outputs": [
    {
     "name": "stdout",
     "output_type": "stream",
     "text": [
      "                open      high       low     close    volume\n",
      "date                                                        \n",
      "2017-01-03  112.6732  113.1889  111.6613  113.0138  28781865\n",
      "2017-01-04  112.7219  113.3641  112.6246  112.8873  21118116\n",
      "2017-01-05  112.7900  113.7087  112.6830  113.4614  22193587\n",
      "2017-01-06  113.6268  114.9695  113.3251  114.7263  31751900\n",
      "2017-01-09  114.7652  116.2052  114.7554  115.7771  33561948\n"
     ]
    }
   ],
   "source": [
    "print(df.head())"
   ]
  },
  {
   "cell_type": "code",
   "execution_count": 6,
   "metadata": {},
   "outputs": [
    {
     "name": "stdout",
     "output_type": "stream",
     "text": [
      "                open      high       low     close    volume\n",
      "date                                                        \n",
      "2017-12-22  172.6967  173.4323  172.5188  173.0230  16349444\n",
      "2017-12-26  168.8608  169.5232  167.7525  168.6334  33185536\n",
      "2017-12-27  168.1687  168.8410  167.7831  168.6630  21498213\n",
      "2017-12-28  169.0585  169.8988  168.5444  169.1376  16480187\n",
      "2017-12-29  168.5839  168.6531  167.2987  167.3086  25999922\n"
     ]
    }
   ],
   "source": [
    "print(df.tail())"
   ]
  },
  {
   "cell_type": "code",
   "execution_count": 7,
   "metadata": {},
   "outputs": [],
   "source": [
    "df_ = df.copy()"
   ]
  },
  {
   "cell_type": "code",
   "execution_count": 8,
   "metadata": {},
   "outputs": [],
   "source": [
    "df_.index = mdates.date2num(df_.index)\n",
    "data = df_.reset_index().values"
   ]
  },
  {
   "cell_type": "code",
   "execution_count": 9,
   "metadata": {},
   "outputs": [
    {
     "name": "stdout",
     "output_type": "stream",
     "text": [
      "[[7.3633200e+05 1.1267320e+02 1.1318890e+02 1.1166130e+02 1.1301380e+02\n",
      "  2.8781865e+07]\n",
      " [7.3633300e+05 1.1272190e+02 1.1336410e+02 1.1262460e+02 1.1288730e+02\n",
      "  2.1118116e+07]\n",
      " [7.3633400e+05 1.1279000e+02 1.1370870e+02 1.1268300e+02 1.1346140e+02\n",
      "  2.2193587e+07]\n",
      " ...\n",
      " [7.3669000e+05 1.6816870e+02 1.6884100e+02 1.6778310e+02 1.6866300e+02\n",
      "  2.1498213e+07]\n",
      " [7.3669100e+05 1.6905850e+02 1.6989880e+02 1.6854440e+02 1.6913760e+02\n",
      "  1.6480187e+07]\n",
      " [7.3669200e+05 1.6858390e+02 1.6865310e+02 1.6729870e+02 1.6730860e+02\n",
      "  2.5999922e+07]]\n"
     ]
    }
   ],
   "source": [
    "print(data)"
   ]
  },
  {
   "cell_type": "code",
   "execution_count": 10,
   "metadata": {},
   "outputs": [
    {
     "name": "stdout",
     "output_type": "stream",
     "text": [
      "(251, 6)\n"
     ]
    }
   ],
   "source": [
    "print(data.shape)"
   ]
  },
  {
   "cell_type": "code",
   "execution_count": 11,
   "metadata": {},
   "outputs": [],
   "source": [
    "fig = plt.figure(figsize=(12, 4))\n",
    "ax = fig.add_subplot(1, 1, 1)\n",
    "\n",
    "mpl_finance.candlestick_ohlc(ax, data, width=2, alpha=0.5, colorup='r', colordown='b')\n",
    "\n",
    "ax.grid()\n",
    "\n",
    "locator = mdates.AutoDateLocator()\n",
    "ax.xaxis.set_major_locator(locator)\n",
    "ax.xaxis.set_major_formatter(mdates.AutoDateFormatter(locator))\n",
    "\n",
    "plt.savefig('data/dst/candlestick_day.png')\n",
    "\n",
    "plt.close()"
   ]
  },
  {
   "cell_type": "code",
   "execution_count": 12,
   "metadata": {},
   "outputs": [],
   "source": [
    "fig = plt.figure(figsize=(12, 4))\n",
    "ax = fig.add_subplot(1, 1, 1)\n",
    "\n",
    "mpl_finance.candlestick_ohlc(ax, data, width=2, alpha=0.5, colorup='r', colordown='b')\n",
    "\n",
    "ax.grid()\n",
    "\n",
    "ax.xaxis.set_major_locator(mdates.MonthLocator())\n",
    "ax.xaxis.set_major_formatter(mdates.DateFormatter('%Y/%m'))\n",
    "\n",
    "plt.savefig('data/dst/candlestick_day_format.png')\n",
    "\n",
    "plt.close()"
   ]
  },
  {
   "cell_type": "code",
   "execution_count": 13,
   "metadata": {},
   "outputs": [],
   "source": [
    "d_ohlcv = {'open': 'first',\n",
    "           'high': 'max',\n",
    "           'low': 'min',\n",
    "           'close': 'last',\n",
    "           'volume': 'sum'}"
   ]
  },
  {
   "cell_type": "code",
   "execution_count": 14,
   "metadata": {},
   "outputs": [],
   "source": [
    "df_w = df.resample('W-MON', closed='left', label='left').agg(d_ohlcv).copy()"
   ]
  },
  {
   "cell_type": "code",
   "execution_count": 15,
   "metadata": {},
   "outputs": [],
   "source": [
    "df_w.index = mdates.date2num(df_w.index)\n",
    "data_w = df_w.reset_index().values"
   ]
  },
  {
   "cell_type": "code",
   "execution_count": 16,
   "metadata": {},
   "outputs": [],
   "source": [
    "fig = plt.figure(figsize=(12, 4))\n",
    "ax = fig.add_subplot(1, 1, 1)\n",
    "\n",
    "mpl_finance.candlestick_ohlc(ax, data_w, width=4, alpha=0.75, colorup='r', colordown='b')\n",
    "\n",
    "ax.grid()\n",
    "\n",
    "locator = mdates.AutoDateLocator()\n",
    "ax.xaxis.set_major_locator(locator)\n",
    "ax.xaxis.set_major_formatter(mdates.AutoDateFormatter(locator))\n",
    "\n",
    "plt.savefig('data/dst/candlestick_week.png')\n",
    "\n",
    "plt.close()"
   ]
  },
  {
   "cell_type": "code",
   "execution_count": 17,
   "metadata": {},
   "outputs": [],
   "source": [
    "fig = plt.figure(figsize=(12, 4))\n",
    "ax = fig.add_subplot(1, 1, 1)\n",
    "\n",
    "mpl_finance.candlestick_ohlc(ax, data_w, width=4, alpha=0.75, colorup='r', colordown='b')\n",
    "ax.plot(df_w.index, df_w['close'].rolling(4).mean())\n",
    "ax.plot(df_w.index, df_w['close'].rolling(13).mean())\n",
    "ax.plot(df_w.index, df_w['close'].rolling(26).mean())\n",
    "\n",
    "ax.grid()\n",
    "\n",
    "locator = mdates.AutoDateLocator()\n",
    "ax.xaxis.set_major_locator(locator)\n",
    "ax.xaxis.set_major_formatter(mdates.AutoDateFormatter(locator))\n",
    "\n",
    "plt.savefig('data/dst/candlestick_week_sma.png')\n",
    "\n",
    "plt.close()"
   ]
  },
  {
   "cell_type": "code",
   "execution_count": 18,
   "metadata": {
    "scrolled": true
   },
   "outputs": [],
   "source": [
    "fig, axes = plt.subplots(nrows=2, ncols=1, figsize=(12, 4), sharex=True,\n",
    "                         gridspec_kw={'height_ratios': [3, 1]})\n",
    "\n",
    "mpl_finance.candlestick_ohlc(axes[0], data_w, width=4, alpha=0.75, colorup='r', colordown='b')\n",
    "\n",
    "axes[1].bar(df_w.index, df_w['volume'], width=4, color='navy')\n",
    "\n",
    "axes[0].grid()\n",
    "axes[1].grid()\n",
    "\n",
    "locator = mdates.AutoDateLocator()\n",
    "axes[0].xaxis.set_major_locator(locator)\n",
    "axes[0].xaxis.set_major_formatter(mdates.AutoDateFormatter(locator))\n",
    "\n",
    "plt.savefig('data/dst/candlestick_week_v.png')\n",
    "\n",
    "plt.close()"
   ]
  },
  {
   "cell_type": "code",
   "execution_count": 19,
   "metadata": {},
   "outputs": [],
   "source": [
    "fig, axes = plt.subplots(nrows=2, ncols=1, figsize=(12, 4), sharex=True,\n",
    "                         gridspec_kw={'height_ratios': [3, 1]})\n",
    "\n",
    "mpl_finance.candlestick_ohlc(axes[0], data_w, width=4, alpha=0.75, colorup='r', colordown='b')\n",
    "axes[0].plot(df_w.index, df_w['close'].rolling(4).mean())\n",
    "axes[0].plot(df_w.index, df_w['close'].rolling(13).mean())\n",
    "axes[0].plot(df_w.index, df_w['close'].rolling(26).mean())\n",
    "\n",
    "axes[1].bar(df_w.index, df_w['volume'], width=4, color='navy')\n",
    "\n",
    "axes[0].grid()\n",
    "axes[1].grid()\n",
    "\n",
    "locator = mdates.AutoDateLocator()\n",
    "axes[0].xaxis.set_major_locator(locator)\n",
    "axes[0].xaxis.set_major_formatter(mdates.AutoDateFormatter(locator))\n",
    "\n",
    "plt.savefig('data/dst/candlestick_week_sma_v.png')\n",
    "\n",
    "plt.close()"
   ]
  }
 ],
 "metadata": {
  "kernelspec": {
   "display_name": "Python 3",
   "language": "python",
   "name": "python3"
  },
  "language_info": {
   "codemirror_mode": {
    "name": "ipython",
    "version": 3
   },
   "file_extension": ".py",
   "mimetype": "text/x-python",
   "name": "python",
   "nbconvert_exporter": "python",
   "pygments_lexer": "ipython3",
   "version": "3.7.0"
  }
 },
 "nbformat": 4,
 "nbformat_minor": 2
}
