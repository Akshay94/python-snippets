{
 "cells": [
  {
   "cell_type": "code",
   "execution_count": 1,
   "metadata": {
    "collapsed": true
   },
   "outputs": [],
   "source": [
    "import pandas as pd\n",
    "import seaborn as sns"
   ]
  },
  {
   "cell_type": "code",
   "execution_count": 2,
   "metadata": {},
   "outputs": [
    {
     "name": "stdout",
     "output_type": "stream",
     "text": [
      "(150, 5)\n"
     ]
    }
   ],
   "source": [
    "df = sns.load_dataset(\"iris\")\n",
    "print(df.shape)"
   ]
  },
  {
   "cell_type": "code",
   "execution_count": 3,
   "metadata": {},
   "outputs": [
    {
     "name": "stdout",
     "output_type": "stream",
     "text": [
      "     sepal_length  sepal_width  petal_length  petal_width    species\n",
      "108           6.7          2.5           5.8          1.8  virginica\n"
     ]
    }
   ],
   "source": [
    "print(df.sample())"
   ]
  },
  {
   "cell_type": "code",
   "execution_count": 4,
   "metadata": {},
   "outputs": [
    {
     "name": "stdout",
     "output_type": "stream",
     "text": [
      "    sepal_length  sepal_width  petal_length  petal_width     species\n",
      "3            4.6          3.1           1.5          0.2      setosa\n",
      "1            4.9          3.0           1.4          0.2      setosa\n",
      "96           5.7          2.9           4.2          1.3  versicolor\n"
     ]
    }
   ],
   "source": [
    "print(df.sample(n=3))"
   ]
  },
  {
   "cell_type": "code",
   "execution_count": 5,
   "metadata": {
    "scrolled": true
   },
   "outputs": [
    {
     "name": "stdout",
     "output_type": "stream",
     "text": [
      "     sepal_length  sepal_width  petal_length  petal_width     species\n",
      "114           5.8          2.8           5.1          2.4   virginica\n",
      "62            6.0          2.2           4.0          1.0  versicolor\n",
      "33            5.5          4.2           1.4          0.2      setosa\n"
     ]
    }
   ],
   "source": [
    "print(df.sample(n=3, random_state=0))"
   ]
  },
  {
   "cell_type": "code",
   "execution_count": 6,
   "metadata": {},
   "outputs": [
    {
     "name": "stdout",
     "output_type": "stream",
     "text": [
      "     sepal_length  sepal_width  petal_length  petal_width     species\n",
      "119           6.0          2.2           5.0          1.5   virginica\n",
      "97            6.2          2.9           4.3          1.3  versicolor\n",
      "46            5.1          3.8           1.6          0.2      setosa\n",
      "137           6.4          3.1           5.5          1.8   virginica\n",
      "56            6.3          3.3           4.7          1.6  versicolor\n",
      "62            6.0          2.2           4.0          1.0  versicolor\n"
     ]
    }
   ],
   "source": [
    "print(df.sample(frac=0.04))"
   ]
  },
  {
   "cell_type": "code",
   "execution_count": 7,
   "metadata": {
    "scrolled": true
   },
   "outputs": [
    {
     "name": "stdout",
     "output_type": "stream",
     "text": [
      "   sepal_length  sepal_width  petal_length  petal_width species\n",
      "2           4.7          3.2           1.3          0.2  setosa\n",
      "1           4.9          3.0           1.4          0.2  setosa\n",
      "1           4.9          3.0           1.4          0.2  setosa\n"
     ]
    }
   ],
   "source": [
    "print(df.head(3).sample(n=3, replace=True))"
   ]
  },
  {
   "cell_type": "code",
   "execution_count": 8,
   "metadata": {
    "scrolled": true
   },
   "outputs": [
    {
     "name": "stdout",
     "output_type": "stream",
     "text": [
      "   sepal_length  sepal_width  petal_length  petal_width species\n",
      "1           4.9          3.0           1.4          0.2  setosa\n",
      "0           5.1          3.5           1.4          0.2  setosa\n",
      "1           4.9          3.0           1.4          0.2  setosa\n",
      "0           5.1          3.5           1.4          0.2  setosa\n",
      "0           5.1          3.5           1.4          0.2  setosa\n"
     ]
    }
   ],
   "source": [
    "print(df.head(3).sample(n=5, replace=True))"
   ]
  },
  {
   "cell_type": "code",
   "execution_count": 9,
   "metadata": {},
   "outputs": [
    {
     "name": "stdout",
     "output_type": "stream",
     "text": [
      "   sepal_width species\n",
      "0          3.5  setosa\n",
      "1          3.0  setosa\n",
      "2          3.2  setosa\n",
      "3          3.1  setosa\n",
      "4          3.6  setosa\n"
     ]
    }
   ],
   "source": [
    "print(df.head().sample(n=2, axis=1))"
   ]
  }
 ],
 "metadata": {
  "kernelspec": {
   "display_name": "Python 3",
   "language": "python",
   "name": "python3"
  },
  "language_info": {
   "codemirror_mode": {
    "name": "ipython",
    "version": 3
   },
   "file_extension": ".py",
   "mimetype": "text/x-python",
   "name": "python",
   "nbconvert_exporter": "python",
   "pygments_lexer": "ipython3",
   "version": "3.6.3"
  }
 },
 "nbformat": 4,
 "nbformat_minor": 2
}
