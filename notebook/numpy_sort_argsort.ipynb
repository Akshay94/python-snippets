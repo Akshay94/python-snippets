{
 "cells": [
  {
   "cell_type": "code",
   "execution_count": 1,
   "metadata": {
    "collapsed": true
   },
   "outputs": [],
   "source": [
    "import numpy as np"
   ]
  },
  {
   "cell_type": "code",
   "execution_count": 2,
   "metadata": {},
   "outputs": [
    {
     "name": "stdout",
     "output_type": "stream",
     "text": [
      "[8 0 5 0 1 5 5 5 3 0]\n"
     ]
    }
   ],
   "source": [
    "a = np.random.randint(0, 10, 10)\n",
    "print(a)"
   ]
  },
  {
   "cell_type": "code",
   "execution_count": 3,
   "metadata": {},
   "outputs": [
    {
     "name": "stdout",
     "output_type": "stream",
     "text": [
      "[0 0 0 1 3 5 5 5 5 8]\n"
     ]
    }
   ],
   "source": [
    "sort = np.sort(a)\n",
    "print(sort)"
   ]
  },
  {
   "cell_type": "code",
   "execution_count": 4,
   "metadata": {},
   "outputs": [
    {
     "name": "stdout",
     "output_type": "stream",
     "text": [
      "[8 0 5 0 1 5 5 5 3 0]\n"
     ]
    }
   ],
   "source": [
    "print(a)"
   ]
  },
  {
   "cell_type": "code",
   "execution_count": 5,
   "metadata": {},
   "outputs": [
    {
     "name": "stdout",
     "output_type": "stream",
     "text": [
      "[8 5 5 5 5 3 1 0 0 0]\n"
     ]
    }
   ],
   "source": [
    "sort_inverse = np.sort(a)[::-1]\n",
    "print(sort_inverse)"
   ]
  },
  {
   "cell_type": "code",
   "execution_count": 6,
   "metadata": {},
   "outputs": [
    {
     "name": "stdout",
     "output_type": "stream",
     "text": [
      "[[11 76 26  3 23 79 81 47 42 86]\n",
      " [ 2 27 50 92 22 47 23 61 66 59]\n",
      " [42  5 12  0 79 12  2  7 33 57]]\n"
     ]
    }
   ],
   "source": [
    "a = np.random.randint(0, 100, 30).reshape((3, 10))\n",
    "print(a)"
   ]
  },
  {
   "cell_type": "code",
   "execution_count": 7,
   "metadata": {},
   "outputs": [
    {
     "name": "stdout",
     "output_type": "stream",
     "text": [
      "[[ 2  5 12  0 22 12  2  7 33 57]\n",
      " [11 27 26  3 23 47 23 47 42 59]\n",
      " [42 76 50 92 79 79 81 61 66 86]]\n"
     ]
    }
   ],
   "source": [
    "sort_col = np.sort(a, axis=0)\n",
    "print(sort_col)"
   ]
  },
  {
   "cell_type": "code",
   "execution_count": 8,
   "metadata": {},
   "outputs": [
    {
     "name": "stdout",
     "output_type": "stream",
     "text": [
      "[[42 76 50 92 79 79 81 61 66 86]\n",
      " [11 27 26  3 23 47 23 47 42 59]\n",
      " [ 2  5 12  0 22 12  2  7 33 57]]\n"
     ]
    }
   ],
   "source": [
    "sort_col_inverse = np.sort(a, axis=0)[::-1]\n",
    "print(sort_col_inverse)"
   ]
  },
  {
   "cell_type": "code",
   "execution_count": 9,
   "metadata": {},
   "outputs": [
    {
     "name": "stdout",
     "output_type": "stream",
     "text": [
      "[[ 3 11 23 26 42 47 76 79 81 86]\n",
      " [ 2 22 23 27 47 50 59 61 66 92]\n",
      " [ 0  2  5  7 12 12 33 42 57 79]]\n"
     ]
    }
   ],
   "source": [
    "sort_row = np.sort(a, axis=1)\n",
    "print(sort_row)"
   ]
  },
  {
   "cell_type": "code",
   "execution_count": 10,
   "metadata": {},
   "outputs": [
    {
     "name": "stdout",
     "output_type": "stream",
     "text": [
      "[[ 3 11 23 26 42 47 76 79 81 86]\n",
      " [ 2 22 23 27 47 50 59 61 66 92]\n",
      " [ 0  2  5  7 12 12 33 42 57 79]]\n"
     ]
    }
   ],
   "source": [
    "sort_row = np.sort(a)\n",
    "print(sort_row)"
   ]
  },
  {
   "cell_type": "code",
   "execution_count": 11,
   "metadata": {},
   "outputs": [
    {
     "name": "stdout",
     "output_type": "stream",
     "text": [
      "[[ 3 11 23 26 42 47 76 79 81 86]\n",
      " [ 2 22 23 27 47 50 59 61 66 92]\n",
      " [ 0  2  5  7 12 12 33 42 57 79]]\n"
     ]
    }
   ],
   "source": [
    "sort_row = np.sort(a, axis=-1)\n",
    "print(sort_row)"
   ]
  },
  {
   "cell_type": "code",
   "execution_count": 12,
   "metadata": {},
   "outputs": [
    {
     "name": "stdout",
     "output_type": "stream",
     "text": [
      "[[86 81 79 76 47 42 26 23 11  3]\n",
      " [92 66 61 59 50 47 27 23 22  2]\n",
      " [79 57 42 33 12 12  7  5  2  0]]\n"
     ]
    }
   ],
   "source": [
    "sort_row_inverse = np.sort(a, axis=1)[:, ::-1]\n",
    "print(sort_row_inverse)"
   ]
  },
  {
   "cell_type": "code",
   "execution_count": 13,
   "metadata": {},
   "outputs": [
    {
     "name": "stdout",
     "output_type": "stream",
     "text": [
      "[[1 2 2 2 1 2 2 2 2 2]\n",
      " [0 1 0 0 0 1 1 0 0 1]\n",
      " [2 0 1 1 2 0 0 1 1 0]]\n"
     ]
    }
   ],
   "source": [
    "sort_col_index = np.argsort(a, axis=0)\n",
    "print(sort_col_index)"
   ]
  },
  {
   "cell_type": "code",
   "execution_count": 14,
   "metadata": {},
   "outputs": [
    {
     "name": "stdout",
     "output_type": "stream",
     "text": [
      "[[3 0 4 2 8 7 1 5 6 9]\n",
      " [0 4 6 1 5 2 9 7 8 3]\n",
      " [3 6 1 7 2 5 8 0 9 4]]\n"
     ]
    }
   ],
   "source": [
    "sort_row_index = np.argsort(a)\n",
    "print(sort_row_index)"
   ]
  },
  {
   "cell_type": "code",
   "execution_count": 15,
   "metadata": {
    "collapsed": true
   },
   "outputs": [],
   "source": [
    "col_num = 2"
   ]
  },
  {
   "cell_type": "code",
   "execution_count": 16,
   "metadata": {},
   "outputs": [
    {
     "name": "stdout",
     "output_type": "stream",
     "text": [
      "[2 0 1]\n"
     ]
    }
   ],
   "source": [
    "print(np.argsort(a[:, col_num]))"
   ]
  },
  {
   "cell_type": "code",
   "execution_count": 17,
   "metadata": {
    "scrolled": true
   },
   "outputs": [
    {
     "name": "stdout",
     "output_type": "stream",
     "text": [
      "[[42  5 12  0 79 12  2  7 33 57]\n",
      " [11 76 26  3 23 79 81 47 42 86]\n",
      " [ 2 27 50 92 22 47 23 61 66 59]]\n"
     ]
    }
   ],
   "source": [
    "sort_col_num = a[np.argsort(a[:, col_num]), :]\n",
    "print(sort_col_num)"
   ]
  },
  {
   "cell_type": "code",
   "execution_count": 18,
   "metadata": {},
   "outputs": [
    {
     "name": "stdout",
     "output_type": "stream",
     "text": [
      "[[42  5 12  0 79 12  2  7 33 57]\n",
      " [11 76 26  3 23 79 81 47 42 86]\n",
      " [ 2 27 50 92 22 47 23 61 66 59]]\n"
     ]
    }
   ],
   "source": [
    "sort_col_num = a[np.argsort(a[:, col_num])]\n",
    "print(sort_col_num)"
   ]
  },
  {
   "cell_type": "code",
   "execution_count": 19,
   "metadata": {},
   "outputs": [
    {
     "name": "stdout",
     "output_type": "stream",
     "text": [
      "[1 0 2]\n"
     ]
    }
   ],
   "source": [
    "print(np.argsort(a[:, col_num])[::-1])"
   ]
  },
  {
   "cell_type": "code",
   "execution_count": 20,
   "metadata": {},
   "outputs": [
    {
     "name": "stdout",
     "output_type": "stream",
     "text": [
      "[[ 2 27 50 92 22 47 23 61 66 59]\n",
      " [11 76 26  3 23 79 81 47 42 86]\n",
      " [42  5 12  0 79 12  2  7 33 57]]\n"
     ]
    }
   ],
   "source": [
    "sort_col_num_inverse = a[np.argsort(a[:, col_num])[::-1]]\n",
    "print(sort_col_num_inverse)"
   ]
  },
  {
   "cell_type": "code",
   "execution_count": 21,
   "metadata": {
    "collapsed": true
   },
   "outputs": [],
   "source": [
    "row_num = 1"
   ]
  },
  {
   "cell_type": "code",
   "execution_count": 22,
   "metadata": {},
   "outputs": [
    {
     "name": "stdout",
     "output_type": "stream",
     "text": [
      "[0 4 6 1 5 2 9 7 8 3]\n"
     ]
    }
   ],
   "source": [
    "print(np.argsort(a[row_num]))"
   ]
  },
  {
   "cell_type": "code",
   "execution_count": 23,
   "metadata": {},
   "outputs": [
    {
     "name": "stdout",
     "output_type": "stream",
     "text": [
      "[[11 23 81 76 79 26 86 47 42  3]\n",
      " [ 2 22 23 27 47 50 59 61 66 92]\n",
      " [42 79  2  5 12 12 57  7 33  0]]\n"
     ]
    }
   ],
   "source": [
    "sort_row_num = a[:, np.argsort(a[row_num])]\n",
    "print(sort_row_num)"
   ]
  },
  {
   "cell_type": "code",
   "execution_count": 24,
   "metadata": {},
   "outputs": [
    {
     "name": "stdout",
     "output_type": "stream",
     "text": [
      "[3 8 7 9 2 5 1 6 4 0]\n"
     ]
    }
   ],
   "source": [
    "print(np.argsort(a[row_num])[::-1])"
   ]
  },
  {
   "cell_type": "code",
   "execution_count": 25,
   "metadata": {},
   "outputs": [
    {
     "name": "stdout",
     "output_type": "stream",
     "text": [
      "[[ 3 42 47 86 26 79 76 81 23 11]\n",
      " [92 66 61 59 50 47 27 23 22  2]\n",
      " [ 0 33  7 57 12 12  5  2 79 42]]\n"
     ]
    }
   ],
   "source": [
    "sort_row_num_inverse = a[:, np.argsort(a[row_num])[::-1]]\n",
    "print(sort_row_num_inverse)"
   ]
  }
 ],
 "metadata": {
  "kernelspec": {
   "display_name": "Python 3",
   "language": "python",
   "name": "python3"
  },
  "language_info": {
   "codemirror_mode": {
    "name": "ipython",
    "version": 3
   },
   "file_extension": ".py",
   "mimetype": "text/x-python",
   "name": "python",
   "nbconvert_exporter": "python",
   "pygments_lexer": "ipython3",
   "version": "3.6.4"
  }
 },
 "nbformat": 4,
 "nbformat_minor": 2
}
