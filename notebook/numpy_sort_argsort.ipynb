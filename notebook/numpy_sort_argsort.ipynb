{
 "cells": [
  {
   "cell_type": "code",
   "execution_count": 1,
   "metadata": {
    "collapsed": true
   },
   "outputs": [],
   "source": [
    "import numpy as np"
   ]
  },
  {
   "cell_type": "code",
   "execution_count": 2,
   "metadata": {},
   "outputs": [
    {
     "name": "stdout",
     "output_type": "stream",
     "text": [
      "[1 5 4 3 0 0 6 2 1 5]\n"
     ]
    }
   ],
   "source": [
    "a = np.random.randint(0, 10, 10)\n",
    "print(a)"
   ]
  },
  {
   "cell_type": "code",
   "execution_count": 3,
   "metadata": {},
   "outputs": [
    {
     "name": "stdout",
     "output_type": "stream",
     "text": [
      "[0 0 1 1 2 3 4 5 5 6]\n"
     ]
    }
   ],
   "source": [
    "sort = np.sort(a)\n",
    "print(sort)"
   ]
  },
  {
   "cell_type": "code",
   "execution_count": 4,
   "metadata": {},
   "outputs": [
    {
     "name": "stdout",
     "output_type": "stream",
     "text": [
      "[1 5 4 3 0 0 6 2 1 5]\n"
     ]
    }
   ],
   "source": [
    "print(a)"
   ]
  },
  {
   "cell_type": "code",
   "execution_count": 5,
   "metadata": {},
   "outputs": [
    {
     "name": "stdout",
     "output_type": "stream",
     "text": [
      "[6 5 5 4 3 2 1 1 0 0]\n"
     ]
    }
   ],
   "source": [
    "sort_inverse = np.sort(a)[::-1]\n",
    "print(sort_inverse)"
   ]
  },
  {
   "cell_type": "code",
   "execution_count": 6,
   "metadata": {},
   "outputs": [
    {
     "name": "stdout",
     "output_type": "stream",
     "text": [
      "[[19 62 24 59  1 33 28 39 16 52]\n",
      " [52 82 13 81 95 28 36 14 85 25]\n",
      " [96 16 25 28 93 63 30  6 76 78]]\n"
     ]
    }
   ],
   "source": [
    "a = np.random.randint(0, 100, 30).reshape((3, 10))\n",
    "print(a)"
   ]
  },
  {
   "cell_type": "code",
   "execution_count": 7,
   "metadata": {},
   "outputs": [
    {
     "name": "stdout",
     "output_type": "stream",
     "text": [
      "[[19 16 13 28  1 28 28  6 16 25]\n",
      " [52 62 24 59 93 33 30 14 76 52]\n",
      " [96 82 25 81 95 63 36 39 85 78]]\n"
     ]
    }
   ],
   "source": [
    "sort_col = np.sort(a, axis=0)\n",
    "print(sort_col)"
   ]
  },
  {
   "cell_type": "code",
   "execution_count": 8,
   "metadata": {},
   "outputs": [
    {
     "name": "stdout",
     "output_type": "stream",
     "text": [
      "[[96 82 25 81 95 63 36 39 85 78]\n",
      " [52 62 24 59 93 33 30 14 76 52]\n",
      " [19 16 13 28  1 28 28  6 16 25]]\n"
     ]
    }
   ],
   "source": [
    "sort_col_inverse = np.sort(a, axis=0)[::-1]\n",
    "print(sort_col_inverse)"
   ]
  },
  {
   "cell_type": "code",
   "execution_count": 9,
   "metadata": {},
   "outputs": [
    {
     "name": "stdout",
     "output_type": "stream",
     "text": [
      "[[ 1 16 19 24 28 33 39 52 59 62]\n",
      " [13 14 25 28 36 52 81 82 85 95]\n",
      " [ 6 16 25 28 30 63 76 78 93 96]]\n"
     ]
    }
   ],
   "source": [
    "sort_row = np.sort(a, axis=1)\n",
    "print(sort_row)"
   ]
  },
  {
   "cell_type": "code",
   "execution_count": 10,
   "metadata": {},
   "outputs": [
    {
     "name": "stdout",
     "output_type": "stream",
     "text": [
      "[[ 1 16 19 24 28 33 39 52 59 62]\n",
      " [13 14 25 28 36 52 81 82 85 95]\n",
      " [ 6 16 25 28 30 63 76 78 93 96]]\n"
     ]
    }
   ],
   "source": [
    "sort_row = np.sort(a)\n",
    "print(sort_row)"
   ]
  },
  {
   "cell_type": "code",
   "execution_count": 11,
   "metadata": {},
   "outputs": [
    {
     "name": "stdout",
     "output_type": "stream",
     "text": [
      "[[ 1 16 19 24 28 33 39 52 59 62]\n",
      " [13 14 25 28 36 52 81 82 85 95]\n",
      " [ 6 16 25 28 30 63 76 78 93 96]]\n"
     ]
    }
   ],
   "source": [
    "sort_row = np.sort(a, axis=-1)\n",
    "print(sort_row)"
   ]
  },
  {
   "cell_type": "code",
   "execution_count": 12,
   "metadata": {},
   "outputs": [
    {
     "name": "stdout",
     "output_type": "stream",
     "text": [
      "[[62 59 52 39 33 28 24 19 16  1]\n",
      " [95 85 82 81 52 36 28 25 14 13]\n",
      " [96 93 78 76 63 30 28 25 16  6]]\n"
     ]
    }
   ],
   "source": [
    "sort_row_inverse = np.sort(a, axis=1)[:, ::-1]\n",
    "print(sort_row_inverse)"
   ]
  },
  {
   "cell_type": "code",
   "execution_count": 13,
   "metadata": {},
   "outputs": [
    {
     "name": "stdout",
     "output_type": "stream",
     "text": [
      "[[0 2 1 2 0 1 0 2 0 1]\n",
      " [1 0 0 0 2 0 2 1 2 0]\n",
      " [2 1 2 1 1 2 1 0 1 2]]\n"
     ]
    }
   ],
   "source": [
    "sort_col_index = np.argsort(a, axis=0)\n",
    "print(sort_col_index)"
   ]
  },
  {
   "cell_type": "code",
   "execution_count": 14,
   "metadata": {},
   "outputs": [
    {
     "name": "stdout",
     "output_type": "stream",
     "text": [
      "[[4 8 0 2 6 5 7 9 3 1]\n",
      " [2 7 9 5 6 0 3 1 8 4]\n",
      " [7 1 2 3 6 5 8 9 4 0]]\n"
     ]
    }
   ],
   "source": [
    "sort_row_index = np.argsort(a)\n",
    "print(sort_row_index)"
   ]
  },
  {
   "cell_type": "code",
   "execution_count": 15,
   "metadata": {
    "collapsed": true
   },
   "outputs": [],
   "source": [
    "col_num = 2"
   ]
  },
  {
   "cell_type": "code",
   "execution_count": 16,
   "metadata": {},
   "outputs": [
    {
     "name": "stdout",
     "output_type": "stream",
     "text": [
      "[24 13 25]\n"
     ]
    }
   ],
   "source": [
    "print(a[:, col_num])"
   ]
  },
  {
   "cell_type": "code",
   "execution_count": 17,
   "metadata": {},
   "outputs": [
    {
     "name": "stdout",
     "output_type": "stream",
     "text": [
      "[1 0 2]\n"
     ]
    }
   ],
   "source": [
    "print(np.argsort(a[:, col_num]))"
   ]
  },
  {
   "cell_type": "code",
   "execution_count": 18,
   "metadata": {
    "scrolled": true
   },
   "outputs": [
    {
     "name": "stdout",
     "output_type": "stream",
     "text": [
      "[[52 82 13 81 95 28 36 14 85 25]\n",
      " [19 62 24 59  1 33 28 39 16 52]\n",
      " [96 16 25 28 93 63 30  6 76 78]]\n"
     ]
    }
   ],
   "source": [
    "sort_col_num = a[np.argsort(a[:, col_num]), :]\n",
    "print(sort_col_num)"
   ]
  },
  {
   "cell_type": "code",
   "execution_count": 19,
   "metadata": {},
   "outputs": [
    {
     "name": "stdout",
     "output_type": "stream",
     "text": [
      "[[52 82 13 81 95 28 36 14 85 25]\n",
      " [19 62 24 59  1 33 28 39 16 52]\n",
      " [96 16 25 28 93 63 30  6 76 78]]\n"
     ]
    }
   ],
   "source": [
    "sort_col_num = a[np.argsort(a[:, col_num])]\n",
    "print(sort_col_num)"
   ]
  },
  {
   "cell_type": "code",
   "execution_count": 20,
   "metadata": {},
   "outputs": [
    {
     "name": "stdout",
     "output_type": "stream",
     "text": [
      "[2 0 1]\n"
     ]
    }
   ],
   "source": [
    "print(np.argsort(a[:, col_num])[::-1])"
   ]
  },
  {
   "cell_type": "code",
   "execution_count": 21,
   "metadata": {},
   "outputs": [
    {
     "name": "stdout",
     "output_type": "stream",
     "text": [
      "[[96 16 25 28 93 63 30  6 76 78]\n",
      " [19 62 24 59  1 33 28 39 16 52]\n",
      " [52 82 13 81 95 28 36 14 85 25]]\n"
     ]
    }
   ],
   "source": [
    "sort_col_num_inverse = a[np.argsort(a[:, col_num])[::-1]]\n",
    "print(sort_col_num_inverse)"
   ]
  },
  {
   "cell_type": "code",
   "execution_count": 22,
   "metadata": {
    "collapsed": true
   },
   "outputs": [],
   "source": [
    "row_num = 1"
   ]
  },
  {
   "cell_type": "code",
   "execution_count": 23,
   "metadata": {},
   "outputs": [
    {
     "name": "stdout",
     "output_type": "stream",
     "text": [
      "[52 82 13 81 95 28 36 14 85 25]\n"
     ]
    }
   ],
   "source": [
    "print(a[row_num])"
   ]
  },
  {
   "cell_type": "code",
   "execution_count": 24,
   "metadata": {},
   "outputs": [
    {
     "name": "stdout",
     "output_type": "stream",
     "text": [
      "[2 7 9 5 6 0 3 1 8 4]\n"
     ]
    }
   ],
   "source": [
    "print(np.argsort(a[row_num]))"
   ]
  },
  {
   "cell_type": "code",
   "execution_count": 25,
   "metadata": {},
   "outputs": [
    {
     "name": "stdout",
     "output_type": "stream",
     "text": [
      "[[24 39 52 33 28 19 59 62 16  1]\n",
      " [13 14 25 28 36 52 81 82 85 95]\n",
      " [25  6 78 63 30 96 28 16 76 93]]\n"
     ]
    }
   ],
   "source": [
    "sort_row_num = a[:, np.argsort(a[row_num])]\n",
    "print(sort_row_num)"
   ]
  },
  {
   "cell_type": "code",
   "execution_count": 26,
   "metadata": {},
   "outputs": [
    {
     "name": "stdout",
     "output_type": "stream",
     "text": [
      "[4 8 1 3 0 6 5 9 7 2]\n"
     ]
    }
   ],
   "source": [
    "print(np.argsort(a[row_num])[::-1])"
   ]
  },
  {
   "cell_type": "code",
   "execution_count": 27,
   "metadata": {},
   "outputs": [
    {
     "name": "stdout",
     "output_type": "stream",
     "text": [
      "[[ 1 16 62 59 19 28 33 52 39 24]\n",
      " [95 85 82 81 52 36 28 25 14 13]\n",
      " [93 76 16 28 96 30 63 78  6 25]]\n"
     ]
    }
   ],
   "source": [
    "sort_row_num_inverse = a[:, np.argsort(a[row_num])[::-1]]\n",
    "print(sort_row_num_inverse)"
   ]
  }
 ],
 "metadata": {
  "kernelspec": {
   "display_name": "Python 3",
   "language": "python",
   "name": "python3"
  },
  "language_info": {
   "codemirror_mode": {
    "name": "ipython",
    "version": 3
   },
   "file_extension": ".py",
   "mimetype": "text/x-python",
   "name": "python",
   "nbconvert_exporter": "python",
   "pygments_lexer": "ipython3",
   "version": "3.6.4"
  }
 },
 "nbformat": 4,
 "nbformat_minor": 2
}
