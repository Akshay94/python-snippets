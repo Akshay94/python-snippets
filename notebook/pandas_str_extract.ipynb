{
 "cells": [
  {
   "cell_type": "code",
   "execution_count": 1,
   "metadata": {
    "collapsed": true
   },
   "outputs": [],
   "source": [
    "import pandas as pd"
   ]
  },
  {
   "cell_type": "code",
   "execution_count": 2,
   "metadata": {},
   "outputs": [
    {
     "name": "stdout",
     "output_type": "stream",
     "text": [
      "A          a1A\n",
      "B       bb22BB\n",
      "C    ccc333CCC\n",
      "dtype: object\n"
     ]
    }
   ],
   "source": [
    "s = pd.Series(['a1A', 'bb22BB', 'ccc333CCC'], index=['A', 'B', 'C'])\n",
    "print(s)"
   ]
  },
  {
   "cell_type": "code",
   "execution_count": 3,
   "metadata": {},
   "outputs": [
    {
     "name": "stdout",
     "output_type": "stream",
     "text": [
      "     0       1\n",
      "A    a      1A\n",
      "B   bb    22BB\n",
      "C  ccc  333CCC\n"
     ]
    }
   ],
   "source": [
    "df = s.str.extract('(\\D*)(.*)', expand=True)\n",
    "print(df)"
   ]
  },
  {
   "cell_type": "code",
   "execution_count": 4,
   "metadata": {},
   "outputs": [
    {
     "name": "stdout",
     "output_type": "stream",
     "text": [
      "     0       1\n",
      "A    a      1A\n",
      "B   bb    22BB\n",
      "C  ccc  333CCC\n"
     ]
    }
   ],
   "source": [
    "df_name = s.str.extract('(?P<col_1>\\D*)(?P<col_2>.*)', expand=True)\n",
    "print(df)"
   ]
  },
  {
   "cell_type": "code",
   "execution_count": 5,
   "metadata": {
    "scrolled": true
   },
   "outputs": [
    {
     "name": "stdout",
     "output_type": "stream",
     "text": [
      "  col_1    0    1\n",
      "A     a    1    A\n",
      "B    bb   22   BB\n",
      "C   ccc  333  CCC\n"
     ]
    }
   ],
   "source": [
    "df2 = pd.concat([df_name['col_1'],\n",
    "                 df_name['col_2'].str.extract('(\\d*)(\\D*)', expand=True)],\n",
    "                axis=1)\n",
    "print(df2)"
   ]
  },
  {
   "cell_type": "code",
   "execution_count": 6,
   "metadata": {},
   "outputs": [
    {
     "name": "stdout",
     "output_type": "stream",
     "text": [
      "  col_1 col_2 col_3\n",
      "A     a     1     A\n",
      "B    bb    22    BB\n",
      "C   ccc   333   CCC\n"
     ]
    }
   ],
   "source": [
    "df2_name = pd.concat([df_name['col_1'],\n",
    "                      df_name['col_2'].str.extract('(?P<col_2>\\d*)(?P<col_3>\\D*)', expand=True)],\n",
    "                     axis=1)\n",
    "print(df2_name)"
   ]
  }
 ],
 "metadata": {
  "kernelspec": {
   "display_name": "Python 3",
   "language": "python",
   "name": "python3"
  },
  "language_info": {
   "codemirror_mode": {
    "name": "ipython",
    "version": 3
   },
   "file_extension": ".py",
   "mimetype": "text/x-python",
   "name": "python",
   "nbconvert_exporter": "python",
   "pygments_lexer": "ipython3",
   "version": "3.6.3"
  }
 },
 "nbformat": 4,
 "nbformat_minor": 2
}
