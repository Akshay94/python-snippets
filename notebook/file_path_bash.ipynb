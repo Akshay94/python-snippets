{
 "cells": [
  {
   "cell_type": "code",
   "execution_count": 1,
   "metadata": {},
   "outputs": [
    {
     "name": "stdout",
     "output_type": "stream",
     "text": [
      "/Users/mbp/Documents/my-project/python-snippets/notebook\n"
     ]
    }
   ],
   "source": [
    "pwd"
   ]
  },
  {
   "cell_type": "code",
   "execution_count": 2,
   "metadata": {},
   "outputs": [
    {
     "name": "stdout",
     "output_type": "stream",
     "text": [
      "getcwd:       /Users/mbp/Documents/my-project/python-snippets/notebook\n",
      "__file__:     data/src/file_path.py\n",
      "basename:     file_path.py\n",
      "dirname:      data/src\n",
      "abspath:      /Users/mbp/Documents/my-project/python-snippets/notebook/data/src/file_path.py\n",
      "abs dirname:  /Users/mbp/Documents/my-project/python-snippets/notebook/data/src\n",
      "\n",
      "[set target path 1]\n",
      "target_path_1:  data/src/test.txt\n",
      "read target file:\n",
      "line 1\n",
      "line 2\n",
      "line 3\n",
      "\n",
      "[set target path 2]\n",
      "target_path_2:  data/src/../dst/test_new.json\n",
      "read target file:\n",
      "{\n",
      "  \"A\": 100,\n",
      "  \"B\": \"abc\",\n",
      "  \"C\": \"あいうえお\"\n",
      "}\n",
      "\n",
      "[change directory]\n",
      "getcwd:       /Users/mbp/Documents/my-project/python-snippets/notebook/data/src\n",
      "\n",
      "[set target path 1 (after chdir)]\n",
      "target_path_1:  test.txt\n",
      "read target file:\n",
      "line 1\n",
      "line 2\n",
      "line 3\n",
      "\n",
      "[set target path 2 (after chdir)]\n",
      "target_path_2:  ../dst/test_new.json\n",
      "read target file:\n",
      "{\n",
      "  \"A\": 100,\n",
      "  \"B\": \"abc\",\n",
      "  \"C\": \"あいうえお\"\n",
      "}\n"
     ]
    }
   ],
   "source": [
    "python3 data/src/file_path.py"
   ]
  },
  {
   "cell_type": "code",
   "execution_count": 3,
   "metadata": {},
   "outputs": [],
   "source": [
    "cd data/src"
   ]
  },
  {
   "cell_type": "code",
   "execution_count": 4,
   "metadata": {},
   "outputs": [
    {
     "name": "stdout",
     "output_type": "stream",
     "text": [
      "getcwd:       /Users/mbp/Documents/my-project/python-snippets/notebook/data/src\n",
      "__file__:     file_path.py\n",
      "basename:     file_path.py\n",
      "dirname:      \n",
      "abspath:      /Users/mbp/Documents/my-project/python-snippets/notebook/data/src/file_path.py\n",
      "abs dirname:  /Users/mbp/Documents/my-project/python-snippets/notebook/data/src\n",
      "\n",
      "[set target path 1]\n",
      "target_path_1:  test.txt\n",
      "read target file:\n",
      "line 1\n",
      "line 2\n",
      "line 3\n",
      "\n",
      "[set target path 2]\n",
      "target_path_2:  ../dst/test_new.json\n",
      "read target file:\n",
      "{\n",
      "  \"A\": 100,\n",
      "  \"B\": \"abc\",\n",
      "  \"C\": \"あいうえお\"\n",
      "}\n",
      "\n",
      "[change directory]\n",
      "getcwd:       /Users/mbp/Documents/my-project/python-snippets/notebook/data/src\n",
      "\n",
      "[set target path 1 (after chdir)]\n",
      "target_path_1:  test.txt\n",
      "read target file:\n",
      "line 1\n",
      "line 2\n",
      "line 3\n",
      "\n",
      "[set target path 2 (after chdir)]\n",
      "target_path_2:  ../dst/test_new.json\n",
      "read target file:\n",
      "{\n",
      "  \"A\": 100,\n",
      "  \"B\": \"abc\",\n",
      "  \"C\": \"あいうえお\"\n",
      "}\n"
     ]
    }
   ],
   "source": [
    "python3 file_path.py"
   ]
  }
 ],
 "metadata": {
  "kernelspec": {
   "display_name": "Bash",
   "language": "bash",
   "name": "bash"
  },
  "language_info": {
   "codemirror_mode": "shell",
   "file_extension": ".sh",
   "mimetype": "text/x-sh",
   "name": "bash"
  }
 },
 "nbformat": 4,
 "nbformat_minor": 2
}
