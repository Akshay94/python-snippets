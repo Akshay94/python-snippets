{
 "cells": [
  {
   "cell_type": "code",
   "execution_count": 1,
   "metadata": {},
   "outputs": [],
   "source": [
    "import os\n",
    "import shutil"
   ]
  },
  {
   "cell_type": "code",
   "execution_count": 2,
   "metadata": {},
   "outputs": [],
   "source": [
    "def glob_example_detail():\n",
    "    shutil.rmtree('temp')\n",
    "    \n",
    "    os.makedirs('temp/dir/', exist_ok=True)\n",
    "    os.makedirs('temp/dir/sub_dir1/', exist_ok=True)\n",
    "    os.makedirs('temp/dir/sub_dir2/', exist_ok=True)\n",
    "    \n",
    "    with open('temp/aaa.text', 'w'): pass\n",
    "    with open('temp/1.txt', 'w'): pass\n",
    "    with open('temp/12.text', 'w'): pass\n",
    "    with open('temp/123.txt', 'w'): pass\n",
    "    with open('temp/[x].txt', 'w'): pass\n",
    "    \n",
    "    with open('temp/dir/bbb.txt', 'w'): pass\n",
    "    with open('temp/dir/987.text', 'w'): pass\n",
    "\n",
    "    with open('temp/dir/sub_dir1/98.txt', 'w'): pass\n",
    "    with open('temp/dir/sub_dir1/ccc.text', 'w'): pass\n",
    "    \n",
    "    with open('temp/dir/sub_dir2/ddd.text', 'w'): pass"
   ]
  }
 ],
 "metadata": {
  "kernelspec": {
   "display_name": "Python 3",
   "language": "python",
   "name": "python3"
  },
  "language_info": {
   "codemirror_mode": {
    "name": "ipython",
    "version": 3
   },
   "file_extension": ".py",
   "mimetype": "text/x-python",
   "name": "python",
   "nbconvert_exporter": "python",
   "pygments_lexer": "ipython3",
   "version": "3.7.0"
  }
 },
 "nbformat": 4,
 "nbformat_minor": 2
}
