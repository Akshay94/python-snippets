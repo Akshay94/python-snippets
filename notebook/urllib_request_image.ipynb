{
 "cells": [
  {
   "cell_type": "code",
   "execution_count": 1,
   "metadata": {},
   "outputs": [],
   "source": [
    "import os\n",
    "import time\n",
    "import urllib.error\n",
    "import urllib.request"
   ]
  },
  {
   "cell_type": "code",
   "execution_count": 2,
   "metadata": {},
   "outputs": [],
   "source": [
    "def download_image(url, dst_path):\n",
    "    try:\n",
    "        data = urllib.request.urlopen(url).read()\n",
    "        with open(dst_path, mode=\"wb\") as f:\n",
    "            f.write(data)\n",
    "    except urllib.error.URLError as e:\n",
    "        print(e)"
   ]
  },
  {
   "cell_type": "code",
   "execution_count": 3,
   "metadata": {},
   "outputs": [],
   "source": [
    "url = 'https://upload.wikimedia.org/wikipedia/en/2/24/Lenna.png'\n",
    "dst_path = 'data/src/lena_square.png'\n",
    "# dst_dir = 'data/src'\n",
    "# dst_path = os.path.join(dst_dir, os.path.basename(url))\n",
    "download_image(url, dst_path)"
   ]
  },
  {
   "cell_type": "code",
   "execution_count": 4,
   "metadata": {},
   "outputs": [
    {
     "name": "stdout",
     "output_type": "stream",
     "text": [
      "HTTP Error 404: Not Found\n"
     ]
    }
   ],
   "source": [
    "error_url = 'https://upload.wikimedia.org/wikipedia/en/2/24/Lenna_xxx.png'\n",
    "download_image(error_url, dst_path)"
   ]
  },
  {
   "cell_type": "code",
   "execution_count": 5,
   "metadata": {},
   "outputs": [],
   "source": [
    "url_list = []\n",
    "for i in range(5):\n",
    "    url = 'http://example.com/basedir/base_{:03}.jpg'.format(i)\n",
    "    url_list.append(url)"
   ]
  },
  {
   "cell_type": "code",
   "execution_count": 6,
   "metadata": {},
   "outputs": [
    {
     "name": "stdout",
     "output_type": "stream",
     "text": [
      "http://example.com/basedir/base_000.jpg temp/dir/base_000.jpg\n",
      "http://example.com/basedir/base_001.jpg temp/dir/base_001.jpg\n",
      "http://example.com/basedir/base_002.jpg temp/dir/base_002.jpg\n",
      "http://example.com/basedir/base_003.jpg temp/dir/base_003.jpg\n",
      "http://example.com/basedir/base_004.jpg temp/dir/base_004.jpg\n"
     ]
    }
   ],
   "source": [
    "download_dir = 'temp/dir'\n",
    "sleep_time_sec = 1\n",
    "\n",
    "for url in url_list:\n",
    "    filename = os.path.basename(url)\n",
    "    dst_path = os.path.join(download_dir, filename)\n",
    "    time.sleep(sleep_time_sec)\n",
    "    print(url, dst_path)\n",
    "    # download_image(url, dst_path)"
   ]
  }
 ],
 "metadata": {
  "kernelspec": {
   "display_name": "Python 3",
   "language": "python",
   "name": "python3"
  },
  "language_info": {
   "codemirror_mode": {
    "name": "ipython",
    "version": 3
   },
   "file_extension": ".py",
   "mimetype": "text/x-python",
   "name": "python",
   "nbconvert_exporter": "python",
   "pygments_lexer": "ipython3",
   "version": "3.6.3"
  }
 },
 "nbformat": 4,
 "nbformat_minor": 2
}
