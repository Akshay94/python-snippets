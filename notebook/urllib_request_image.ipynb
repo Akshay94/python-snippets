{
 "cells": [
  {
   "cell_type": "code",
   "execution_count": 1,
   "metadata": {},
   "outputs": [],
   "source": [
    "import os\n",
    "import pprint\n",
    "import time\n",
    "import urllib.error\n",
    "import urllib.request"
   ]
  },
  {
   "cell_type": "code",
   "execution_count": 2,
   "metadata": {},
   "outputs": [],
   "source": [
    "def download_image(url, dst_path):\n",
    "    try:\n",
    "        data = urllib.request.urlopen(url).read()\n",
    "        with open(dst_path, mode=\"wb\") as f:\n",
    "            f.write(data)\n",
    "    except urllib.error.URLError as e:\n",
    "        print(e)"
   ]
  },
  {
   "cell_type": "code",
   "execution_count": 3,
   "metadata": {},
   "outputs": [],
   "source": [
    "url = 'https://www.python.org/static/img/python-logo.png'\n",
    "dst_path = 'data/temp/py-logo.png'\n",
    "\n",
    "download_image(url, dst_path)"
   ]
  },
  {
   "cell_type": "code",
   "execution_count": 4,
   "metadata": {},
   "outputs": [],
   "source": [
    "def download_image_dir(url, dst_dir):\n",
    "    download_image(url, os.path.join(dst_dir, os.path.basename(url)))"
   ]
  },
  {
   "cell_type": "code",
   "execution_count": 5,
   "metadata": {},
   "outputs": [],
   "source": [
    "dst_dir = 'data/temp'\n",
    "\n",
    "download_image_dir(url, dst_dir)"
   ]
  },
  {
   "cell_type": "code",
   "execution_count": 6,
   "metadata": {},
   "outputs": [
    {
     "name": "stdout",
     "output_type": "stream",
     "text": [
      "HTTP Error 404: Not Found\n"
     ]
    }
   ],
   "source": [
    "error_url = 'https://www.python.org/static/img/python-logo_xxx.png'\n",
    "download_image(error_url, dst_path)"
   ]
  },
  {
   "cell_type": "code",
   "execution_count": 7,
   "metadata": {},
   "outputs": [
    {
     "name": "stdout",
     "output_type": "stream",
     "text": [
      "['https://example.com/basedir/base_000.jpg',\n",
      " 'https://example.com/basedir/base_001.jpg',\n",
      " 'https://example.com/basedir/base_002.jpg',\n",
      " 'https://example.com/basedir/base_003.jpg',\n",
      " 'https://example.com/basedir/base_004.jpg']\n"
     ]
    }
   ],
   "source": [
    "url_list = ['https://example.com/basedir/base_{:03}.jpg'.format(i) for i in range(5)]\n",
    "\n",
    "pprint.pprint(url_list)"
   ]
  },
  {
   "cell_type": "code",
   "execution_count": 8,
   "metadata": {},
   "outputs": [
    {
     "name": "stdout",
     "output_type": "stream",
     "text": [
      "https://example.com/basedir/base_000.jpg\n",
      "https://example.com/basedir/base_001.jpg\n",
      "https://example.com/basedir/base_002.jpg\n",
      "https://example.com/basedir/base_003.jpg\n",
      "https://example.com/basedir/base_004.jpg\n"
     ]
    }
   ],
   "source": [
    "download_dir = 'data/temp'\n",
    "sleep_time_sec = 1\n",
    "\n",
    "for url in url_list:\n",
    "    print(url)\n",
    "#     download_image_dir(url, download_dir)\n",
    "    time.sleep(sleep_time_sec)"
   ]
  }
 ],
 "metadata": {
  "kernelspec": {
   "display_name": "Python 3",
   "language": "python",
   "name": "python3"
  },
  "language_info": {
   "codemirror_mode": {
    "name": "ipython",
    "version": 3
   },
   "file_extension": ".py",
   "mimetype": "text/x-python",
   "name": "python",
   "nbconvert_exporter": "python",
   "pygments_lexer": "ipython3",
   "version": "3.7.3"
  }
 },
 "nbformat": 4,
 "nbformat_minor": 2
}
