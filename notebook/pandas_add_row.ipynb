{
 "cells": [
  {
   "cell_type": "code",
   "execution_count": 1,
   "metadata": {
    "collapsed": true
   },
   "outputs": [],
   "source": [
    "import pandas as pd"
   ]
  },
  {
   "cell_type": "code",
   "execution_count": 2,
   "metadata": {},
   "outputs": [
    {
     "name": "stdout",
     "output_type": "stream",
     "text": [
      "        A   B   C\n",
      "ONE    A1  B1  C1\n",
      "TWO    A2  B2  C2\n",
      "THREE  A3  B3  C3\n"
     ]
    }
   ],
   "source": [
    "df = pd.DataFrame({'A': ['A1', 'A2', 'A3'],\n",
    "                   'B': ['B1', 'B2', 'B3'],\n",
    "                   'C': ['C1', 'C2', 'C3']},\n",
    "                  index=['ONE', 'TWO', 'THREE'])\n",
    "print(df)"
   ]
  },
  {
   "cell_type": "code",
   "execution_count": 3,
   "metadata": {},
   "outputs": [
    {
     "name": "stdout",
     "output_type": "stream",
     "text": [
      "        A   B   C\n",
      "ONE     0   0   0\n",
      "TWO    A2  B2  C2\n",
      "THREE  A3  B3  C3\n"
     ]
    }
   ],
   "source": [
    "df.loc['ONE'] = 0\n",
    "print(df)"
   ]
  },
  {
   "cell_type": "code",
   "execution_count": 4,
   "metadata": {},
   "outputs": [
    {
     "name": "stdout",
     "output_type": "stream",
     "text": [
      "        A   B   C\n",
      "ONE     0   0   0\n",
      "TWO    A2  B2  C2\n",
      "THREE  A3  B3  C3\n",
      "FOUR    0   0   0\n"
     ]
    }
   ],
   "source": [
    "df.loc['FOUR'] = 0\n",
    "print(df)"
   ]
  },
  {
   "cell_type": "code",
   "execution_count": 5,
   "metadata": {},
   "outputs": [
    {
     "name": "stdout",
     "output_type": "stream",
     "text": [
      "        A   B   C\n",
      "ONE     0   0   0\n",
      "TWO    A2  B2  C2\n",
      "THREE  A3  B3  C3\n",
      "FOUR    0   0   0\n",
      "FIVE   A5  B5  C5\n"
     ]
    }
   ],
   "source": [
    "df.loc['FIVE'] = ['A5', 'B5', 'C5']\n",
    "print(df)"
   ]
  },
  {
   "cell_type": "code",
   "execution_count": 6,
   "metadata": {},
   "outputs": [],
   "source": [
    "# df.loc['SIX'] = ['A6', 'B6']\n",
    "# ValueError: cannot set a row with mismatched columns"
   ]
  },
  {
   "cell_type": "code",
   "execution_count": 7,
   "metadata": {},
   "outputs": [
    {
     "name": "stdout",
     "output_type": "stream",
     "text": [
      "          A     B     C\n",
      "ONE       0     0     0\n",
      "TWO      A2    B2    C2\n",
      "THREE    A3    B3    C3\n",
      "FOUR      0     0     0\n",
      "FIVE     A5    B5    C5\n",
      "XXX    A2A3  B2B3  C2C3\n"
     ]
    }
   ],
   "source": [
    "df.loc['XXX'] = df.loc['TWO'] + df.loc['THREE']\n",
    "print(df)"
   ]
  },
  {
   "cell_type": "code",
   "execution_count": 8,
   "metadata": {},
   "outputs": [
    {
     "name": "stdout",
     "output_type": "stream",
     "text": [
      "B    B6\n",
      "C    C6\n",
      "D    D6\n",
      "Name: SIX, dtype: object\n"
     ]
    }
   ],
   "source": [
    "s = pd.Series(['B6', 'C6', 'D6'], index=['B', 'C', 'D'], name='SIX')\n",
    "print(s)"
   ]
  },
  {
   "cell_type": "code",
   "execution_count": 9,
   "metadata": {},
   "outputs": [
    {
     "name": "stdout",
     "output_type": "stream",
     "text": [
      "          A     B     C\n",
      "ONE       0     0     0\n",
      "TWO      A2    B2    C2\n",
      "THREE    A3    B3    C3\n",
      "FOUR      0     0     0\n",
      "FIVE     A5    B5    C5\n",
      "XXX    A2A3  B2B3  C2C3\n",
      "YYY     NaN    B6    C6\n"
     ]
    }
   ],
   "source": [
    "df.loc['YYY'] = s\n",
    "print(df)"
   ]
  },
  {
   "cell_type": "code",
   "execution_count": 10,
   "metadata": {},
   "outputs": [
    {
     "name": "stdout",
     "output_type": "stream",
     "text": [
      "          A     B     C\n",
      "ONE       0     0     0\n",
      "TWO      A2    B2    C2\n",
      "THREE    A3    B3    C3\n",
      "FOUR      0     0     0\n",
      "FIVE     A5    B5    C5\n",
      "XXX    A2A3  B2B3  C2C3\n",
      "YYY     NaN    B6    C6\n",
      "ZZZ      B6    C6    D6\n"
     ]
    }
   ],
   "source": [
    "df.loc['ZZZ'] = s.values\n",
    "print(df)"
   ]
  },
  {
   "cell_type": "code",
   "execution_count": 11,
   "metadata": {},
   "outputs": [
    {
     "name": "stdout",
     "output_type": "stream",
     "text": [
      "        A   B   C\n",
      "ONE    A1  B1  C1\n",
      "TWO    A2  B2  C2\n",
      "THREE  A3  B3  C3\n"
     ]
    }
   ],
   "source": [
    "df = pd.DataFrame({'A': ['A1', 'A2', 'A3'],\n",
    "                   'B': ['B1', 'B2', 'B3'],\n",
    "                   'C': ['C1', 'C2', 'C3']},\n",
    "                  index=['ONE', 'TWO', 'THREE'])\n",
    "print(df)"
   ]
  },
  {
   "cell_type": "code",
   "execution_count": 32,
   "metadata": {},
   "outputs": [
    {
     "name": "stdout",
     "output_type": "stream",
     "text": [
      "A    A4\n",
      "B    B4\n",
      "C    C4\n",
      "Name: FOUR, dtype: object\n"
     ]
    }
   ],
   "source": [
    "s = pd.Series(['A4', 'B4', 'C4'], index=df.columns, name='FOUR')\n",
    "print(s)"
   ]
  },
  {
   "cell_type": "code",
   "execution_count": 33,
   "metadata": {},
   "outputs": [
    {
     "name": "stdout",
     "output_type": "stream",
     "text": [
      "        A   B   C\n",
      "ONE    A1  B1  C1\n",
      "TWO    A2  B2  C2\n",
      "THREE  A3  B3  C3\n",
      "FOUR   A4  B4  C4\n"
     ]
    }
   ],
   "source": [
    "df_append = df.append(s)\n",
    "print(df_append)"
   ]
  },
  {
   "cell_type": "code",
   "execution_count": 15,
   "metadata": {},
   "outputs": [
    {
     "name": "stdout",
     "output_type": "stream",
     "text": [
      "B    B5\n",
      "C    C5\n",
      "D    D5\n",
      "Name: FIVE, dtype: object\n"
     ]
    }
   ],
   "source": [
    "s_mismatch = pd.Series(['B5', 'C5', 'D5'], index=['B', 'C', 'D'], name='FIVE')\n",
    "print(s_mismatch)"
   ]
  },
  {
   "cell_type": "code",
   "execution_count": 16,
   "metadata": {},
   "outputs": [
    {
     "name": "stdout",
     "output_type": "stream",
     "text": [
      "         A   B   C    D\n",
      "ONE     A1  B1  C1  NaN\n",
      "TWO     A2  B2  C2  NaN\n",
      "THREE   A3  B3  C3  NaN\n",
      "FIVE   NaN  B5  C5   D5\n"
     ]
    }
   ],
   "source": [
    "df_append_mismatch = df.append(s_mismatch)\n",
    "print(df_append_mismatch)"
   ]
  },
  {
   "cell_type": "code",
   "execution_count": 14,
   "metadata": {},
   "outputs": [
    {
     "name": "stdout",
     "output_type": "stream",
     "text": [
      "        A   B   C\n",
      "ONE    A1  B1  C1\n",
      "TWO    A2  B2  C2\n",
      "THREE  A3  B3  C3\n"
     ]
    }
   ],
   "source": [
    "print(df)"
   ]
  },
  {
   "cell_type": "code",
   "execution_count": 17,
   "metadata": {
    "collapsed": true
   },
   "outputs": [],
   "source": [
    "s_no_name = pd.Series(['B4', 'C4', 'D4'], index=['B', 'C', 'D'])"
   ]
  },
  {
   "cell_type": "code",
   "execution_count": 18,
   "metadata": {
    "collapsed": true
   },
   "outputs": [],
   "source": [
    "# df_append_no_name = df.append(s_no_name)\n",
    "# TypeError: Can only append a Series if ignore_index=True or if the Series has a name"
   ]
  },
  {
   "cell_type": "code",
   "execution_count": 19,
   "metadata": {},
   "outputs": [
    {
     "name": "stdout",
     "output_type": "stream",
     "text": [
      "         A   B   C    D\n",
      "ONE     A1  B1  C1  NaN\n",
      "TWO     A2  B2  C2  NaN\n",
      "THREE   A3  B3  C3  NaN\n",
      "FOUR    A4  B4  C4  NaN\n",
      "FIVE   NaN  B5  C5   D5\n"
     ]
    }
   ],
   "source": [
    "df_append_multi = df.append([s, s_mismatch])\n",
    "print(df_append_multi)"
   ]
  },
  {
   "cell_type": "code",
   "execution_count": 20,
   "metadata": {},
   "outputs": [
    {
     "name": "stdout",
     "output_type": "stream",
     "text": [
      "       B   C   D\n",
      "FOUR  B4  C4  D4\n",
      "FIVE  B5  C5  D5\n"
     ]
    }
   ],
   "source": [
    "df2 = pd.DataFrame([['B4', 'C4', 'D4'], ['B5', 'C5', 'D5']], \n",
    "                   index=['FOUR', 'FIVE'], columns=['B', 'C', 'D'])\n",
    "print(df2)"
   ]
  },
  {
   "cell_type": "code",
   "execution_count": 21,
   "metadata": {},
   "outputs": [
    {
     "name": "stdout",
     "output_type": "stream",
     "text": [
      "         A   B   C    D\n",
      "ONE     A1  B1  C1  NaN\n",
      "TWO     A2  B2  C2  NaN\n",
      "THREE   A3  B3  C3  NaN\n",
      "FOUR   NaN  B4  C4   D4\n",
      "FIVE   NaN  B5  C5   D5\n"
     ]
    }
   ],
   "source": [
    "df_append = df.append(df2)\n",
    "print(df_append)"
   ]
  },
  {
   "cell_type": "code",
   "execution_count": 22,
   "metadata": {},
   "outputs": [
    {
     "name": "stdout",
     "output_type": "stream",
     "text": [
      "         A   B   C    D\n",
      "ONE     A1  B1  C1  NaN\n",
      "TWO     A2  B2  C2  NaN\n",
      "THREE   A3  B3  C3  NaN\n",
      "FOUR   NaN  B4  C4   D4\n",
      "FIVE   NaN  B5  C5   D5\n"
     ]
    }
   ],
   "source": [
    "df_concat = pd.concat([df, df2])\n",
    "print(df_concat)"
   ]
  },
  {
   "cell_type": "code",
   "execution_count": 23,
   "metadata": {},
   "outputs": [
    {
     "name": "stdout",
     "output_type": "stream",
     "text": [
      "        B   C\n",
      "ONE    B1  C1\n",
      "TWO    B2  C2\n",
      "THREE  B3  C3\n",
      "FOUR   B4  C4\n",
      "FIVE   B5  C5\n"
     ]
    }
   ],
   "source": [
    "df_concat_in = pd.concat([df, df2], join='inner')\n",
    "print(df_concat_in)"
   ]
  },
  {
   "cell_type": "code",
   "execution_count": 24,
   "metadata": {},
   "outputs": [
    {
     "name": "stdout",
     "output_type": "stream",
     "text": [
      "A    AX\n",
      "B    BX\n",
      "C    CX\n",
      "Name: X, dtype: object\n"
     ]
    }
   ],
   "source": [
    "s = pd.Series(['AX', 'BX', 'CX'], index=df.columns, name='X')\n",
    "print(s)"
   ]
  },
  {
   "cell_type": "code",
   "execution_count": 25,
   "metadata": {},
   "outputs": [
    {
     "name": "stdout",
     "output_type": "stream",
     "text": [
      "        A   B   C\n",
      "ONE    A1  B1  C1\n",
      "TWO    A2  B2  C2\n",
      "THREE  A3  B3  C3\n",
      "X      AX  BX  CX\n"
     ]
    }
   ],
   "source": [
    "df_append_s = df.append(s)\n",
    "print(df_append_s)"
   ]
  },
  {
   "cell_type": "code",
   "execution_count": 26,
   "metadata": {},
   "outputs": [
    {
     "name": "stdout",
     "output_type": "stream",
     "text": [
      "         A    B    C    0\n",
      "ONE     A1   B1   C1  NaN\n",
      "TWO     A2   B2   C2  NaN\n",
      "THREE   A3   B3   C3  NaN\n",
      "A      NaN  NaN  NaN   AX\n",
      "B      NaN  NaN  NaN   BX\n",
      "C      NaN  NaN  NaN   CX\n"
     ]
    }
   ],
   "source": [
    "df_concat_s = pd.concat([df, s])\n",
    "print(df_concat_s)"
   ]
  },
  {
   "cell_type": "code",
   "execution_count": 27,
   "metadata": {},
   "outputs": [
    {
     "name": "stdout",
     "output_type": "stream",
     "text": [
      "<class 'pandas.core.frame.DataFrame'>\n",
      "    A   B   C\n",
      "X  AX  BX  CX\n"
     ]
    }
   ],
   "source": [
    "st = pd.DataFrame(s).T\n",
    "print(type(st))\n",
    "print(st)"
   ]
  },
  {
   "cell_type": "code",
   "execution_count": 28,
   "metadata": {},
   "outputs": [
    {
     "name": "stdout",
     "output_type": "stream",
     "text": [
      "        A   B   C\n",
      "ONE    A1  B1  C1\n",
      "TWO    A2  B2  C2\n",
      "THREE  A3  B3  C3\n",
      "X      AX  BX  CX\n"
     ]
    }
   ],
   "source": [
    "df_concat_st = pd.concat([df, pd.DataFrame(s).T])\n",
    "print(df_concat_st)"
   ]
  },
  {
   "cell_type": "code",
   "execution_count": 29,
   "metadata": {},
   "outputs": [
    {
     "name": "stdout",
     "output_type": "stream",
     "text": [
      "        A   B   C\n",
      "ONE    A1  B1  C1\n",
      "TWO    A2  B2  C2\n",
      "THREE  A3  B3  C3\n",
      "FOUR    0   0   0\n",
      "FIVE   A5  B5  C5\n"
     ]
    }
   ],
   "source": [
    "df_assign = df.T.assign(FOUR=0, FIVE=['A5', 'B5', 'C5']).T\n",
    "print(df_assign)"
   ]
  }
 ],
 "metadata": {
  "kernelspec": {
   "display_name": "Python 3",
   "language": "python",
   "name": "python3"
  },
  "language_info": {
   "codemirror_mode": {
    "name": "ipython",
    "version": 3
   },
   "file_extension": ".py",
   "mimetype": "text/x-python",
   "name": "python",
   "nbconvert_exporter": "python",
   "pygments_lexer": "ipython3",
   "version": "3.6.5"
  }
 },
 "nbformat": 4,
 "nbformat_minor": 2
}
