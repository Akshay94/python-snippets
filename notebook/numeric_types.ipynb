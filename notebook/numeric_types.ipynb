{
 "cells": [
  {
   "cell_type": "code",
   "execution_count": 1,
   "metadata": {},
   "outputs": [
    {
     "name": "stdout",
     "output_type": "stream",
     "text": [
      "4 <class 'int'>\n",
      "64 <class 'int'>\n",
      "256 <class 'int'>\n"
     ]
    }
   ],
   "source": [
    "binary = 0b100\n",
    "octal = 0o100\n",
    "hexadecimal = 0x100\n",
    "print(binary, type(binary))\n",
    "print(octal, type(octal))\n",
    "print(hexadecimal, type(hexadecimal))"
   ]
  },
  {
   "cell_type": "code",
   "execution_count": 2,
   "metadata": {},
   "outputs": [
    {
     "name": "stdout",
     "output_type": "stream",
     "text": [
      "0b1100100 <class 'str'>\n",
      "0o144 <class 'str'>\n",
      "0x64 <class 'str'>\n"
     ]
    }
   ],
   "source": [
    "# number to string\n",
    "i = 100\n",
    "print(bin(i), type(bin(i)))\n",
    "print(oct(i), type(oct(i)))\n",
    "print(hex(i), type(hex(i)))"
   ]
  },
  {
   "cell_type": "code",
   "execution_count": 3,
   "metadata": {},
   "outputs": [
    {
     "name": "stdout",
     "output_type": "stream",
     "text": [
      "4\n",
      "64\n",
      "256\n",
      "100\n"
     ]
    }
   ],
   "source": [
    "# string to number\n",
    "print(int('100', 2))\n",
    "print(int('100', 8))\n",
    "print(int('100', 16))\n",
    "print(int('100'))"
   ]
  },
  {
   "cell_type": "code",
   "execution_count": 4,
   "metadata": {},
   "outputs": [
    {
     "name": "stdout",
     "output_type": "stream",
     "text": [
      "4\n",
      "64\n",
      "256\n",
      "100\n"
     ]
    }
   ],
   "source": [
    "print(int('0b100', 0))\n",
    "print(int('0o100', 0))\n",
    "print(int('0x100', 0))\n",
    "print(int('100', 0))"
   ]
  }
 ],
 "metadata": {
  "kernelspec": {
   "display_name": "Python 3",
   "language": "python",
   "name": "python3"
  },
  "language_info": {
   "codemirror_mode": {
    "name": "ipython",
    "version": 3
   },
   "file_extension": ".py",
   "mimetype": "text/x-python",
   "name": "python",
   "nbconvert_exporter": "python",
   "pygments_lexer": "ipython3",
   "version": "3.6.2"
  }
 },
 "nbformat": 4,
 "nbformat_minor": 2
}
