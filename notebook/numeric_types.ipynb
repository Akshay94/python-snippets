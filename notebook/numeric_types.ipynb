{
 "cells": [
  {
   "cell_type": "code",
   "execution_count": 1,
   "metadata": {},
   "outputs": [
    {
     "name": "stdout",
     "output_type": "stream",
     "text": [
      "2\n",
      "8\n",
      "16\n"
     ]
    }
   ],
   "source": [
    "bin_num = 0b10\n",
    "oct_num = 0o10\n",
    "hex_num = 0x10\n",
    "print(bin_num)\n",
    "print(oct_num)\n",
    "print(hex_num)"
   ]
  },
  {
   "cell_type": "code",
   "execution_count": 2,
   "metadata": {},
   "outputs": [
    {
     "name": "stdout",
     "output_type": "stream",
     "text": [
      "<class 'int'>\n",
      "<class 'int'>\n",
      "<class 'int'>\n"
     ]
    }
   ],
   "source": [
    "print(type(bin_num))\n",
    "print(type(oct_num))\n",
    "print(type(hex_num))"
   ]
  },
  {
   "cell_type": "code",
   "execution_count": 3,
   "metadata": {},
   "outputs": [
    {
     "name": "stdout",
     "output_type": "stream",
     "text": [
      "2\n",
      "8\n",
      "16\n"
     ]
    }
   ],
   "source": [
    "Bin_num = 0B10\n",
    "Oct_num = 0O10\n",
    "Hex_num = 0X10\n",
    "print(Bin_num)\n",
    "print(Oct_num)\n",
    "print(Hex_num)"
   ]
  },
  {
   "cell_type": "code",
   "execution_count": 4,
   "metadata": {},
   "outputs": [
    {
     "name": "stdout",
     "output_type": "stream",
     "text": [
      "<class 'int'>\n",
      "<class 'int'>\n",
      "<class 'int'>\n"
     ]
    }
   ],
   "source": [
    "print(type(Bin_num))\n",
    "print(type(Oct_num))\n",
    "print(type(Hex_num))"
   ]
  },
  {
   "cell_type": "code",
   "execution_count": 5,
   "metadata": {},
   "outputs": [
    {
     "name": "stdout",
     "output_type": "stream",
     "text": [
      "32\n"
     ]
    }
   ],
   "source": [
    "num = 0b10 * 0o10 + 0x10\n",
    "print(num)"
   ]
  },
  {
   "cell_type": "code",
   "execution_count": 6,
   "metadata": {},
   "outputs": [
    {
     "name": "stdout",
     "output_type": "stream",
     "text": [
      "0b11111111\n",
      "0o377\n",
      "0xff\n"
     ]
    }
   ],
   "source": [
    "i = 255\n",
    "\n",
    "bin_str = bin(i)\n",
    "oct_str = oct(i)\n",
    "hex_str = hex(i)\n",
    "print(bin_str)\n",
    "print(oct_str)\n",
    "print(hex_str)"
   ]
  },
  {
   "cell_type": "code",
   "execution_count": 7,
   "metadata": {},
   "outputs": [
    {
     "name": "stdout",
     "output_type": "stream",
     "text": [
      "<class 'str'>\n",
      "<class 'str'>\n",
      "<class 'str'>\n"
     ]
    }
   ],
   "source": [
    "print(type(bin_str))\n",
    "print(type(oct_str))\n",
    "print(type(hex_str))"
   ]
  },
  {
   "cell_type": "code",
   "execution_count": 8,
   "metadata": {},
   "outputs": [
    {
     "name": "stdout",
     "output_type": "stream",
     "text": [
      "11111111\n",
      "377\n",
      "ff\n"
     ]
    }
   ],
   "source": [
    "bin_str = format(i, 'b')\n",
    "oct_str = format(i, 'o')\n",
    "hex_str = format(i, 'x')\n",
    "print(bin_str)\n",
    "print(oct_str)\n",
    "print(hex_str)"
   ]
  },
  {
   "cell_type": "code",
   "execution_count": 9,
   "metadata": {},
   "outputs": [
    {
     "name": "stdout",
     "output_type": "stream",
     "text": [
      "<class 'str'>\n",
      "<class 'str'>\n",
      "<class 'str'>\n"
     ]
    }
   ],
   "source": [
    "print(type(bin_str))\n",
    "print(type(oct_str))\n",
    "print(type(hex_str))"
   ]
  },
  {
   "cell_type": "code",
   "execution_count": 10,
   "metadata": {},
   "outputs": [
    {
     "name": "stdout",
     "output_type": "stream",
     "text": [
      "11111111\n",
      "00000377\n",
      "000000ff\n"
     ]
    }
   ],
   "source": [
    "bin_str = format(i, '08b')\n",
    "oct_str = format(i, '08o')\n",
    "hex_str = format(i, '08x')\n",
    "print(bin_str)\n",
    "print(oct_str)\n",
    "print(hex_str)"
   ]
  },
  {
   "cell_type": "code",
   "execution_count": 11,
   "metadata": {},
   "outputs": [
    {
     "name": "stdout",
     "output_type": "stream",
     "text": [
      "<class 'str'>\n",
      "<class 'str'>\n",
      "<class 'str'>\n"
     ]
    }
   ],
   "source": [
    "print(type(bin_str))\n",
    "print(type(oct_str))\n",
    "print(type(hex_str))"
   ]
  },
  {
   "cell_type": "code",
   "execution_count": 12,
   "metadata": {},
   "outputs": [
    {
     "name": "stdout",
     "output_type": "stream",
     "text": [
      "bin is 11111111\n",
      "oct is 00000377\n",
      "hex is 000000ff\n"
     ]
    }
   ],
   "source": [
    "print('bin is {:08b}'.format(i))\n",
    "print('oct is {:08o}'.format(i))\n",
    "print('hex is {:08x}'.format(i))"
   ]
  },
  {
   "cell_type": "code",
   "execution_count": 13,
   "metadata": {},
   "outputs": [
    {
     "name": "stdout",
     "output_type": "stream",
     "text": [
      "10\n",
      "2\n",
      "8\n",
      "16\n"
     ]
    }
   ],
   "source": [
    "dec_num = int('10')\n",
    "bin_num = int('10', 2)\n",
    "oct_num = int('10', 8)\n",
    "hex_num = int('10', 16)\n",
    "print(dec_num)\n",
    "print(bin_num)\n",
    "print(oct_num)\n",
    "print(hex_num)"
   ]
  },
  {
   "cell_type": "code",
   "execution_count": 14,
   "metadata": {},
   "outputs": [
    {
     "name": "stdout",
     "output_type": "stream",
     "text": [
      "10\n",
      "2\n",
      "8\n",
      "16\n"
     ]
    }
   ],
   "source": [
    "dec_num = int('10', 0)\n",
    "bin_num = int('0b10', 0)\n",
    "oct_num = int('0o10', 0)\n",
    "hex_num = int('0x10', 0)\n",
    "print(dec_num)\n",
    "print(bin_num)\n",
    "print(oct_num)\n",
    "print(hex_num)"
   ]
  },
  {
   "cell_type": "code",
   "execution_count": 15,
   "metadata": {},
   "outputs": [
    {
     "name": "stdout",
     "output_type": "stream",
     "text": [
      "2\n",
      "8\n",
      "16\n"
     ]
    }
   ],
   "source": [
    "Bin_num = int('0B10', 0)\n",
    "Oct_num = int('0O10', 0)\n",
    "Hex_num = int('0X10', 0)\n",
    "print(Bin_num)\n",
    "print(Oct_num)\n",
    "print(Hex_num)"
   ]
  },
  {
   "cell_type": "code",
   "execution_count": 16,
   "metadata": {},
   "outputs": [
    {
     "name": "stdout",
     "output_type": "stream",
     "text": [
      "12\n",
      "0b1100\n"
     ]
    }
   ],
   "source": [
    "a = '0b1001'\n",
    "b = '0b0011'\n",
    "c = int(a, 0) + int(b, 0)\n",
    "print(c)\n",
    "print(bin(c))"
   ]
  }
 ],
 "metadata": {
  "kernelspec": {
   "display_name": "Python 3",
   "language": "python",
   "name": "python3"
  },
  "language_info": {
   "codemirror_mode": {
    "name": "ipython",
    "version": 3
   },
   "file_extension": ".py",
   "mimetype": "text/x-python",
   "name": "python",
   "nbconvert_exporter": "python",
   "pygments_lexer": "ipython3",
   "version": "3.6.2"
  }
 },
 "nbformat": 4,
 "nbformat_minor": 2
}
