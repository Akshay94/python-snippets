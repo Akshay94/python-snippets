{
 "cells": [
  {
   "cell_type": "markdown",
   "metadata": {},
   "source": [
    "- https://docs.python.jp/3/library/string.html#format-string-syntax\n",
    "- https://docs.python.jp/3/library/string.html#formatspec\n",
    "- https://docs.python.jp/3/library/string.html#format-examples"
   ]
  },
  {
   "cell_type": "code",
   "execution_count": 1,
   "metadata": {},
   "outputs": [
    {
     "name": "stdout",
     "output_type": "stream",
     "text": [
      "foo\n"
     ]
    }
   ],
   "source": [
    "print('{0}'.format('foo'))"
   ]
  },
  {
   "cell_type": "code",
   "execution_count": 2,
   "metadata": {},
   "outputs": [
    {
     "name": "stdout",
     "output_type": "stream",
     "text": [
      "foo\n"
     ]
    }
   ],
   "source": [
    "print('{}'.format('foo'))"
   ]
  },
  {
   "cell_type": "code",
   "execution_count": 3,
   "metadata": {},
   "outputs": [
    {
     "name": "stdout",
     "output_type": "stream",
     "text": [
      "one, two, three\n"
     ]
    }
   ],
   "source": [
    "print('{}, {}, {}'.format('one', 'two', 'three'))"
   ]
  },
  {
   "cell_type": "code",
   "execution_count": 4,
   "metadata": {},
   "outputs": [
    {
     "name": "stdout",
     "output_type": "stream",
     "text": [
      "foo, bar, foo\n"
     ]
    }
   ],
   "source": [
    "print('{0}, {1}, {0}'.format('foo', 'bar'))"
   ]
  },
  {
   "cell_type": "code",
   "execution_count": 5,
   "metadata": {},
   "outputs": [
    {
     "name": "stdout",
     "output_type": "stream",
     "text": [
      "one, two, one\n"
     ]
    }
   ],
   "source": [
    "print('{word1}, {word2}, {word1}'.format(word1='one', word2='two'))"
   ]
  },
  {
   "cell_type": "code",
   "execution_count": 6,
   "metadata": {},
   "outputs": [
    {
     "name": "stdout",
     "output_type": "stream",
     "text": [
      "ALice is 20 years old.\n"
     ]
    }
   ],
   "source": [
    "person = {'name': 'ALice', 'age': 20}\n",
    "print('{0[name]} is {0[age]} years old.'.format(person))"
   ]
  },
  {
   "cell_type": "code",
   "execution_count": 7,
   "metadata": {},
   "outputs": [
    {
     "name": "stdout",
     "output_type": "stream",
     "text": [
      "left  : 100       \n",
      "center:    100    \n",
      "right :        100\n"
     ]
    }
   ],
   "source": [
    "i = 100\n",
    "print('left  : {:<10}'.format(i))\n",
    "print('center: {:^10}'.format(i))\n",
    "print('right : {:>10}'.format(i))"
   ]
  },
  {
   "cell_type": "code",
   "execution_count": 8,
   "metadata": {},
   "outputs": [
    {
     "name": "stdout",
     "output_type": "stream",
     "text": [
      "left  : 100*******\n",
      "center: ***100****\n",
      "right : *******100\n"
     ]
    }
   ],
   "source": [
    "i = 100\n",
    "print('left  : {:*<10}'.format(i))\n",
    "print('center: {:*^10}'.format(i))\n",
    "print('right : {:*>10}'.format(i))"
   ]
  },
  {
   "cell_type": "code",
   "execution_count": 9,
   "metadata": {},
   "outputs": [
    {
     "name": "stdout",
     "output_type": "stream",
     "text": [
      "bin: 11111111\n",
      "oct: 377\n",
      "dec: 255\n",
      "hex: ff\n"
     ]
    }
   ],
   "source": [
    "i = 255\n",
    "print('bin: {:b}'.format(i))\n",
    "print('oct: {:o}'.format(i))\n",
    "print('dec: {:d}'.format(i))\n",
    "print('hex: {:x}'.format(i))"
   ]
  },
  {
   "cell_type": "code",
   "execution_count": 10,
   "metadata": {},
   "outputs": [
    {
     "name": "stdout",
     "output_type": "stream",
     "text": [
      "bin: 11111111\n",
      "oct: 00000377\n",
      "dec: 00000255\n",
      "hex: 000000ff\n"
     ]
    }
   ],
   "source": [
    "i = 255\n",
    "print('bin: {:0>8b}'.format(i))\n",
    "print('oct: {:0>8o}'.format(i))\n",
    "print('dec: {:0>8d}'.format(i))\n",
    "print('hex: {:0>8x}'.format(i))"
   ]
  }
 ],
 "metadata": {
  "kernelspec": {
   "display_name": "Python 3",
   "language": "python",
   "name": "python3"
  },
  "language_info": {
   "codemirror_mode": {
    "name": "ipython",
    "version": 3
   },
   "file_extension": ".py",
   "mimetype": "text/x-python",
   "name": "python",
   "nbconvert_exporter": "python",
   "pygments_lexer": "ipython3",
   "version": "3.6.2"
  }
 },
 "nbformat": 4,
 "nbformat_minor": 2
}
