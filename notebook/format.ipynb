{
 "cells": [
  {
   "cell_type": "code",
   "execution_count": 1,
   "metadata": {},
   "outputs": [
    {
     "name": "stdout",
     "output_type": "stream",
     "text": [
      "00ff\n",
      "<class 'str'>\n"
     ]
    }
   ],
   "source": [
    "s = format(255, '04x')\n",
    "print(s)\n",
    "print(type(s))"
   ]
  },
  {
   "cell_type": "code",
   "execution_count": 2,
   "metadata": {},
   "outputs": [
    {
     "name": "stdout",
     "output_type": "stream",
     "text": [
      "*****center*****\n"
     ]
    }
   ],
   "source": [
    "print(format('center', '*^16'))"
   ]
  },
  {
   "cell_type": "code",
   "execution_count": 3,
   "metadata": {},
   "outputs": [
    {
     "name": "stdout",
     "output_type": "stream",
     "text": [
      "00ff\n",
      "<class 'str'>\n"
     ]
    }
   ],
   "source": [
    "s = '{:04x}'.format(255)\n",
    "print(s)\n",
    "print(type(s))"
   ]
  },
  {
   "cell_type": "code",
   "execution_count": 4,
   "metadata": {},
   "outputs": [
    {
     "name": "stdout",
     "output_type": "stream",
     "text": [
      "*****center*****\n"
     ]
    }
   ],
   "source": [
    "print('{:*^16}'.format('center'))"
   ]
  },
  {
   "cell_type": "code",
   "execution_count": 5,
   "metadata": {},
   "outputs": [
    {
     "name": "stdout",
     "output_type": "stream",
     "text": [
      "100-二百-300\n"
     ]
    }
   ],
   "source": [
    "print('{}-{}-{}'.format('100', '二百', 300))"
   ]
  },
  {
   "cell_type": "code",
   "execution_count": 6,
   "metadata": {},
   "outputs": [
    {
     "name": "stdout",
     "output_type": "stream",
     "text": [
      "foo-bar-foo\n"
     ]
    }
   ],
   "source": [
    "print('{0}-{1}-{0}'.format('foo', 'bar'))"
   ]
  },
  {
   "cell_type": "code",
   "execution_count": 7,
   "metadata": {},
   "outputs": [
    {
     "name": "stdout",
     "output_type": "stream",
     "text": [
      "2018年1月11日\n"
     ]
    }
   ],
   "source": [
    "print('{year}年{month}月{day}日'.format(year=2018, month=1, day=11))"
   ]
  },
  {
   "cell_type": "code",
   "execution_count": 8,
   "metadata": {},
   "outputs": [
    {
     "name": "stdout",
     "output_type": "stream",
     "text": [
      "Alice is 20 years old.Bob is 30 years old.\n"
     ]
    }
   ],
   "source": [
    "person1 = {'name': 'Alice', 'age': 20}\n",
    "person2 = {'name': 'Bob', 'age': 30}\n",
    "print('{0[name]} is {0[age]} years old.{1[name]} is {1[age]} years old.'.format(person1, person2))"
   ]
  },
  {
   "cell_type": "code",
   "execution_count": 9,
   "metadata": {},
   "outputs": [
    {
     "name": "stdout",
     "output_type": "stream",
     "text": [
      "ff\n"
     ]
    }
   ],
   "source": [
    "print('{num:x}'.format(num=255))"
   ]
  },
  {
   "cell_type": "code",
   "execution_count": 10,
   "metadata": {},
   "outputs": [
    {
     "name": "stdout",
     "output_type": "stream",
     "text": [
      "2018年01月11日\n"
     ]
    }
   ],
   "source": [
    "print('{year}年{month:02}月{day:02}日'.format(year=2018, month=1, day=11))"
   ]
  },
  {
   "cell_type": "code",
   "execution_count": 11,
   "metadata": {},
   "outputs": [
    {
     "name": "stdout",
     "output_type": "stream",
     "text": [
      "{}-100-{100}\n"
     ]
    }
   ],
   "source": [
    "print('{{}}-{num}-{{{num}}}'.format(num=100))"
   ]
  },
  {
   "cell_type": "code",
   "execution_count": 12,
   "metadata": {},
   "outputs": [
    {
     "name": "stdout",
     "output_type": "stream",
     "text": [
      "left  : 100       \n",
      "center:    100    \n",
      "right :        100\n"
     ]
    }
   ],
   "source": [
    "print('left  : {:<10}'.format(100))\n",
    "print('center: {:^10}'.format(100))\n",
    "print('right : {:>10}'.format(100))"
   ]
  },
  {
   "cell_type": "code",
   "execution_count": 13,
   "metadata": {},
   "outputs": [
    {
     "name": "stdout",
     "output_type": "stream",
     "text": [
      "left  : 100*******\n",
      "center: aaa100aaaa\n",
      "right : 鬼鬼鬼鬼鬼鬼鬼100\n"
     ]
    }
   ],
   "source": [
    "print('left  : {:*<10}'.format(100))\n",
    "print('center: {:a^10}'.format(100))\n",
    "print('right : {:鬼>10}'.format(100))"
   ]
  },
  {
   "cell_type": "code",
   "execution_count": 14,
   "metadata": {},
   "outputs": [
    {
     "name": "stdout",
     "output_type": "stream",
     "text": [
      "zero padding: 0000000100\n",
      "zero padding: 0000000100\n"
     ]
    }
   ],
   "source": [
    "print('zero padding: {:0>10}'.format(100))\n",
    "print('zero padding: {:010}'.format(100))"
   ]
  },
  {
   "cell_type": "code",
   "execution_count": 15,
   "metadata": {},
   "outputs": [
    {
     "name": "stdout",
     "output_type": "stream",
     "text": [
      "sign: 100\n",
      "sign: -100\n"
     ]
    }
   ],
   "source": [
    "print('sign: {}'.format(100))\n",
    "print('sign: {}'.format(-100))"
   ]
  },
  {
   "cell_type": "code",
   "execution_count": 16,
   "metadata": {},
   "outputs": [
    {
     "name": "stdout",
     "output_type": "stream",
     "text": [
      "sign: +100\n",
      "sign: -100\n"
     ]
    }
   ],
   "source": [
    "print('sign: {:+}'.format(100))\n",
    "print('sign: {:+}'.format(-100))"
   ]
  },
  {
   "cell_type": "code",
   "execution_count": 17,
   "metadata": {},
   "outputs": [
    {
     "name": "stdout",
     "output_type": "stream",
     "text": [
      "sign:  100\n",
      "sign: -100\n"
     ]
    }
   ],
   "source": [
    "print('sign: {: }'.format(100))\n",
    "print('sign: {: }'.format(-100))"
   ]
  },
  {
   "cell_type": "code",
   "execution_count": 18,
   "metadata": {},
   "outputs": [
    {
     "name": "stdout",
     "output_type": "stream",
     "text": [
      "sign: 000100\n",
      "sign: -00100\n"
     ]
    }
   ],
   "source": [
    "print('sign: {:06}'.format(100))\n",
    "print('sign: {:06}'.format(-100))"
   ]
  },
  {
   "cell_type": "code",
   "execution_count": 19,
   "metadata": {},
   "outputs": [
    {
     "name": "stdout",
     "output_type": "stream",
     "text": [
      "sign: +00100\n",
      "sign: -00100\n"
     ]
    }
   ],
   "source": [
    "print('sign: {:+06}'.format(100))\n",
    "print('sign: {:+06}'.format(-100))"
   ]
  },
  {
   "cell_type": "code",
   "execution_count": 20,
   "metadata": {},
   "outputs": [
    {
     "name": "stdout",
     "output_type": "stream",
     "text": [
      "sign:  00100\n",
      "sign: -00100\n"
     ]
    }
   ],
   "source": [
    "print('sign: {: 06}'.format(100))\n",
    "print('sign: {: 06}'.format(-100))"
   ]
  },
  {
   "cell_type": "code",
   "execution_count": 21,
   "metadata": {},
   "outputs": [
    {
     "name": "stdout",
     "output_type": "stream",
     "text": [
      "100,000,000\n"
     ]
    }
   ],
   "source": [
    "print('{:,}'.format(100000000))"
   ]
  },
  {
   "cell_type": "code",
   "execution_count": 22,
   "metadata": {},
   "outputs": [
    {
     "name": "stdout",
     "output_type": "stream",
     "text": [
      "100_000_000\n"
     ]
    }
   ],
   "source": [
    "print('{:_}'.format(100000000))"
   ]
  },
  {
   "cell_type": "code",
   "execution_count": 23,
   "metadata": {},
   "outputs": [
    {
     "name": "stdout",
     "output_type": "stream",
     "text": [
      "bin: 11111111\n",
      "oct: 377\n",
      "dec: 255\n",
      "hex: ff\n",
      "HEX: FF\n"
     ]
    }
   ],
   "source": [
    "print('bin: {:b}'.format(255))\n",
    "print('oct: {:o}'.format(255))\n",
    "print('dec: {:d}'.format(255))\n",
    "print('hex: {:x}'.format(255))\n",
    "print('HEX: {:X}'.format(255))"
   ]
  },
  {
   "cell_type": "code",
   "execution_count": 24,
   "metadata": {},
   "outputs": [
    {
     "name": "stdout",
     "output_type": "stream",
     "text": [
      "bin: 11111111\n",
      "oct: 00000377\n",
      "dec: 00000255\n",
      "hex: 000000ff\n",
      "HEX: 000000FF\n"
     ]
    }
   ],
   "source": [
    "print('bin: {:08b}'.format(255))\n",
    "print('oct: {:08o}'.format(255))\n",
    "print('dec: {:08d}'.format(255))\n",
    "print('hex: {:08x}'.format(255))\n",
    "print('HEX: {:08X}'.format(255))"
   ]
  },
  {
   "cell_type": "code",
   "execution_count": 25,
   "metadata": {},
   "outputs": [
    {
     "name": "stdout",
     "output_type": "stream",
     "text": [
      "bin: 0b11111111\n",
      "oct: 0o00000377\n",
      "dec: 0000000255\n",
      "hex: 0x000000ff\n",
      "HEX: 0X000000FF\n"
     ]
    }
   ],
   "source": [
    "print('bin: {:#010b}'.format(255))\n",
    "print('oct: {:#010o}'.format(255))\n",
    "print('dec: {:#010d}'.format(255))\n",
    "print('hex: {:#010x}'.format(255))\n",
    "print('HEX: {:#010X}'.format(255))"
   ]
  },
  {
   "cell_type": "code",
   "execution_count": 26,
   "metadata": {},
   "outputs": [
    {
     "name": "stdout",
     "output_type": "stream",
     "text": [
      "hex: 000000ff\n",
      "hex: 0000_00ff\n",
      "hex: 0x0000_00ff\n"
     ]
    }
   ],
   "source": [
    "print('hex: {:08x}'.format(255))\n",
    "print('hex: {:09_x}'.format(255))\n",
    "print('hex: {:#011_x}'.format(255))"
   ]
  },
  {
   "cell_type": "code",
   "execution_count": 27,
   "metadata": {
    "collapsed": true
   },
   "outputs": [],
   "source": [
    "# print('hex: {:08x}'.format('255'))\n",
    "# ValueError: Unknown format code 'X' for object of type 'str'"
   ]
  },
  {
   "cell_type": "code",
   "execution_count": 28,
   "metadata": {},
   "outputs": [
    {
     "name": "stdout",
     "output_type": "stream",
     "text": [
      "hex: 000000ff\n"
     ]
    }
   ],
   "source": [
    "print('hex: {:08x}'.format(int('255')))"
   ]
  },
  {
   "cell_type": "code",
   "execution_count": 29,
   "metadata": {},
   "outputs": [
    {
     "name": "stdout",
     "output_type": "stream",
     "text": [
      "1.2\n",
      "1.234\n",
      "1.23400\n"
     ]
    }
   ],
   "source": [
    "print('{:.2}'.format(1.234))\n",
    "print('{:.5}'.format(1.234))\n",
    "print('{:.5f}'.format(1.234))"
   ]
  },
  {
   "cell_type": "code",
   "execution_count": 30,
   "metadata": {},
   "outputs": [
    {
     "name": "stdout",
     "output_type": "stream",
     "text": [
      "0.0001234\n",
      "1.234e-05\n"
     ]
    }
   ],
   "source": [
    "print('{}'.format(0.0001234))\n",
    "print('{}'.format(0.00001234))"
   ]
  },
  {
   "cell_type": "code",
   "execution_count": 31,
   "metadata": {},
   "outputs": [
    {
     "name": "stdout",
     "output_type": "stream",
     "text": [
      "1234000000000000.0\n",
      "1.234e+16\n",
      "12340000000000000000000000\n"
     ]
    }
   ],
   "source": [
    "print('{}'.format(1234000000000000.0))\n",
    "print('{}'.format(12340000000000000.0))\n",
    "print('{}'.format(12340000000000000000000000))"
   ]
  },
  {
   "cell_type": "code",
   "execution_count": 32,
   "metadata": {},
   "outputs": [
    {
     "name": "stdout",
     "output_type": "stream",
     "text": [
      "1.234000e-04\n",
      "1.234000E-04\n"
     ]
    }
   ],
   "source": [
    "print('{:e}'.format(0.0001234))\n",
    "print('{:E}'.format(0.0001234))"
   ]
  },
  {
   "cell_type": "code",
   "execution_count": 33,
   "metadata": {},
   "outputs": [
    {
     "name": "stdout",
     "output_type": "stream",
     "text": [
      "1.2340e-04\n",
      "1.23E-04\n"
     ]
    }
   ],
   "source": [
    "print('{:.4e}'.format(0.0001234))\n",
    "print('{:.2E}'.format(0.0001234))"
   ]
  },
  {
   "cell_type": "code",
   "execution_count": 34,
   "metadata": {},
   "outputs": [
    {
     "name": "stdout",
     "output_type": "stream",
     "text": [
      "12.345000%\n",
      "12.35%\n"
     ]
    }
   ],
   "source": [
    "print('{:%}'.format(0.12345))\n",
    "print('{:.2%}'.format(0.12345))"
   ]
  },
  {
   "cell_type": "code",
   "execution_count": 35,
   "metadata": {},
   "outputs": [
    {
     "name": "stdout",
     "output_type": "stream",
     "text": [
      "1000.000000%\n",
      "1000.00%\n"
     ]
    }
   ],
   "source": [
    "print('{:%}'.format(10))\n",
    "print('{:.2%}'.format(10))"
   ]
  }
 ],
 "metadata": {
  "kernelspec": {
   "display_name": "Python 3",
   "language": "python",
   "name": "python3"
  },
  "language_info": {
   "codemirror_mode": {
    "name": "ipython",
    "version": 3
   },
   "file_extension": ".py",
   "mimetype": "text/x-python",
   "name": "python",
   "nbconvert_exporter": "python",
   "pygments_lexer": "ipython3",
   "version": "3.6.4"
  }
 },
 "nbformat": 4,
 "nbformat_minor": 2
}
