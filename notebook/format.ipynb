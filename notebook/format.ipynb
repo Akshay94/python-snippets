{
 "cells": [
  {
   "cell_type": "code",
   "execution_count": 1,
   "metadata": {
    "collapsed": true
   },
   "outputs": [],
   "source": [
    "# https://docs.python.jp/3/library/string.html#format-string-syntax\n",
    "# https://docs.python.jp/3/library/string.html#formatspec\n",
    "# https://docs.python.jp/3/library/string.html#format-examples"
   ]
  },
  {
   "cell_type": "code",
   "execution_count": 2,
   "metadata": {},
   "outputs": [
    {
     "name": "stdout",
     "output_type": "stream",
     "text": [
      "foo\n"
     ]
    }
   ],
   "source": [
    "print('{}'.format('foo'))"
   ]
  },
  {
   "cell_type": "code",
   "execution_count": 3,
   "metadata": {},
   "outputs": [
    {
     "name": "stdout",
     "output_type": "stream",
     "text": [
      "one, two, three\n"
     ]
    }
   ],
   "source": [
    "print('{}, {}, {}'.format('one', 'two', 'three'))"
   ]
  },
  {
   "cell_type": "code",
   "execution_count": 4,
   "metadata": {},
   "outputs": [
    {
     "name": "stdout",
     "output_type": "stream",
     "text": [
      "foo, bar, foo\n"
     ]
    }
   ],
   "source": [
    "print('{0}, {1}, {0}'.format('foo', 'bar'))"
   ]
  },
  {
   "cell_type": "code",
   "execution_count": 5,
   "metadata": {},
   "outputs": [
    {
     "name": "stdout",
     "output_type": "stream",
     "text": [
      "one, two, one\n"
     ]
    }
   ],
   "source": [
    "print('{word1}, {word2}, {word1}'.format(word1='one', word2='two'))"
   ]
  },
  {
   "cell_type": "code",
   "execution_count": 6,
   "metadata": {},
   "outputs": [
    {
     "name": "stdout",
     "output_type": "stream",
     "text": [
      "Alice is 20 years old. Bob is 30 years old.\n"
     ]
    }
   ],
   "source": [
    "person1 = {'name': 'Alice', 'age': 20}\n",
    "person2 = {'name': 'Bob', 'age': 30}\n",
    "print('{0[name]} is {0[age]} years old. {1[name]} is {1[age]} years old.'.format(person1, person2))"
   ]
  },
  {
   "cell_type": "code",
   "execution_count": 7,
   "metadata": {},
   "outputs": [
    {
     "name": "stdout",
     "output_type": "stream",
     "text": [
      "00123\n"
     ]
    }
   ],
   "source": [
    "print('{number:0>5}'.format(number=123))"
   ]
  },
  {
   "cell_type": "code",
   "execution_count": 8,
   "metadata": {},
   "outputs": [
    {
     "name": "stdout",
     "output_type": "stream",
     "text": [
      "left  : 100       \n",
      "center:    100    \n",
      "right :        100\n"
     ]
    }
   ],
   "source": [
    "i = 100\n",
    "print('left  : {:<10}'.format(i))\n",
    "print('center: {:^10}'.format(i))\n",
    "print('right : {:>10}'.format(i))"
   ]
  },
  {
   "cell_type": "code",
   "execution_count": 9,
   "metadata": {},
   "outputs": [
    {
     "name": "stdout",
     "output_type": "stream",
     "text": [
      "left  : 100*******\n",
      "center: ***100****\n",
      "right : *******100\n"
     ]
    }
   ],
   "source": [
    "print('left  : {:*<10}'.format(i))\n",
    "print('center: {:*^10}'.format(i))\n",
    "print('right : {:*>10}'.format(i))"
   ]
  },
  {
   "cell_type": "code",
   "execution_count": 10,
   "metadata": {},
   "outputs": [
    {
     "name": "stdout",
     "output_type": "stream",
     "text": [
      "zero padding 1: 0000000100\n",
      "zero padding 2: 0000000100\n"
     ]
    }
   ],
   "source": [
    "print('zero padding 1: {:0>10}'.format(i))\n",
    "print('zero padding 2: {:010}'.format(i))"
   ]
  },
  {
   "cell_type": "code",
   "execution_count": 11,
   "metadata": {},
   "outputs": [
    {
     "name": "stdout",
     "output_type": "stream",
     "text": [
      "bin: 11111111\n",
      "oct: 377\n",
      "dec: 255\n",
      "hex: ff\n",
      "HEX: FF\n"
     ]
    }
   ],
   "source": [
    "i = 255\n",
    "print('bin: {:b}'.format(i))\n",
    "print('oct: {:o}'.format(i))\n",
    "print('dec: {:d}'.format(i))\n",
    "print('hex: {:x}'.format(i))\n",
    "print('HEX: {:X}'.format(i))"
   ]
  },
  {
   "cell_type": "code",
   "execution_count": 12,
   "metadata": {},
   "outputs": [
    {
     "name": "stdout",
     "output_type": "stream",
     "text": [
      "bin: 11111111\n",
      "oct: 00000377\n",
      "dec: 00000255\n",
      "hex: 000000ff\n",
      "HEX: 000000FF\n"
     ]
    }
   ],
   "source": [
    "print('bin: {:08b}'.format(i))\n",
    "print('oct: {:08o}'.format(i))\n",
    "print('dec: {:08d}'.format(i))\n",
    "print('hex: {:08x}'.format(i))\n",
    "print('HEX: {:08X}'.format(i))"
   ]
  },
  {
   "cell_type": "code",
   "execution_count": 13,
   "metadata": {},
   "outputs": [
    {
     "name": "stdout",
     "output_type": "stream",
     "text": [
      "100,000,000\n"
     ]
    }
   ],
   "source": [
    "i = 100000000\n",
    "print('{:,}'.format(i))"
   ]
  },
  {
   "cell_type": "code",
   "execution_count": 14,
   "metadata": {},
   "outputs": [
    {
     "name": "stdout",
     "output_type": "stream",
     "text": [
      "1.000000e+08\n",
      "1.000000E+08\n"
     ]
    }
   ],
   "source": [
    "print('{:e}'.format(i))\n",
    "print('{:E}'.format(i))"
   ]
  },
  {
   "cell_type": "code",
   "execution_count": 15,
   "metadata": {},
   "outputs": [
    {
     "name": "stdout",
     "output_type": "stream",
     "text": [
      "0.46\n",
      "0.4567\n",
      "0.45670\n"
     ]
    }
   ],
   "source": [
    "ratio = 0.4567\n",
    "print('{:.2}'.format(ratio))\n",
    "print('{:.5}'.format(ratio))\n",
    "print('{:.5f}'.format(ratio))"
   ]
  },
  {
   "cell_type": "code",
   "execution_count": 16,
   "metadata": {},
   "outputs": [
    {
     "name": "stdout",
     "output_type": "stream",
     "text": [
      "45.670000%\n",
      "45.7%\n"
     ]
    }
   ],
   "source": [
    "print('{:%}'.format(ratio))\n",
    "print('{:.1%}'.format(ratio))"
   ]
  }
 ],
 "metadata": {
  "kernelspec": {
   "display_name": "Python 3",
   "language": "python",
   "name": "python3"
  },
  "language_info": {
   "codemirror_mode": {
    "name": "ipython",
    "version": 3
   },
   "file_extension": ".py",
   "mimetype": "text/x-python",
   "name": "python",
   "nbconvert_exporter": "python",
   "pygments_lexer": "ipython3",
   "version": "3.6.2"
  }
 },
 "nbformat": 4,
 "nbformat_minor": 2
}
