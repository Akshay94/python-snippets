{
 "cells": [
  {
   "cell_type": "code",
   "execution_count": 1,
   "metadata": {
    "collapsed": true
   },
   "outputs": [],
   "source": [
    "import pandas as pd"
   ]
  },
  {
   "cell_type": "code",
   "execution_count": 2,
   "metadata": {},
   "outputs": [
    {
     "name": "stdout",
     "output_type": "stream",
     "text": [
      "       age state  point\n",
      "name                   \n",
      "Alice   24    NY     64\n",
      "Bob     42    CA     92\n"
     ]
    }
   ],
   "source": [
    "df = pd.read_csv('data/src/sample_pandas_normal.csv', index_col=0).head(2)\n",
    "print(df)"
   ]
  },
  {
   "cell_type": "code",
   "execution_count": 3,
   "metadata": {},
   "outputs": [
    {
     "name": "stdout",
     "output_type": "stream",
     "text": [
      "<class 'str'>\n",
      "age\n",
      "======\n",
      "\n",
      "<class 'str'>\n",
      "state\n",
      "======\n",
      "\n",
      "<class 'str'>\n",
      "point\n",
      "======\n",
      "\n"
     ]
    }
   ],
   "source": [
    "for column_name in df:\n",
    "    print(type(column_name))\n",
    "    print(column_name)\n",
    "    print('======\\n')"
   ]
  },
  {
   "cell_type": "code",
   "execution_count": 4,
   "metadata": {},
   "outputs": [
    {
     "name": "stdout",
     "output_type": "stream",
     "text": [
      "<class 'str'>\n",
      "age\n",
      "<class 'pandas.core.series.Series'>\n",
      "name\n",
      "Alice    24\n",
      "Bob      42\n",
      "Name: age, dtype: int64\n",
      "------\n",
      "24\n",
      "24\n",
      "24\n",
      "======\n",
      "\n",
      "<class 'str'>\n",
      "state\n",
      "<class 'pandas.core.series.Series'>\n",
      "name\n",
      "Alice    NY\n",
      "Bob      CA\n",
      "Name: state, dtype: object\n",
      "------\n",
      "NY\n",
      "NY\n",
      "NY\n",
      "======\n",
      "\n",
      "<class 'str'>\n",
      "point\n",
      "<class 'pandas.core.series.Series'>\n",
      "name\n",
      "Alice    64\n",
      "Bob      92\n",
      "Name: point, dtype: int64\n",
      "------\n",
      "64\n",
      "64\n",
      "64\n",
      "======\n",
      "\n"
     ]
    }
   ],
   "source": [
    "for column_name, item in df.iteritems():\n",
    "    print(type(column_name))\n",
    "    print(column_name)\n",
    "    print(type(item))\n",
    "    print(item)\n",
    "    print('------')\n",
    "    \n",
    "    print(item['Alice'])\n",
    "    print(item[0])\n",
    "    print(item.Alice)\n",
    "    print('======\\n')"
   ]
  },
  {
   "cell_type": "code",
   "execution_count": 5,
   "metadata": {},
   "outputs": [
    {
     "name": "stdout",
     "output_type": "stream",
     "text": [
      "<class 'str'>\n",
      "Alice\n",
      "<class 'pandas.core.series.Series'>\n",
      "age      24\n",
      "state    NY\n",
      "point    64\n",
      "Name: Alice, dtype: object\n",
      "------\n",
      "64\n",
      "64\n",
      "64\n",
      "======\n",
      "\n",
      "<class 'str'>\n",
      "Bob\n",
      "<class 'pandas.core.series.Series'>\n",
      "age      42\n",
      "state    CA\n",
      "point    92\n",
      "Name: Bob, dtype: object\n",
      "------\n",
      "92\n",
      "92\n",
      "92\n",
      "======\n",
      "\n"
     ]
    }
   ],
   "source": [
    "for index, row in df.iterrows():\n",
    "    print(type(index))\n",
    "    print(index)\n",
    "    print(type(row))\n",
    "    print(row)\n",
    "    print('------')\n",
    "    \n",
    "    print(row['point'])\n",
    "    print(row[2])\n",
    "    print(row.point)\n",
    "    print('======\\n')"
   ]
  },
  {
   "cell_type": "code",
   "execution_count": 6,
   "metadata": {},
   "outputs": [
    {
     "name": "stdout",
     "output_type": "stream",
     "text": [
      "<class 'pandas.core.frame.Pandas'>\n",
      "Pandas(Index='Alice', age=24, state='NY', point=64)\n",
      "------\n",
      "64\n",
      "64\n",
      "======\n",
      "\n",
      "<class 'pandas.core.frame.Pandas'>\n",
      "Pandas(Index='Bob', age=42, state='CA', point=92)\n",
      "------\n",
      "92\n",
      "92\n",
      "======\n",
      "\n"
     ]
    }
   ],
   "source": [
    "for row in df.itertuples():\n",
    "    print(type(row))\n",
    "    print(row)\n",
    "    print('------')\n",
    "    \n",
    "    print(row[3])\n",
    "    print(row.point)\n",
    "    print('======\\n')"
   ]
  },
  {
   "cell_type": "code",
   "execution_count": 7,
   "metadata": {},
   "outputs": [
    {
     "name": "stdout",
     "output_type": "stream",
     "text": [
      "<class 'tuple'>\n",
      "('Alice', 24, 'NY', 64)\n",
      "------\n",
      "64\n",
      "======\n",
      "\n",
      "<class 'tuple'>\n",
      "('Bob', 42, 'CA', 92)\n",
      "------\n",
      "92\n",
      "======\n",
      "\n"
     ]
    }
   ],
   "source": [
    "for row in df.itertuples(name=None):\n",
    "    print(type(row))\n",
    "    print(row)\n",
    "    print('------')\n",
    "    \n",
    "    print(row[3])\n",
    "    print('======\\n')"
   ]
  },
  {
   "cell_type": "code",
   "execution_count": 8,
   "metadata": {
    "collapsed": true
   },
   "outputs": [],
   "source": [
    "for index, row in df.iterrows():\n",
    "    row.point /= 2"
   ]
  },
  {
   "cell_type": "code",
   "execution_count": 9,
   "metadata": {},
   "outputs": [
    {
     "name": "stdout",
     "output_type": "stream",
     "text": [
      "       age state  point\n",
      "name                   \n",
      "Alice   24    NY     64\n",
      "Bob     42    CA     92\n"
     ]
    }
   ],
   "source": [
    "print(df)"
   ]
  },
  {
   "cell_type": "code",
   "execution_count": 10,
   "metadata": {
    "collapsed": true
   },
   "outputs": [],
   "source": [
    "for index, row in df.iterrows():\n",
    "    df.at[index, 'point'] /= 2"
   ]
  },
  {
   "cell_type": "code",
   "execution_count": 11,
   "metadata": {},
   "outputs": [
    {
     "name": "stdout",
     "output_type": "stream",
     "text": [
      "       age state  point\n",
      "name                   \n",
      "Alice   24    NY     32\n",
      "Bob     42    CA     46\n"
     ]
    }
   ],
   "source": [
    "print(df)"
   ]
  },
  {
   "cell_type": "code",
   "execution_count": 12,
   "metadata": {
    "collapsed": true
   },
   "outputs": [],
   "source": [
    "df['point'] /= 2"
   ]
  },
  {
   "cell_type": "code",
   "execution_count": 13,
   "metadata": {},
   "outputs": [
    {
     "name": "stdout",
     "output_type": "stream",
     "text": [
      "       age state  point\n",
      "name                   \n",
      "Alice   24    NY   16.0\n",
      "Bob     42    CA   23.0\n"
     ]
    }
   ],
   "source": [
    "print(df)"
   ]
  }
 ],
 "metadata": {
  "kernelspec": {
   "display_name": "Python 3",
   "language": "python",
   "name": "python3"
  },
  "language_info": {
   "codemirror_mode": {
    "name": "ipython",
    "version": 3
   },
   "file_extension": ".py",
   "mimetype": "text/x-python",
   "name": "python",
   "nbconvert_exporter": "python",
   "pygments_lexer": "ipython3",
   "version": "3.6.3"
  }
 },
 "nbformat": 4,
 "nbformat_minor": 2
}
