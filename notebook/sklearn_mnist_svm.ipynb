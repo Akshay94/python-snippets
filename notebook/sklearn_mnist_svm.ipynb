{
 "cells": [
  {
   "cell_type": "code",
   "execution_count": 1,
   "metadata": {
    "collapsed": true
   },
   "outputs": [],
   "source": [
    "import pandas as pd\n",
    "from sklearn import datasets, model_selection, svm, metrics"
   ]
  },
  {
   "cell_type": "code",
   "execution_count": 2,
   "metadata": {
    "collapsed": true
   },
   "outputs": [],
   "source": [
    "mnist = datasets.fetch_mldata('MNIST original', data_home='data/src/download/')"
   ]
  },
  {
   "cell_type": "code",
   "execution_count": 3,
   "metadata": {},
   "outputs": [
    {
     "name": "stdout",
     "output_type": "stream",
     "text": [
      "<class 'sklearn.datasets.base.Bunch'>\n",
      "dict_keys(['DESCR', 'COL_NAMES', 'target', 'data'])\n"
     ]
    }
   ],
   "source": [
    "print(type(mnist))\n",
    "print(mnist.keys())"
   ]
  },
  {
   "cell_type": "code",
   "execution_count": 4,
   "metadata": {
    "collapsed": true
   },
   "outputs": [],
   "source": [
    "mnist_data = pd.DataFrame(mnist.data / 255)\n",
    "mnist_label = pd.Series(mnist.target)"
   ]
  },
  {
   "cell_type": "code",
   "execution_count": 5,
   "metadata": {},
   "outputs": [
    {
     "name": "stdout",
     "output_type": "stream",
     "text": [
      "(70000, 784)\n",
      "(70000,)\n"
     ]
    }
   ],
   "source": [
    "print(mnist_data.shape)\n",
    "print(mnist_label.shape)"
   ]
  },
  {
   "cell_type": "code",
   "execution_count": 6,
   "metadata": {},
   "outputs": [
    {
     "name": "stdout",
     "output_type": "stream",
     "text": [
      "0.71\n"
     ]
    }
   ],
   "source": [
    "train_size = 500\n",
    "test_size = 100\n",
    "data_train, data_test, label_train, label_test = model_selection.train_test_split(mnist_data, mnist_label, test_size=test_size, train_size=train_size)\n",
    "\n",
    "clf = svm.SVC()\n",
    "clf.fit(data_train, label_train)\n",
    "pre = clf.predict(data_test)\n",
    "\n",
    "ac_score = metrics.accuracy_score(label_test, pre)\n",
    "print(ac_score)"
   ]
  },
  {
   "cell_type": "code",
   "execution_count": 7,
   "metadata": {
    "collapsed": true
   },
   "outputs": [],
   "source": [
    "import timeit\n",
    "\n",
    "num = 10\n",
    "\n",
    "train_size = 500\n",
    "test_size = 100\n",
    "data_train, data_test, label_train, label_test = model_selection.train_test_split(mnist_data, mnist_label, test_size=test_size, train_size=train_size)"
   ]
  },
  {
   "cell_type": "code",
   "execution_count": 8,
   "metadata": {},
   "outputs": [
    {
     "name": "stdout",
     "output_type": "stream",
     "text": [
      "0.35409306720248424\n",
      "0.77\n"
     ]
    }
   ],
   "source": [
    "clf = svm.SVC()\n",
    "print(timeit.timeit(lambda: clf.fit(data_train, label_train), number=num) / num)\n",
    "pre = clf.predict(data_test)\n",
    "ac_score = metrics.accuracy_score(label_test, pre)\n",
    "print(ac_score)"
   ]
  },
  {
   "cell_type": "code",
   "execution_count": 9,
   "metadata": {},
   "outputs": [
    {
     "name": "stdout",
     "output_type": "stream",
     "text": [
      "0.11930906050256454\n",
      "0.77\n"
     ]
    }
   ],
   "source": [
    "clf = svm.LinearSVC()\n",
    "print(timeit.timeit(lambda: clf.fit(data_train, label_train), number=num) / num)\n",
    "pre = clf.predict(data_test)\n",
    "ac_score = metrics.accuracy_score(label_test, pre)\n",
    "print(ac_score)"
   ]
  },
  {
   "cell_type": "code",
   "execution_count": 10,
   "metadata": {},
   "outputs": [
    {
     "name": "stdout",
     "output_type": "stream",
     "text": [
      "0.8965\n"
     ]
    }
   ],
   "source": [
    "train_size = 10000\n",
    "test_size = 2000\n",
    "data_train, data_test, label_train, label_test = model_selection.train_test_split(mnist_data, mnist_label, test_size=test_size, train_size=train_size)\n",
    "\n",
    "clf = svm.LinearSVC()\n",
    "clf.fit(data_train, label_train)\n",
    "pre = clf.predict(data_test)\n",
    "\n",
    "ac_score = metrics.accuracy_score(label_test, pre)\n",
    "print(ac_score)"
   ]
  },
  {
   "cell_type": "code",
   "execution_count": 11,
   "metadata": {},
   "outputs": [
    {
     "name": "stdout",
     "output_type": "stream",
     "text": [
      "[[162   0   0   2   0   0   0   1   1   0]\n",
      " [  0 249   3   0   0   1   1   1   3   0]\n",
      " [  2   2 183   7   3   1   2   3   4   0]\n",
      " [  1   1  10 178   2   4   0   4   5   2]\n",
      " [  1   2   2   0 158   2   2   0   6   6]\n",
      " [  4   1   2   8   1 160   5   2   2   5]\n",
      " [  3   0   3   1   2   1 176   1   2   0]\n",
      " [  2   0   1   1   3   0   0 187   1  10]\n",
      " [  4   5   2   5   3   3   4   0 167   4]\n",
      " [  0   1   2   1  11   2   0   8   4 173]]\n"
     ]
    }
   ],
   "source": [
    "co_mat = metrics.confusion_matrix(label_test, pre)\n",
    "print(co_mat)"
   ]
  }
 ],
 "metadata": {
  "kernelspec": {
   "display_name": "Python 3",
   "language": "python",
   "name": "python3"
  },
  "language_info": {
   "codemirror_mode": {
    "name": "ipython",
    "version": 3
   },
   "file_extension": ".py",
   "mimetype": "text/x-python",
   "name": "python",
   "nbconvert_exporter": "python",
   "pygments_lexer": "ipython3",
   "version": "3.6.2"
  }
 },
 "nbformat": 4,
 "nbformat_minor": 2
}
