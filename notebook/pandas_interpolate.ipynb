{
 "cells": [
  {
   "cell_type": "code",
   "execution_count": 1,
   "metadata": {},
   "outputs": [],
   "source": [
    "import pandas as pd"
   ]
  },
  {
   "cell_type": "code",
   "execution_count": 2,
   "metadata": {},
   "outputs": [],
   "source": [
    "df = pd.DataFrame({'col1': [0, pd.np.nan, pd.np.nan, 3, 4],\n",
    "                   'col2': [pd.np.nan, 1, 2, pd.np.nan, pd.np.nan],\n",
    "                   'col3': [4, pd.np.nan, pd.np.nan, 7, 10]})"
   ]
  },
  {
   "cell_type": "code",
   "execution_count": 3,
   "metadata": {},
   "outputs": [
    {
     "name": "stdout",
     "output_type": "stream",
     "text": [
      "   col1  col2  col3\n",
      "0   0.0   NaN   4.0\n",
      "1   NaN   1.0   NaN\n",
      "2   NaN   2.0   NaN\n",
      "3   3.0   NaN   7.0\n",
      "4   4.0   NaN  10.0\n"
     ]
    }
   ],
   "source": [
    "print(df)"
   ]
  },
  {
   "cell_type": "code",
   "execution_count": 4,
   "metadata": {},
   "outputs": [
    {
     "name": "stdout",
     "output_type": "stream",
     "text": [
      "   col1  col2  col3\n",
      "0   0.0   NaN   4.0\n",
      "1   1.0   1.0   5.0\n",
      "2   2.0   2.0   6.0\n",
      "3   3.0   2.0   7.0\n",
      "4   4.0   2.0  10.0\n"
     ]
    }
   ],
   "source": [
    "print(df.interpolate())"
   ]
  },
  {
   "cell_type": "code",
   "execution_count": 5,
   "metadata": {},
   "outputs": [
    {
     "name": "stdout",
     "output_type": "stream",
     "text": [
      "   col1  col2  col3\n",
      "0   0.0   2.0   4.0\n",
      "1   NaN   1.0   1.0\n",
      "2   NaN   2.0   2.0\n",
      "3   3.0   5.0   7.0\n",
      "4   4.0   7.0  10.0\n"
     ]
    }
   ],
   "source": [
    "print(df.interpolate(axis=1))"
   ]
  },
  {
   "cell_type": "code",
   "execution_count": 6,
   "metadata": {},
   "outputs": [
    {
     "name": "stdout",
     "output_type": "stream",
     "text": [
      "   col1  col2  col3\n",
      "0   0.0   NaN   4.0\n",
      "1   1.0   1.0   5.0\n",
      "2   NaN   2.0   NaN\n",
      "3   3.0   2.0   7.0\n",
      "4   4.0   NaN  10.0\n"
     ]
    }
   ],
   "source": [
    "print(df.interpolate(limit=1))"
   ]
  },
  {
   "cell_type": "code",
   "execution_count": 7,
   "metadata": {},
   "outputs": [
    {
     "name": "stdout",
     "output_type": "stream",
     "text": [
      "   col1  col2  col3\n",
      "0   0.0   NaN   4.0\n",
      "1   1.0   1.0   5.0\n",
      "2   NaN   2.0   NaN\n",
      "3   3.0   2.0   7.0\n",
      "4   4.0   NaN  10.0\n"
     ]
    }
   ],
   "source": [
    "print(df.interpolate(limit=1, limit_direction='forward'))"
   ]
  },
  {
   "cell_type": "code",
   "execution_count": 8,
   "metadata": {},
   "outputs": [
    {
     "name": "stdout",
     "output_type": "stream",
     "text": [
      "   col1  col2  col3\n",
      "0   0.0   1.0   4.0\n",
      "1   NaN   1.0   NaN\n",
      "2   2.0   2.0   6.0\n",
      "3   3.0   NaN   7.0\n",
      "4   4.0   NaN  10.0\n"
     ]
    }
   ],
   "source": [
    "print(df.interpolate(limit=1, limit_direction='backward'))"
   ]
  },
  {
   "cell_type": "code",
   "execution_count": 9,
   "metadata": {},
   "outputs": [
    {
     "name": "stdout",
     "output_type": "stream",
     "text": [
      "   col1  col2  col3\n",
      "0   0.0   1.0   4.0\n",
      "1   1.0   1.0   5.0\n",
      "2   2.0   2.0   6.0\n",
      "3   3.0   2.0   7.0\n",
      "4   4.0   NaN  10.0\n"
     ]
    }
   ],
   "source": [
    "print(df.interpolate(limit=1, limit_direction='both'))"
   ]
  },
  {
   "cell_type": "code",
   "execution_count": 10,
   "metadata": {},
   "outputs": [
    {
     "name": "stdout",
     "output_type": "stream",
     "text": [
      "   col1  col2  col3\n",
      "0   0.0   1.0   4.0\n",
      "1   1.0   1.0   5.0\n",
      "2   2.0   2.0   6.0\n",
      "3   3.0   2.0   7.0\n",
      "4   4.0   2.0  10.0\n"
     ]
    }
   ],
   "source": [
    "print(df.interpolate(limit_direction='both'))"
   ]
  },
  {
   "cell_type": "code",
   "execution_count": 11,
   "metadata": {},
   "outputs": [
    {
     "name": "stdout",
     "output_type": "stream",
     "text": [
      "   col1  col2  col3\n",
      "0   0.0   NaN   4.0\n",
      "1   1.0   1.0   5.0\n",
      "2   2.0   2.0   6.0\n",
      "3   3.0   NaN   7.0\n",
      "4   4.0   NaN  10.0\n"
     ]
    }
   ],
   "source": [
    "print(df.interpolate(limit_area='inside'))"
   ]
  },
  {
   "cell_type": "code",
   "execution_count": 12,
   "metadata": {},
   "outputs": [
    {
     "name": "stdout",
     "output_type": "stream",
     "text": [
      "   col1  col2  col3\n",
      "0   0.0   NaN   4.0\n",
      "1   NaN   1.0   NaN\n",
      "2   NaN   2.0   NaN\n",
      "3   3.0   2.0   7.0\n",
      "4   4.0   2.0  10.0\n"
     ]
    }
   ],
   "source": [
    "print(df.interpolate(limit_area='outside'))"
   ]
  },
  {
   "cell_type": "code",
   "execution_count": 13,
   "metadata": {},
   "outputs": [
    {
     "name": "stdout",
     "output_type": "stream",
     "text": [
      "   col1  col2  col3\n",
      "0   0.0   1.0   4.0\n",
      "1   NaN   1.0   NaN\n",
      "2   NaN   2.0   NaN\n",
      "3   3.0   2.0   7.0\n",
      "4   4.0   2.0  10.0\n"
     ]
    }
   ],
   "source": [
    "print(df.interpolate(limit_area='outside', limit_direction='both'))"
   ]
  },
  {
   "cell_type": "code",
   "execution_count": 14,
   "metadata": {
    "scrolled": true
   },
   "outputs": [
    {
     "name": "stdout",
     "output_type": "stream",
     "text": [
      "   col1  col2  col3\n",
      "0   0.0   NaN   4.0\n",
      "1   1.0   1.0   5.0\n",
      "2   2.0   2.0   6.0\n",
      "3   3.0   2.0   7.0\n",
      "4   4.0   2.0  10.0\n"
     ]
    }
   ],
   "source": [
    "df_copy = df.copy()\n",
    "df_copy.interpolate(inplace=True)\n",
    "print(df_copy)"
   ]
  },
  {
   "cell_type": "code",
   "execution_count": 15,
   "metadata": {},
   "outputs": [
    {
     "name": "stdout",
     "output_type": "stream",
     "text": [
      "0     0.0\n",
      "2     NaN\n",
      "5     NaN\n",
      "6     NaN\n",
      "8     4.0\n",
      "10    NaN\n",
      "14    NaN\n",
      "dtype: float64\n"
     ]
    }
   ],
   "source": [
    "s = pd.Series([0, pd.np.nan, pd.np.nan, pd.np.nan, 4, pd.np.nan, pd.np.nan],\n",
    "              index=[0, 2, 5, 6, 8, 10, 14])\n",
    "print(s)"
   ]
  },
  {
   "cell_type": "code",
   "execution_count": 16,
   "metadata": {},
   "outputs": [
    {
     "name": "stdout",
     "output_type": "stream",
     "text": [
      "0     0.0\n",
      "2     1.0\n",
      "5     2.0\n",
      "6     3.0\n",
      "8     4.0\n",
      "10    4.0\n",
      "14    4.0\n",
      "dtype: float64\n"
     ]
    }
   ],
   "source": [
    "print(s.interpolate())"
   ]
  },
  {
   "cell_type": "code",
   "execution_count": 17,
   "metadata": {},
   "outputs": [
    {
     "name": "stdout",
     "output_type": "stream",
     "text": [
      "0     0.0\n",
      "2     1.0\n",
      "5     2.5\n",
      "6     3.0\n",
      "8     4.0\n",
      "10    4.0\n",
      "14    4.0\n",
      "dtype: float64\n"
     ]
    }
   ],
   "source": [
    "print(s.interpolate('index'))"
   ]
  },
  {
   "cell_type": "code",
   "execution_count": 18,
   "metadata": {},
   "outputs": [
    {
     "name": "stdout",
     "output_type": "stream",
     "text": [
      "0     0.0\n",
      "2     1.0\n",
      "5     2.5\n",
      "6     3.0\n",
      "8     4.0\n",
      "10    4.0\n",
      "14    4.0\n",
      "dtype: float64\n"
     ]
    }
   ],
   "source": [
    "print(s.interpolate('values'))"
   ]
  },
  {
   "cell_type": "code",
   "execution_count": 19,
   "metadata": {},
   "outputs": [
    {
     "name": "stdout",
     "output_type": "stream",
     "text": [
      "a    0.0\n",
      "b    NaN\n",
      "c    NaN\n",
      "d    NaN\n",
      "e    4.0\n",
      "f    NaN\n",
      "g    NaN\n",
      "dtype: float64\n"
     ]
    }
   ],
   "source": [
    "s.index = list('abcdefg')\n",
    "print(s)"
   ]
  },
  {
   "cell_type": "code",
   "execution_count": 20,
   "metadata": {},
   "outputs": [
    {
     "name": "stdout",
     "output_type": "stream",
     "text": [
      "a    0.0\n",
      "b    1.0\n",
      "c    2.0\n",
      "d    3.0\n",
      "e    4.0\n",
      "f    4.0\n",
      "g    4.0\n",
      "dtype: float64\n"
     ]
    }
   ],
   "source": [
    "print(s.interpolate())"
   ]
  },
  {
   "cell_type": "code",
   "execution_count": 21,
   "metadata": {},
   "outputs": [],
   "source": [
    "# print(s.interpolate('values'))\n",
    "# TypeError: Cannot cast array data from dtype('O') to dtype('float64') according to the rule 'safe'"
   ]
  },
  {
   "cell_type": "code",
   "execution_count": 22,
   "metadata": {},
   "outputs": [],
   "source": [
    "s = pd.Series([0, 10, pd.np.nan, pd.np.nan, 4, pd.np.nan, pd.np.nan],\n",
    "              index=[0, 2, 5, 6, 8, 10, 14])"
   ]
  },
  {
   "cell_type": "code",
   "execution_count": 23,
   "metadata": {},
   "outputs": [
    {
     "name": "stdout",
     "output_type": "stream",
     "text": [
      "0      0.00\n",
      "2     10.00\n",
      "5     13.75\n",
      "6     12.00\n",
      "8      4.00\n",
      "10   -10.00\n",
      "14   -56.00\n",
      "dtype: float64\n"
     ]
    }
   ],
   "source": [
    "print(s.interpolate('spline', order=2))"
   ]
  },
  {
   "cell_type": "code",
   "execution_count": 24,
   "metadata": {},
   "outputs": [],
   "source": [
    "s.index = range(7)"
   ]
  },
  {
   "cell_type": "code",
   "execution_count": 25,
   "metadata": {
    "scrolled": true
   },
   "outputs": [
    {
     "name": "stdout",
     "output_type": "stream",
     "text": [
      "0     0.0\n",
      "1    10.0\n",
      "2    14.0\n",
      "3    12.0\n",
      "4     4.0\n",
      "5   -10.0\n",
      "6   -30.0\n",
      "dtype: float64\n"
     ]
    }
   ],
   "source": [
    "print(s.interpolate('spline', order=2))"
   ]
  },
  {
   "cell_type": "code",
   "execution_count": 26,
   "metadata": {},
   "outputs": [],
   "source": [
    "s.index = list('abcdefg')"
   ]
  },
  {
   "cell_type": "code",
   "execution_count": 27,
   "metadata": {},
   "outputs": [],
   "source": [
    "# print(s.interpolate('spline', order=2))\n",
    "# TypeError: unsupported operand type(s) for -: 'str' and 'str'"
   ]
  }
 ],
 "metadata": {
  "kernelspec": {
   "display_name": "Python 3",
   "language": "python",
   "name": "python3"
  },
  "language_info": {
   "codemirror_mode": {
    "name": "ipython",
    "version": 3
   },
   "file_extension": ".py",
   "mimetype": "text/x-python",
   "name": "python",
   "nbconvert_exporter": "python",
   "pygments_lexer": "ipython3",
   "version": "3.7.0"
  }
 },
 "nbformat": 4,
 "nbformat_minor": 2
}
