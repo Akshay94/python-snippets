{
 "cells": [
  {
   "cell_type": "code",
   "execution_count": 1,
   "metadata": {
    "collapsed": true
   },
   "outputs": [],
   "source": [
    "import pandas as pd"
   ]
  },
  {
   "cell_type": "code",
   "execution_count": 2,
   "metadata": {},
   "outputs": [
    {
     "name": "stdout",
     "output_type": "stream",
     "text": [
      "                         val_1  val_2\n",
      "level_1 level_2 level_3              \n",
      "A0      B0      C0          98     90\n",
      "                C1          44      9\n",
      "        B1      C2          39     17\n",
      "                C3          75     71\n",
      "A1      B2      C0           1     89\n",
      "                C1          54     60\n",
      "        B3      C2          47      6\n",
      "                C3          16      5\n",
      "A2      B0      C0          75     22\n",
      "                C1          19      4\n",
      "        B1      C2          25     52\n",
      "                C3          57     40\n",
      "A3      B2      C0          64     54\n",
      "                C1          27     96\n",
      "        B3      C2         100     77\n",
      "                C3          22     50\n"
     ]
    }
   ],
   "source": [
    "df = pd.read_csv('data/src/sample_multi.csv', index_col=[0, 1, 2])\n",
    "print(df)"
   ]
  },
  {
   "cell_type": "code",
   "execution_count": 3,
   "metadata": {},
   "outputs": [
    {
     "name": "stdout",
     "output_type": "stream",
     "text": [
      "         val_1  val_2\n",
      "level_2              \n",
      "B0         236    125\n",
      "B1         196    180\n",
      "B2         146    299\n",
      "B3         185    138\n"
     ]
    }
   ],
   "source": [
    "print(df.sum(level='level_2'))"
   ]
  },
  {
   "cell_type": "code",
   "execution_count": 4,
   "metadata": {},
   "outputs": [
    {
     "name": "stdout",
     "output_type": "stream",
     "text": [
      "                 val_1  val_2\n",
      "level_2 level_3              \n",
      "B0      C0         173    112\n",
      "        C1          63     13\n",
      "B1      C2          64     69\n",
      "        C3         132    111\n",
      "B2      C0          65    143\n",
      "        C1          81    156\n",
      "B3      C2         147     83\n",
      "        C3          38     55\n"
     ]
    }
   ],
   "source": [
    "print(df.sum(level=['level_2', 'level_3']))"
   ]
  },
  {
   "cell_type": "code",
   "execution_count": 5,
   "metadata": {},
   "outputs": [
    {
     "name": "stdout",
     "output_type": "stream",
     "text": [
      "level_2  level_3\n",
      "B0       C0         98\n",
      "         C1         44\n",
      "B1       C2         39\n",
      "         C3         75\n",
      "Name: val_1, dtype: int64\n"
     ]
    }
   ],
   "source": [
    "print(df.loc['A0', 'val_1'])"
   ]
  },
  {
   "cell_type": "code",
   "execution_count": 6,
   "metadata": {},
   "outputs": [
    {
     "name": "stdout",
     "output_type": "stream",
     "text": [
      "                 val_1  val_2\n",
      "level_2 level_3              \n",
      "B0      C0          98     90\n",
      "        C1          44      9\n",
      "B1      C2          39     17\n",
      "        C3          75     71\n"
     ]
    }
   ],
   "source": [
    "print(df.loc['A0', :])"
   ]
  },
  {
   "cell_type": "code",
   "execution_count": 7,
   "metadata": {},
   "outputs": [
    {
     "name": "stdout",
     "output_type": "stream",
     "text": [
      "                 val_1  val_2\n",
      "level_2 level_3              \n",
      "B0      C0          98     90\n",
      "        C1          44      9\n",
      "B1      C2          39     17\n",
      "        C3          75     71\n"
     ]
    }
   ],
   "source": [
    "print(df.loc['A0'])"
   ]
  },
  {
   "cell_type": "code",
   "execution_count": 8,
   "metadata": {
    "scrolled": true
   },
   "outputs": [
    {
     "name": "stdout",
     "output_type": "stream",
     "text": [
      "                         val_1  val_2\n",
      "level_1 level_2 level_3              \n",
      "A0      B0      C0          98     90\n",
      "                C1          44      9\n",
      "        B1      C2          39     17\n",
      "                C3          75     71\n",
      "A1      B2      C0           1     89\n",
      "                C1          54     60\n",
      "        B3      C2          47      6\n",
      "                C3          16      5\n",
      "A2      B0      C0          75     22\n",
      "                C1          19      4\n",
      "        B1      C2          25     52\n",
      "                C3          57     40\n"
     ]
    }
   ],
   "source": [
    "print(df.loc['A0':'A2', :])"
   ]
  },
  {
   "cell_type": "code",
   "execution_count": 9,
   "metadata": {},
   "outputs": [
    {
     "name": "stdout",
     "output_type": "stream",
     "text": [
      "                         val_1  val_2\n",
      "level_1 level_2 level_3              \n",
      "A0      B0      C0          98     90\n",
      "                C1          44      9\n",
      "        B1      C2          39     17\n",
      "                C3          75     71\n",
      "A2      B0      C0          75     22\n",
      "                C1          19      4\n",
      "        B1      C2          25     52\n",
      "                C3          57     40\n"
     ]
    }
   ],
   "source": [
    "print(df.loc[['A0', 'A2'], :])"
   ]
  },
  {
   "cell_type": "code",
   "execution_count": 10,
   "metadata": {},
   "outputs": [
    {
     "name": "stdout",
     "output_type": "stream",
     "text": [
      "         val_1  val_2\n",
      "level_3              \n",
      "C2          39     17\n",
      "C3          75     71\n"
     ]
    }
   ],
   "source": [
    "print(df.loc[('A0', 'B1'), :])"
   ]
  },
  {
   "cell_type": "code",
   "execution_count": 11,
   "metadata": {},
   "outputs": [
    {
     "name": "stdout",
     "output_type": "stream",
     "text": [
      "val_1    39\n",
      "val_2    17\n",
      "Name: (A0, B1, C2), dtype: int64\n"
     ]
    }
   ],
   "source": [
    "print(df.loc[('A0', 'B1', 'C2'), :])"
   ]
  },
  {
   "cell_type": "code",
   "execution_count": 12,
   "metadata": {},
   "outputs": [
    {
     "name": "stdout",
     "output_type": "stream",
     "text": [
      "                         val_1  val_2\n",
      "level_1 level_2 level_3              \n",
      "A0      B1      C2          39     17\n",
      "                C3          75     71\n",
      "A2      B1      C2          25     52\n",
      "                C3          57     40\n"
     ]
    }
   ],
   "source": [
    "# print(df.loc[(:, 'B1'), :]) => SyntaxError\n",
    "print(df.loc[(slice(None), 'B1'), :])"
   ]
  },
  {
   "cell_type": "code",
   "execution_count": 13,
   "metadata": {},
   "outputs": [
    {
     "name": "stdout",
     "output_type": "stream",
     "text": [
      "                         val_1  val_2\n",
      "level_1 level_2 level_3              \n",
      "A0      B1      C2          39     17\n",
      "                C3          75     71\n",
      "A2      B1      C2          25     52\n",
      "                C3          57     40\n"
     ]
    }
   ],
   "source": [
    "print(df.loc[pd.IndexSlice[:, 'B1'], :])"
   ]
  },
  {
   "cell_type": "code",
   "execution_count": 14,
   "metadata": {},
   "outputs": [
    {
     "name": "stdout",
     "output_type": "stream",
     "text": [
      "                 val_1  val_2\n",
      "level_1 level_3              \n",
      "A0      C2          39     17\n",
      "        C3          75     71\n",
      "A2      C2          25     52\n",
      "        C3          57     40\n"
     ]
    }
   ],
   "source": [
    "print(df.xs('B1', level='level_2'))"
   ]
  },
  {
   "cell_type": "code",
   "execution_count": 15,
   "metadata": {},
   "outputs": [
    {
     "name": "stdout",
     "output_type": "stream",
     "text": [
      "         val_1  val_2\n",
      "level_1              \n",
      "A0          39     17\n",
      "A2          25     52\n"
     ]
    }
   ],
   "source": [
    "print(df.xs(['B1', 'C2'], level=['level_2', 'level_3']))"
   ]
  },
  {
   "cell_type": "code",
   "execution_count": 16,
   "metadata": {},
   "outputs": [
    {
     "name": "stdout",
     "output_type": "stream",
     "text": [
      "                         val_1  val_2\n",
      "level_1 level_2 level_3              \n",
      "A0      B1      C2          39     17\n",
      "                C3          75     71\n",
      "A1      B2      C0           1     89\n",
      "                C1          54     60\n",
      "A2      B1      C2          25     52\n",
      "                C3          57     40\n",
      "A3      B2      C0          64     54\n",
      "                C1          27     96\n"
     ]
    }
   ],
   "source": [
    "# print(df.xs(['B1', 'B2'], level='level_2')) => KeyError\n",
    "print(df.loc[pd.IndexSlice[:, ['B1', 'B2']], :])"
   ]
  }
 ],
 "metadata": {
  "kernelspec": {
   "display_name": "Python 3",
   "language": "python",
   "name": "python3"
  },
  "language_info": {
   "codemirror_mode": {
    "name": "ipython",
    "version": 3
   },
   "file_extension": ".py",
   "mimetype": "text/x-python",
   "name": "python",
   "nbconvert_exporter": "python",
   "pygments_lexer": "ipython3",
   "version": "3.6.4"
  }
 },
 "nbformat": 4,
 "nbformat_minor": 2
}
