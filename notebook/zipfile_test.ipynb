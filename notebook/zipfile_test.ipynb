{
 "cells": [
  {
   "cell_type": "code",
   "execution_count": 1,
   "metadata": {
    "collapsed": true
   },
   "outputs": [],
   "source": [
    "import zipfile"
   ]
  },
  {
   "cell_type": "code",
   "execution_count": 2,
   "metadata": {
    "collapsed": true
   },
   "outputs": [],
   "source": [
    "with zipfile.ZipFile('data/temp/new_comp.zip', 'w', compression=zipfile.ZIP_DEFLATED) as new_zip:\n",
    "    new_zip.write('data/temp/test1.txt', arcname='test1.txt')\n",
    "    new_zip.write('data/temp/test2.txt', arcname='zipdir/test2.txt')\n",
    "    new_zip.write('data/temp/test3.txt', arcname='zipdir/sub_dir/test3.txt')"
   ]
  },
  {
   "cell_type": "code",
   "execution_count": 3,
   "metadata": {},
   "outputs": [],
   "source": [
    "with zipfile.ZipFile('data/temp/new_comp_single.zip', 'w') as new_zip:\n",
    "    new_zip.write('data/temp/test1.txt', arcname='test1.txt', compress_type=zipfile.ZIP_DEFLATED)\n",
    "    new_zip.write('data/temp/test2.txt', arcname='zipdir/test2.txt')\n",
    "    new_zip.write('data/temp/test3.txt', arcname='zipdir/sub_dir/test3.txt')"
   ]
  },
  {
   "cell_type": "code",
   "execution_count": 4,
   "metadata": {
    "collapsed": true
   },
   "outputs": [],
   "source": [
    "with zipfile.ZipFile('data/temp/new_comp.zip', 'a') as existing_zip:\n",
    "    existing_zip.write('data/temp/test4.txt', arcname='test4.txt')"
   ]
  },
  {
   "cell_type": "code",
   "execution_count": 5,
   "metadata": {},
   "outputs": [
    {
     "name": "stdout",
     "output_type": "stream",
     "text": [
      "['test1.txt', 'zipdir/test2.txt', 'zipdir/sub_dir/test3.txt', 'test4.txt']\n"
     ]
    }
   ],
   "source": [
    "with zipfile.ZipFile('data/temp/new_comp.zip') as existing_zip:\n",
    "    print(existing_zip.namelist())"
   ]
  },
  {
   "cell_type": "code",
   "execution_count": 6,
   "metadata": {},
   "outputs": [],
   "source": [
    "with zipfile.ZipFile('data/temp/new_comp.zip') as existing_zip:\n",
    "    existing_zip.extractall('data/temp/ext')"
   ]
  },
  {
   "cell_type": "code",
   "execution_count": 7,
   "metadata": {
    "collapsed": true
   },
   "outputs": [],
   "source": [
    "with zipfile.ZipFile('data/temp/new_comp_with_pass.zip') as pass_zip:\n",
    "    pass_zip.extractall('data/temp/ext_pass', pwd='password')"
   ]
  },
  {
   "cell_type": "code",
   "execution_count": 8,
   "metadata": {},
   "outputs": [],
   "source": [
    "with zipfile.ZipFile('data/temp/new_comp.zip') as existing_zip:\n",
    "    existing_zip.extract('test1.txt', 'data/temp/ext2')"
   ]
  },
  {
   "cell_type": "code",
   "execution_count": 9,
   "metadata": {
    "collapsed": true
   },
   "outputs": [],
   "source": [
    "with zipfile.ZipFile('data/temp/new_comp_with_pass.zip') as pass_zip:\n",
    "    pass_zip.extract('test1.txt', 'data/temp/ext_pass2', pwd='password')"
   ]
  }
 ],
 "metadata": {
  "kernelspec": {
   "display_name": "Python 3",
   "language": "python",
   "name": "python3"
  },
  "language_info": {
   "codemirror_mode": {
    "name": "ipython",
    "version": 3
   },
   "file_extension": ".py",
   "mimetype": "text/x-python",
   "name": "python",
   "nbconvert_exporter": "python",
   "pygments_lexer": "ipython3",
   "version": "3.6.4"
  }
 },
 "nbformat": 4,
 "nbformat_minor": 2
}
