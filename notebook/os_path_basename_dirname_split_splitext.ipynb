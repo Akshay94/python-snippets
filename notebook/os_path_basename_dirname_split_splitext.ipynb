{
 "cells": [
  {
   "cell_type": "code",
   "execution_count": 1,
   "metadata": {
    "collapsed": true
   },
   "outputs": [],
   "source": [
    "import os"
   ]
  },
  {
   "cell_type": "code",
   "execution_count": 2,
   "metadata": {
    "collapsed": true
   },
   "outputs": [],
   "source": [
    "filepath = './dir/subdir/filename.ext'"
   ]
  },
  {
   "cell_type": "code",
   "execution_count": 3,
   "metadata": {},
   "outputs": [
    {
     "name": "stdout",
     "output_type": "stream",
     "text": [
      "/\n"
     ]
    }
   ],
   "source": [
    "print(os.sep)"
   ]
  },
  {
   "cell_type": "code",
   "execution_count": 4,
   "metadata": {},
   "outputs": [
    {
     "name": "stdout",
     "output_type": "stream",
     "text": [
      "True\n"
     ]
    }
   ],
   "source": [
    "print(os.sep is os.path.sep)"
   ]
  },
  {
   "cell_type": "code",
   "execution_count": 5,
   "metadata": {},
   "outputs": [
    {
     "name": "stdout",
     "output_type": "stream",
     "text": [
      "filename.ext\n"
     ]
    }
   ],
   "source": [
    "basename = os.path.basename(filepath)\n",
    "\n",
    "print(basename)"
   ]
  },
  {
   "cell_type": "code",
   "execution_count": 6,
   "metadata": {},
   "outputs": [
    {
     "name": "stdout",
     "output_type": "stream",
     "text": [
      "<class 'str'>\n"
     ]
    }
   ],
   "source": [
    "print(type(basename))"
   ]
  },
  {
   "cell_type": "code",
   "execution_count": 7,
   "metadata": {},
   "outputs": [
    {
     "name": "stdout",
     "output_type": "stream",
     "text": [
      "./dir/subdir\n"
     ]
    }
   ],
   "source": [
    "dirname = os.path.dirname(filepath)\n",
    "\n",
    "print(dirname)"
   ]
  },
  {
   "cell_type": "code",
   "execution_count": 8,
   "metadata": {},
   "outputs": [
    {
     "name": "stdout",
     "output_type": "stream",
     "text": [
      "<class 'str'>\n"
     ]
    }
   ],
   "source": [
    "print(type(dirname))"
   ]
  },
  {
   "cell_type": "code",
   "execution_count": 9,
   "metadata": {},
   "outputs": [
    {
     "name": "stdout",
     "output_type": "stream",
     "text": [
      "subdir\n"
     ]
    }
   ],
   "source": [
    "subdirname = os.path.basename(os.path.dirname(filepath))\n",
    "\n",
    "print(subdirname)"
   ]
  },
  {
   "cell_type": "code",
   "execution_count": 10,
   "metadata": {},
   "outputs": [
    {
     "name": "stdout",
     "output_type": "stream",
     "text": [
      "('./dir/subdir', 'filename.ext')\n"
     ]
    }
   ],
   "source": [
    "base_dir_pair = os.path.split(filepath)\n",
    "\n",
    "print(base_dir_pair)"
   ]
  },
  {
   "cell_type": "code",
   "execution_count": 11,
   "metadata": {},
   "outputs": [
    {
     "name": "stdout",
     "output_type": "stream",
     "text": [
      "<class 'tuple'>\n"
     ]
    }
   ],
   "source": [
    "print(type(base_dir_pair))"
   ]
  },
  {
   "cell_type": "code",
   "execution_count": 12,
   "metadata": {},
   "outputs": [
    {
     "name": "stdout",
     "output_type": "stream",
     "text": [
      "True\n",
      "True\n"
     ]
    }
   ],
   "source": [
    "print(os.path.split(filepath)[0] == os.path.dirname(filepath))\n",
    "print(os.path.split(filepath)[1] == os.path.basename(filepath))"
   ]
  },
  {
   "cell_type": "code",
   "execution_count": 13,
   "metadata": {},
   "outputs": [
    {
     "name": "stdout",
     "output_type": "stream",
     "text": [
      "./dir/subdir\n",
      "filename.ext\n"
     ]
    }
   ],
   "source": [
    "dirname, basename = os.path.split(filepath)\n",
    "\n",
    "print(dirname)\n",
    "print(basename)"
   ]
  },
  {
   "cell_type": "code",
   "execution_count": 14,
   "metadata": {},
   "outputs": [
    {
     "name": "stdout",
     "output_type": "stream",
     "text": [
      "('../dir', 'subdir')\n"
     ]
    }
   ],
   "source": [
    "dirpath_without_sep = '../dir/subdir'\n",
    "\n",
    "print(os.path.split(dirpath_without_sep))"
   ]
  },
  {
   "cell_type": "code",
   "execution_count": 15,
   "metadata": {},
   "outputs": [
    {
     "name": "stdout",
     "output_type": "stream",
     "text": [
      "subdir\n"
     ]
    }
   ],
   "source": [
    "print(os.path.basename(dirpath_without_sep))"
   ]
  },
  {
   "cell_type": "code",
   "execution_count": 16,
   "metadata": {},
   "outputs": [
    {
     "name": "stdout",
     "output_type": "stream",
     "text": [
      "('../dir/subdir', '')\n"
     ]
    }
   ],
   "source": [
    "dirpath_with_sep = '../dir/subdir/'\n",
    "\n",
    "print(os.path.split(dirpath_with_sep))"
   ]
  },
  {
   "cell_type": "code",
   "execution_count": 17,
   "metadata": {},
   "outputs": [
    {
     "name": "stdout",
     "output_type": "stream",
     "text": [
      "subdir\n"
     ]
    }
   ],
   "source": [
    "print(os.path.basename(os.path.dirname(dirpath_with_sep)))"
   ]
  },
  {
   "cell_type": "code",
   "execution_count": 18,
   "metadata": {},
   "outputs": [
    {
     "name": "stdout",
     "output_type": "stream",
     "text": [
      "('./dir/subdir/filename', '.ext')\n"
     ]
    }
   ],
   "source": [
    "root_ext_pair = os.path.splitext(filepath)\n",
    "\n",
    "print(root_ext_pair)"
   ]
  },
  {
   "cell_type": "code",
   "execution_count": 19,
   "metadata": {},
   "outputs": [
    {
     "name": "stdout",
     "output_type": "stream",
     "text": [
      "<class 'tuple'>\n"
     ]
    }
   ],
   "source": [
    "print(type(root_ext_pair))"
   ]
  },
  {
   "cell_type": "code",
   "execution_count": 20,
   "metadata": {},
   "outputs": [
    {
     "name": "stdout",
     "output_type": "stream",
     "text": [
      "./dir/subdir/filename.ext\n"
     ]
    }
   ],
   "source": [
    "root, ext = os.path.splitext(filepath)\n",
    "\n",
    "path = root + ext\n",
    "\n",
    "print(path)"
   ]
  },
  {
   "cell_type": "code",
   "execution_count": 21,
   "metadata": {},
   "outputs": [
    {
     "name": "stdout",
     "output_type": "stream",
     "text": [
      "./dir/subdir/filename.jpg\n"
     ]
    }
   ],
   "source": [
    "other_ext_filepath = os.path.splitext(filepath)[0] + '.jpg'\n",
    "\n",
    "print(other_ext_filepath)"
   ]
  },
  {
   "cell_type": "code",
   "execution_count": 22,
   "metadata": {},
   "outputs": [
    {
     "name": "stdout",
     "output_type": "stream",
     "text": [
      "ext\n"
     ]
    }
   ],
   "source": [
    "ext_without_period = os.path.splitext(filepath)[1][1:]\n",
    "\n",
    "print(ext_without_period)"
   ]
  },
  {
   "cell_type": "code",
   "execution_count": 23,
   "metadata": {},
   "outputs": [
    {
     "name": "stdout",
     "output_type": "stream",
     "text": [
      "dir/subdir/filename.ext\n"
     ]
    }
   ],
   "source": [
    "path = os.path.join('dir', 'subdir', 'filename.ext')\n",
    "print(path)"
   ]
  },
  {
   "cell_type": "code",
   "execution_count": 24,
   "metadata": {},
   "outputs": [
    {
     "name": "stdout",
     "output_type": "stream",
     "text": [
      "./dir/subdir/other_file.ext\n"
     ]
    }
   ],
   "source": [
    "other_filepath = os.path.join(os.path.dirname(filepath), 'other_file.ext')\n",
    "\n",
    "print(other_filepath)"
   ]
  }
 ],
 "metadata": {
  "kernelspec": {
   "display_name": "Python 3",
   "language": "python",
   "name": "python3"
  },
  "language_info": {
   "codemirror_mode": {
    "name": "ipython",
    "version": 3
   },
   "file_extension": ".py",
   "mimetype": "text/x-python",
   "name": "python",
   "nbconvert_exporter": "python",
   "pygments_lexer": "ipython3",
   "version": "3.6.5"
  }
 },
 "nbformat": 4,
 "nbformat_minor": 2
}
