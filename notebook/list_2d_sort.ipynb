{
 "cells": [
  {
   "cell_type": "code",
   "execution_count": 1,
   "metadata": {
    "collapsed": true
   },
   "outputs": [],
   "source": [
    "import pprint"
   ]
  },
  {
   "cell_type": "code",
   "execution_count": 2,
   "metadata": {},
   "outputs": [
    {
     "name": "stdout",
     "output_type": "stream",
     "text": [
      "True\n"
     ]
    }
   ],
   "source": [
    "print([100] > [-100])"
   ]
  },
  {
   "cell_type": "code",
   "execution_count": 3,
   "metadata": {},
   "outputs": [
    {
     "name": "stdout",
     "output_type": "stream",
     "text": [
      "True\n"
     ]
    }
   ],
   "source": [
    "print([1, 2, 100] > [1, 2, -100])"
   ]
  },
  {
   "cell_type": "code",
   "execution_count": 4,
   "metadata": {},
   "outputs": [
    {
     "name": "stdout",
     "output_type": "stream",
     "text": [
      "False\n"
     ]
    }
   ],
   "source": [
    "print([1, 2, 100] > [1, 100])"
   ]
  },
  {
   "cell_type": "code",
   "execution_count": 5,
   "metadata": {},
   "outputs": [
    {
     "name": "stdout",
     "output_type": "stream",
     "text": [
      "[[2, 30, 100],\n",
      " [1, 20, 300],\n",
      " [3, 10, 200]]\n"
     ]
    }
   ],
   "source": [
    "l_2d = [[2, 30, 100], [1, 20, 300], [3, 10, 200]]\n",
    "\n",
    "pprint.pprint(l_2d, width=40)"
   ]
  },
  {
   "cell_type": "code",
   "execution_count": 6,
   "metadata": {},
   "outputs": [
    {
     "name": "stdout",
     "output_type": "stream",
     "text": [
      "[[1, 20, 300],\n",
      " [2, 30, 100],\n",
      " [3, 10, 200]]\n"
     ]
    }
   ],
   "source": [
    "l_2d.sort()\n",
    "\n",
    "pprint.pprint(l_2d, width=40)"
   ]
  },
  {
   "cell_type": "code",
   "execution_count": 7,
   "metadata": {},
   "outputs": [
    {
     "name": "stdout",
     "output_type": "stream",
     "text": [
      "[[3, 10, 200],\n",
      " [1, 20, 300],\n",
      " [2, 30, 100]]\n"
     ]
    }
   ],
   "source": [
    "l_2d.sort(key=lambda x: x[1])\n",
    "\n",
    "pprint.pprint(l_2d, width=40)"
   ]
  },
  {
   "cell_type": "code",
   "execution_count": 8,
   "metadata": {},
   "outputs": [
    {
     "name": "stdout",
     "output_type": "stream",
     "text": [
      "[[1, 20, 300],\n",
      " [3, 10, 200],\n",
      " [2, 30, 100]]\n"
     ]
    }
   ],
   "source": [
    "l_2d.sort(key=lambda x: x[2], reverse=True)\n",
    "\n",
    "pprint.pprint(l_2d, width=40)"
   ]
  },
  {
   "cell_type": "code",
   "execution_count": 9,
   "metadata": {},
   "outputs": [
    {
     "name": "stdout",
     "output_type": "stream",
     "text": [
      "[[3, 10, 200],\n",
      " [2, 30, 100],\n",
      " [1, 20, 300]]\n"
     ]
    }
   ],
   "source": [
    "l_sorted = sorted(l_2d, key=lambda x: x[0], reverse=True)\n",
    "\n",
    "pprint.pprint(l_sorted, width=40)"
   ]
  },
  {
   "cell_type": "code",
   "execution_count": 10,
   "metadata": {},
   "outputs": [
    {
     "name": "stdout",
     "output_type": "stream",
     "text": [
      "[[[0, 1, 2], [2, 30, 100]],\n",
      " [[3, 4, 5], [1, 20, 300]],\n",
      " [[6, 7, 8], [3, 10, 200]]]\n"
     ]
    }
   ],
   "source": [
    "l_3d = [[[0, 1, 2], [2, 30, 100]], [[3, 4, 5], [1, 20, 300]], [[6, 7, 8], [3, 10, 200]]]\n",
    "\n",
    "pprint.pprint(l_3d, width=40)"
   ]
  },
  {
   "cell_type": "code",
   "execution_count": 11,
   "metadata": {},
   "outputs": [
    {
     "name": "stdout",
     "output_type": "stream",
     "text": [
      "[[[3, 4, 5], [1, 20, 300]],\n",
      " [[0, 1, 2], [2, 30, 100]],\n",
      " [[6, 7, 8], [3, 10, 200]]]\n"
     ]
    }
   ],
   "source": [
    "l_sorted = sorted(l_3d, key=lambda x: x[1][0])\n",
    "\n",
    "pprint.pprint(l_sorted, width=40)"
   ]
  }
 ],
 "metadata": {
  "kernelspec": {
   "display_name": "Python 3",
   "language": "python",
   "name": "python3"
  },
  "language_info": {
   "codemirror_mode": {
    "name": "ipython",
    "version": 3
   },
   "file_extension": ".py",
   "mimetype": "text/x-python",
   "name": "python",
   "nbconvert_exporter": "python",
   "pygments_lexer": "ipython3",
   "version": "3.6.5"
  }
 },
 "nbformat": 4,
 "nbformat_minor": 2
}
