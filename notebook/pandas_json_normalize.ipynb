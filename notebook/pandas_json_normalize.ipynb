{
 "cells": [
  {
   "cell_type": "code",
   "execution_count": 1,
   "metadata": {
    "collapsed": true
   },
   "outputs": [],
   "source": [
    "import pandas as pd"
   ]
  },
  {
   "cell_type": "code",
   "execution_count": 2,
   "metadata": {
    "collapsed": true
   },
   "outputs": [],
   "source": [
    "l = [{'name': 'Alice', 'age': 25, 'id': {'x': 2, 'y': 8}},\n",
    "     {'name': 'Bob', 'id': {'x': 10, 'y': 4}}]"
   ]
  },
  {
   "cell_type": "code",
   "execution_count": 3,
   "metadata": {
    "collapsed": true
   },
   "outputs": [],
   "source": [
    "df = pd.io.json.json_normalize(l)"
   ]
  },
  {
   "cell_type": "code",
   "execution_count": 4,
   "metadata": {},
   "outputs": [
    {
     "name": "stdout",
     "output_type": "stream",
     "text": [
      "    age  id.x  id.y   name\n",
      "0  25.0     2     8  Alice\n",
      "1   NaN    10     4    Bob\n"
     ]
    }
   ],
   "source": [
    "print(df)"
   ]
  },
  {
   "cell_type": "code",
   "execution_count": 5,
   "metadata": {
    "collapsed": true
   },
   "outputs": [],
   "source": [
    "df_sep = pd.io.json.json_normalize(l, sep='-')"
   ]
  },
  {
   "cell_type": "code",
   "execution_count": 6,
   "metadata": {},
   "outputs": [
    {
     "name": "stdout",
     "output_type": "stream",
     "text": [
      "    age  id-x  id-y   name\n",
      "0  25.0     2     8  Alice\n",
      "1   NaN    10     4    Bob\n"
     ]
    }
   ],
   "source": [
    "print(df_sep)"
   ]
  },
  {
   "cell_type": "code",
   "execution_count": 7,
   "metadata": {
    "collapsed": true
   },
   "outputs": [],
   "source": [
    "ll = [{'label': 'X',\n",
    "       'info' : {'n': 'nx', 'm': 'mx'},\n",
    "       'data': [{'a': 1, 'b': 2},\n",
    "                {'a': 3, 'b': 4}]},\n",
    "      {'label': 'Y',\n",
    "       'info' : {'n': 'ny', 'm': 'my'},\n",
    "       'data': [{'a': 10, 'b': 20},\n",
    "                {'a': 30, 'b': 40}]}]"
   ]
  },
  {
   "cell_type": "code",
   "execution_count": 8,
   "metadata": {
    "collapsed": true
   },
   "outputs": [],
   "source": [
    "df_l = pd.io.json.json_normalize(ll, record_path='data')"
   ]
  },
  {
   "cell_type": "code",
   "execution_count": 9,
   "metadata": {},
   "outputs": [
    {
     "name": "stdout",
     "output_type": "stream",
     "text": [
      "    a   b\n",
      "0   1   2\n",
      "1   3   4\n",
      "2  10  20\n",
      "3  30  40\n"
     ]
    }
   ],
   "source": [
    "print(df_l)"
   ]
  },
  {
   "cell_type": "code",
   "execution_count": 10,
   "metadata": {
    "collapsed": true
   },
   "outputs": [],
   "source": [
    "df_lm = pd.io.json.json_normalize(ll, record_path='data',\n",
    "                                  meta=['label', ['info', 'n'], ['info', 'm']],\n",
    "                                  sep='_')"
   ]
  },
  {
   "cell_type": "code",
   "execution_count": 11,
   "metadata": {},
   "outputs": [
    {
     "name": "stdout",
     "output_type": "stream",
     "text": [
      "    a   b label info_n info_m\n",
      "0   1   2     X     nx     mx\n",
      "1   3   4     X     nx     mx\n",
      "2  10  20     Y     ny     my\n",
      "3  30  40     Y     ny     my\n"
     ]
    }
   ],
   "source": [
    "print(df_lm)"
   ]
  }
 ],
 "metadata": {
  "kernelspec": {
   "display_name": "Python 3",
   "language": "python",
   "name": "python3"
  },
  "language_info": {
   "codemirror_mode": {
    "name": "ipython",
    "version": 3
   },
   "file_extension": ".py",
   "mimetype": "text/x-python",
   "name": "python",
   "nbconvert_exporter": "python",
   "pygments_lexer": "ipython3",
   "version": "3.6.5"
  }
 },
 "nbformat": 4,
 "nbformat_minor": 2
}
